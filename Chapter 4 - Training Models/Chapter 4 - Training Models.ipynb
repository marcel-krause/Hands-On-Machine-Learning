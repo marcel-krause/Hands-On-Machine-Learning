{
 "cells": [
  {
   "cell_type": "markdown",
   "metadata": {},
   "source": [
    "# Chapter 4 - Training Models"
   ]
  },
  {
   "cell_type": "code",
   "execution_count": 35,
   "metadata": {},
   "outputs": [],
   "source": [
    "from sklearn.linear_model import LinearRegression, SGDRegressor, Ridge, Lasso, ElasticNet\n",
    "from sklearn.preprocessing import PolynomialFeatures, StandardScaler\n",
    "from sklearn.metrics import mean_squared_error\n",
    "from sklearn.model_selection import train_test_split\n",
    "from sklearn.pipeline import Pipeline\n",
    "from sklearn.base import clone\n",
    "import numpy as np\n",
    "import matplotlib.pyplot as plt"
   ]
  },
  {
   "cell_type": "markdown",
   "metadata": {},
   "source": [
    "## Linear Regression"
   ]
  },
  {
   "cell_type": "markdown",
   "metadata": {},
   "source": [
    "### Direct computation"
   ]
  },
  {
   "cell_type": "markdown",
   "metadata": {},
   "source": [
    "We can perform linear regression directly with scikit-learn. First, create some randomized data:"
   ]
  },
  {
   "cell_type": "code",
   "execution_count": 2,
   "metadata": {},
   "outputs": [],
   "source": [
    "X = 2*np.random.rand(100,1)\n",
    "X_b = np.c_[np.ones((100,1)), X]\n",
    "y = 4 + 3*X + np.random.rand(100,1)"
   ]
  },
  {
   "cell_type": "code",
   "execution_count": 3,
   "metadata": {
    "scrolled": true
   },
   "outputs": [
    {
     "data": {
      "image/png": "[encoded data removed]",
      "text/plain": [
       "<Figure size 432x288 with 1 Axes>"
      ]
     },
     "metadata": {
      "needs_background": "light"
     },
     "output_type": "display_data"
    }
   ],
   "source": [
    "plt.scatter(X, y)\n",
    "plt.show()"
   ]
  },
  {
   "cell_type": "markdown",
   "metadata": {},
   "source": [
    "Perform the linear regression:"
   ]
  },
  {
   "cell_type": "code",
   "execution_count": 4,
   "metadata": {},
   "outputs": [
    {
     "data": {
      "text/plain": [
       "(array([4.51689283]), array([[3.01438635]]))"
      ]
     },
     "execution_count": 4,
     "metadata": {},
     "output_type": "execute_result"
    }
   ],
   "source": [
    "lin_reg = LinearRegression()\n",
    "lin_reg.fit(X, y)\n",
    "lin_reg.intercept_, lin_reg.coef_"
   ]
  },
  {
   "cell_type": "markdown",
   "metadata": {},
   "source": [
    "We can compute the least squares directly:"
   ]
  },
  {
   "cell_type": "code",
   "execution_count": 5,
   "metadata": {},
   "outputs": [
    {
     "data": {
      "text/plain": [
       "(array([[4.51689283],\n",
       "        [3.01438635]]),\n",
       " array([8.19196948]),\n",
       " 2,\n",
       " array([14.85291652,  3.43056939]))"
      ]
     },
     "execution_count": 5,
     "metadata": {},
     "output_type": "execute_result"
    }
   ],
   "source": [
    "theta_best_svd, residuals, rank, s = np.linalg.lstsq(X_b, y, rcond=1e-6)\n",
    "theta_best_svd, residuals, rank, s"
   ]
  },
  {
   "cell_type": "markdown",
   "metadata": {},
   "source": [
    "Alternatively, we can compute the pseudoinverse (Moore-Penrose inverse) directly:"
   ]
  },
  {
   "cell_type": "code",
   "execution_count": 6,
   "metadata": {},
   "outputs": [
    {
     "data": {
      "text/plain": [
       "array([[ 4.94055563e-02, -1.91819622e-02,  7.33012520e-03,\n",
       "         1.40350730e-02,  3.22879217e-02,  2.90868782e-03,\n",
       "         5.56374306e-03, -1.56861048e-02,  3.03530967e-02,\n",
       "         9.90133623e-03,  1.26661292e-02,  1.30765075e-02,\n",
       "         3.43806480e-02,  1.32419737e-02,  8.73142227e-03,\n",
       "        -9.37161234e-03,  2.11424534e-02,  4.69489672e-02,\n",
       "        -1.37034777e-02, -1.74499399e-02, -1.36385577e-02,\n",
       "         4.17135270e-03,  3.19370014e-02, -1.13441861e-02,\n",
       "         3.74475387e-02,  1.27538931e-02, -1.40420298e-03,\n",
       "        -1.35894210e-02,  3.11823871e-02,  1.82639415e-02,\n",
       "        -7.81064103e-03, -5.25592519e-03,  1.75273924e-02,\n",
       "        -1.49315954e-02,  4.47420517e-02, -1.11389685e-02,\n",
       "         6.65536693e-03, -3.54423446e-03,  5.35130725e-03,\n",
       "         4.21096770e-03,  1.67524556e-02,  5.68193046e-03,\n",
       "         2.17624172e-02,  4.16201410e-03, -2.74781486e-02,\n",
       "         3.16768209e-02,  4.33495588e-02,  4.70085693e-02,\n",
       "         4.15092242e-02,  3.55700925e-02, -4.38510602e-03,\n",
       "        -1.14966184e-03,  8.30757515e-03, -1.14630593e-02,\n",
       "         9.61888483e-03,  9.61284687e-04,  8.67994187e-03,\n",
       "         3.04516190e-02,  1.85569923e-03,  3.35394989e-02,\n",
       "         1.58453492e-02, -2.15486749e-02,  5.82495967e-03,\n",
       "        -2.49370989e-02, -1.45347006e-02,  4.03987631e-02,\n",
       "        -1.98196222e-02,  1.03183239e-03,  6.71169059e-03,\n",
       "         2.28952810e-02,  1.83857799e-02,  3.02894916e-02,\n",
       "         8.42402615e-03,  2.61241408e-02,  1.62617644e-02,\n",
       "        -2.54558407e-02, -2.81131761e-03,  8.21087524e-03,\n",
       "        -2.80804141e-02,  1.49607680e-02,  3.22646436e-02,\n",
       "        -1.62248715e-02, -2.24848437e-02,  1.50113259e-02,\n",
       "         1.24475920e-02,  3.76135616e-02, -1.33185166e-02,\n",
       "        -2.58216754e-02,  4.67205511e-02,  2.82948280e-02,\n",
       "         2.21411630e-02, -2.17233419e-02,  6.44370333e-03,\n",
       "         2.80603106e-02,  2.59383474e-02,  1.72002950e-02,\n",
       "         6.28913993e-03,  2.74943945e-02,  2.01382948e-02,\n",
       "         4.07604217e-02],\n",
       "       [-3.81993783e-02,  2.82887217e-02,  2.58815170e-03,\n",
       "        -3.91156209e-03, -2.16057032e-02,  6.87425182e-03,\n",
       "         4.30046606e-03,  2.48998701e-02, -1.97301019e-02,\n",
       "         9.56437364e-05, -2.58452071e-03, -2.98233765e-03,\n",
       "        -2.36343725e-02, -3.14273906e-03,  1.22974741e-03,\n",
       "         1.87786601e-02, -1.08013903e-02, -3.58179838e-02,\n",
       "         2.29779300e-02,  2.66097155e-02,  2.29149971e-02,\n",
       "         5.65023627e-03, -2.12655244e-02,  2.06908547e-02,\n",
       "        -2.66073878e-02, -2.66959826e-03,  1.10551279e-02,\n",
       "         2.28673644e-02, -2.05340082e-02, -8.01098772e-03,\n",
       "         1.72654691e-02,  1.47889514e-02, -7.29698390e-03,\n",
       "         2.41684558e-02, -3.36786205e-02,  2.04919187e-02,\n",
       "         3.24225607e-03,  1.31296544e-02,  4.50639934e-03,\n",
       "         5.61183386e-03, -6.54576745e-03,  4.18589629e-03,\n",
       "        -1.14023774e-02,  5.65928902e-03,  3.63309673e-02,\n",
       "        -2.10133077e-02, -3.23287509e-02, -3.58757616e-02,\n",
       "        -3.05447477e-02, -2.47874089e-02,  1.39447875e-02,\n",
       "         1.08083781e-02,  1.64062084e-03,  2.08060893e-02,\n",
       "         3.69449483e-04,  8.76204622e-03,  1.27965203e-03,\n",
       "        -1.98256085e-02,  7.89500912e-03, -2.28189704e-02,\n",
       "        -5.66642689e-03,  3.05829908e-02,  4.04724511e-03,\n",
       "         3.38676975e-02,  2.37837097e-02, -2.94682771e-02,\n",
       "         2.89068634e-02,  8.69365794e-03,  3.18765643e-03,\n",
       "        -1.25005650e-02, -8.12909673e-03, -1.96684437e-02,\n",
       "         1.52773434e-03, -1.56305916e-02, -6.07009591e-03,\n",
       "         3.43705609e-02,  1.24191717e-02,  1.73436084e-03,\n",
       "         3.69147979e-02, -4.80892219e-03, -2.15831376e-02,\n",
       "         2.54221456e-02,  3.14905042e-02, -4.85793254e-03,\n",
       "        -2.37267283e-03, -2.67683288e-02,  2.26047523e-02,\n",
       "         3.47251976e-02, -3.55965594e-02, -1.77348354e-02,\n",
       "        -1.17695300e-02,  3.07523114e-02,  3.44744078e-03,\n",
       "        -1.75074965e-02, -1.54504852e-02, -6.97989877e-03,\n",
       "         3.59727310e-03, -1.69589027e-02, -9.82796835e-03,\n",
       "        -2.98188656e-02]])"
      ]
     },
     "execution_count": 6,
     "metadata": {},
     "output_type": "execute_result"
    }
   ],
   "source": [
    "np.linalg.pinv(X_b)"
   ]
  },
  {
   "cell_type": "markdown",
   "metadata": {},
   "source": [
    "With that, we get the intercept and slope:"
   ]
  },
  {
   "cell_type": "code",
   "execution_count": 7,
   "metadata": {},
   "outputs": [
    {
     "data": {
      "text/plain": [
       "array([[4.51689283],\n",
       "       [3.01438635]])"
      ]
     },
     "execution_count": 7,
     "metadata": {},
     "output_type": "execute_result"
    }
   ],
   "source": [
    "np.linalg.pinv(X_b).dot(y)"
   ]
  },
  {
   "cell_type": "markdown",
   "metadata": {},
   "source": [
    "### Stochastic Gradient Descent (SGD)"
   ]
  },
  {
   "cell_type": "code",
   "execution_count": 8,
   "metadata": {},
   "outputs": [
    {
     "data": {
      "text/plain": [
       "SGDRegressor(eta0=0.1, penalty=None)"
      ]
     },
     "execution_count": 8,
     "metadata": {},
     "output_type": "execute_result"
    }
   ],
   "source": [
    "sgd_reg = SGDRegressor(max_iter=1000, tol=1e-3, penalty=None, eta0=0.1)\n",
    "sgd_reg.fit(X, y.ravel())"
   ]
  },
  {
   "cell_type": "code",
   "execution_count": 9,
   "metadata": {},
   "outputs": [
    {
     "data": {
      "text/plain": [
       "(array([4.4918783]), array([3.08754933]))"
      ]
     },
     "execution_count": 9,
     "metadata": {},
     "output_type": "execute_result"
    }
   ],
   "source": [
    "sgd_reg.intercept_, sgd_reg.coef_"
   ]
  },
  {
   "cell_type": "markdown",
   "metadata": {},
   "source": [
    "## Polynomial Regression"
   ]
  },
  {
   "cell_type": "markdown",
   "metadata": {},
   "source": [
    "Get some randomized data based on a quadratic equation:"
   ]
  },
  {
   "cell_type": "code",
   "execution_count": 10,
   "metadata": {},
   "outputs": [],
   "source": [
    "m = 100\n",
    "X = 6*np.random.rand(m, 1) - 3\n",
    "y = 0.5*X**2 + X + 2 + np.random.rand(m, 1)"
   ]
  },
  {
   "cell_type": "code",
   "execution_count": 11,
   "metadata": {},
   "outputs": [
    {
     "data": {
      "image/png": "[encoded data removed]",
      "text/plain": [
       "<Figure size 432x288 with 1 Axes>"
      ]
     },
     "metadata": {
      "needs_background": "light"
     },
     "output_type": "display_data"
    }
   ],
   "source": [
    "plt.clf()\n",
    "plt.scatter(X, y)\n",
    "plt.show()"
   ]
  },
  {
   "cell_type": "markdown",
   "metadata": {},
   "source": [
    "We add the square of the features as new features:"
   ]
  },
  {
   "cell_type": "code",
   "execution_count": 12,
   "metadata": {},
   "outputs": [],
   "source": [
    "poly_features = PolynomialFeatures(degree=2, include_bias=False)\n",
    "X_poly = poly_features.fit_transform(X)"
   ]
  },
  {
   "cell_type": "code",
   "execution_count": 13,
   "metadata": {},
   "outputs": [
    {
     "data": {
      "text/plain": [
       "array([0.49351066])"
      ]
     },
     "execution_count": 13,
     "metadata": {},
     "output_type": "execute_result"
    }
   ],
   "source": [
    "X[42]"
   ]
  },
  {
   "cell_type": "code",
   "execution_count": 14,
   "metadata": {},
   "outputs": [
    {
     "data": {
      "text/plain": [
       "array([0.49351066, 0.24355277])"
      ]
     },
     "execution_count": 14,
     "metadata": {},
     "output_type": "execute_result"
    }
   ],
   "source": [
    "X_poly[42]"
   ]
  },
  {
   "cell_type": "code",
   "execution_count": 15,
   "metadata": {},
   "outputs": [
    {
     "data": {
      "text/plain": [
       "(array([2.47895355]), array([[1.00342798, 0.50561858]]))"
      ]
     },
     "execution_count": 15,
     "metadata": {},
     "output_type": "execute_result"
    }
   ],
   "source": [
    "lin_reg_poly = LinearRegression()\n",
    "lin_reg_poly.fit(X_poly, y)\n",
    "lin_reg_poly.intercept_, lin_reg_poly.coef_"
   ]
  },
  {
   "cell_type": "code",
   "execution_count": 16,
   "metadata": {},
   "outputs": [],
   "source": [
    "X_sorted = []\n",
    "y_pred = []\n",
    "for currX in X:\n",
    "    X_sorted.append(currX[0])\n",
    "X_sorted.sort()\n",
    "X_sorted_conv = []\n",
    "for currX in X_sorted:\n",
    "    tmp = lin_reg_poly.intercept_[0] + lin_reg_poly.coef_[0][0]*currX + lin_reg_poly.coef_[0][1]*currX**2\n",
    "    X_sorted_conv.append(np.array(currX))\n",
    "    y_pred.append(np.array(tmp))\n",
    "X_sorted_conv = np.array(X_sorted_conv)\n",
    "X_sorted_conv = X_sorted_conv.reshape((len(X_sorted_conv),1))\n",
    "y_pred = np.array(y_pred)\n",
    "y_pred = y_pred.reshape((len(y_pred),1))"
   ]
  },
  {
   "cell_type": "code",
   "execution_count": 17,
   "metadata": {},
   "outputs": [
    {
     "data": {
      "image/png": "[encoded data removed]",
      "text/plain": [
       "<Figure size 432x288 with 1 Axes>"
      ]
     },
     "metadata": {
      "needs_background": "light"
     },
     "output_type": "display_data"
    }
   ],
   "source": [
    "plt.clf()\n",
    "plt.scatter(X, y, label='Data')\n",
    "plt.plot(X_sorted_conv, y_pred, color='red', label='Prediction')\n",
    "plt.legend()\n",
    "plt.xlabel('x')\n",
    "plt.ylabel('y')\n",
    "plt.show()"
   ]
  },
  {
   "cell_type": "markdown",
   "metadata": {},
   "source": [
    "## Learning Curves"
   ]
  },
  {
   "cell_type": "code",
   "execution_count": 18,
   "metadata": {},
   "outputs": [],
   "source": [
    "def plot_learning_curves(model, X, y, yLim):\n",
    "    X_train, X_val, y_train, y_val = train_test_split(X, y, test_size=0.2)\n",
    "    train_errors, val_errors = [], []\n",
    "    for m in range(1, len(X_train)):\n",
    "        model.fit(X_train[:m], y_train[:m])\n",
    "        y_train_predict = model.predict(X_train[:m])\n",
    "        y_val_predict = model.predict(X_val)\n",
    "        train_errors.append(mean_squared_error(y_train[:m], y_train_predict))\n",
    "        val_errors.append(mean_squared_error(y_val, y_val_predict))\n",
    "    plt.plot(np.sqrt(train_errors), 'r-+', linewidth=2, label='train')\n",
    "    plt.plot(np.sqrt(val_errors), 'b-', linewidth=2, label='val')\n",
    "    plt.xlabel('Training size')\n",
    "    plt.ylabel('RMSE')\n",
    "    plt.ylim(0, yLim)\n",
    "    plt.legend()"
   ]
  },
  {
   "cell_type": "code",
   "execution_count": 19,
   "metadata": {
    "scrolled": true
   },
   "outputs": [
    {
     "data": {
      "image/png": "[encoded data removed]",
      "text/plain": [
       "<Figure size 432x288 with 1 Axes>"
      ]
     },
     "metadata": {
      "needs_background": "light"
     },
     "output_type": "display_data"
    }
   ],
   "source": [
    "lin_reg = LinearRegression()\n",
    "plot_learning_curves(lin_reg, X, y, 3)"
   ]
  },
  {
   "cell_type": "markdown",
   "metadata": {},
   "source": [
    "Example of a model which overfits drastically due to the high degree of the polynomial that is used:"
   ]
  },
  {
   "cell_type": "code",
   "execution_count": 20,
   "metadata": {},
   "outputs": [
    {
     "data": {
      "image/png": "[encoded data removed]",
      "text/plain": [
       "<Figure size 432x288 with 1 Axes>"
      ]
     },
     "metadata": {
      "needs_background": "light"
     },
     "output_type": "display_data"
    }
   ],
   "source": [
    "polynomial_regression = Pipeline([\n",
    "    ('poly_features', PolynomialFeatures(degree=10, include_bias=False)),\n",
    "    ('lin_reg', LinearRegression())\n",
    "])\n",
    "plot_learning_curves(polynomial_regression, X, y, 3)"
   ]
  },
  {
   "cell_type": "markdown",
   "metadata": {},
   "source": [
    "## Ridge Regression"
   ]
  },
  {
   "cell_type": "markdown",
   "metadata": {},
   "source": [
    "In ridge regression, we add the square of the weights to the cost function such that they get minimized as well. Technically, we use half of the l2 norm of the weight vector (without the bias term)."
   ]
  },
  {
   "cell_type": "markdown",
   "metadata": {},
   "source": [
    "Direct computation:"
   ]
  },
  {
   "cell_type": "code",
   "execution_count": 22,
   "metadata": {
    "scrolled": true
   },
   "outputs": [
    {
     "data": {
      "text/plain": [
       "array([[5.50175522]])"
      ]
     },
     "execution_count": 22,
     "metadata": {},
     "output_type": "execute_result"
    }
   ],
   "source": [
    "ridge_reg = Ridge(alpha=1, solver='cholesky')\n",
    "ridge_reg.fit(X, y)\n",
    "ridge_reg.predict([[1.5]])"
   ]
  },
  {
   "cell_type": "markdown",
   "metadata": {},
   "source": [
    "Alternatively, via stochastic gradient descent:"
   ]
  },
  {
   "cell_type": "code",
   "execution_count": 24,
   "metadata": {
    "scrolled": true
   },
   "outputs": [
    {
     "data": {
      "text/plain": [
       "array([5.47737034])"
      ]
     },
     "execution_count": 24,
     "metadata": {},
     "output_type": "execute_result"
    }
   ],
   "source": [
    "sgd_red = SGDRegressor(penalty='l2')\n",
    "sgd_red.fit(X, y.ravel())\n",
    "sgd_red.predict([[1.5]])"
   ]
  },
  {
   "cell_type": "markdown",
   "metadata": {},
   "source": [
    "## Least Absolute Shrinkage and Selection Operator (Lasso) regression regression"
   ]
  },
  {
   "cell_type": "markdown",
   "metadata": {},
   "source": [
    "In lasso regression, we add the absolutes of the weights to the cost function such that they get minimized as well. Technically, we use the l1 norm of the weight vector (without the bias term)."
   ]
  },
  {
   "cell_type": "markdown",
   "metadata": {},
   "source": [
    "Direct computation:"
   ]
  },
  {
   "cell_type": "code",
   "execution_count": 29,
   "metadata": {
    "scrolled": true
   },
   "outputs": [
    {
     "data": {
      "text/plain": [
       "array([5.01703889])"
      ]
     },
     "execution_count": 29,
     "metadata": {},
     "output_type": "execute_result"
    }
   ],
   "source": [
    "lasso_reg = Lasso(alpha=1)\n",
    "lasso_reg.fit(X, y)\n",
    "lasso_reg.predict([[1.5]])"
   ]
  },
  {
   "cell_type": "markdown",
   "metadata": {},
   "source": [
    "Alternatively, via stochastic gradient descent:"
   ]
  },
  {
   "cell_type": "code",
   "execution_count": 30,
   "metadata": {
    "scrolled": true
   },
   "outputs": [
    {
     "data": {
      "text/plain": [
       "array([5.48053122])"
      ]
     },
     "execution_count": 30,
     "metadata": {},
     "output_type": "execute_result"
    }
   ],
   "source": [
    "sgd_red = SGDRegressor(penalty='l1')\n",
    "sgd_red.fit(X, y.ravel())\n",
    "sgd_red.predict([[1.5]])"
   ]
  },
  {
   "cell_type": "markdown",
   "metadata": {},
   "source": [
    "## Elastic Net"
   ]
  },
  {
   "cell_type": "markdown",
   "metadata": {},
   "source": [
    "In elastic net regression, we add a mixture of l1 and l2 norms of the weight vector to the cost function. The mixture is determined by a mixing hyperparameter, the l1 ratio r. If this ratio r is 0, then only l2 is used; if it is 1, then only l1 is used. If it is between those two values, then the ratio r for l1 is used and the ratio (1-r) for l2."
   ]
  },
  {
   "cell_type": "code",
   "execution_count": 32,
   "metadata": {
    "scrolled": true
   },
   "outputs": [
    {
     "data": {
      "text/plain": [
       "array([5.45924993])"
      ]
     },
     "execution_count": 32,
     "metadata": {},
     "output_type": "execute_result"
    }
   ],
   "source": [
    "elastic_net = ElasticNet(alpha=0.1, l1_ratio=0.5)\n",
    "elastic_net.fit(X, y)\n",
    "elastic_net.predict([[1.5]])"
   ]
  },
  {
   "cell_type": "markdown",
   "metadata": {},
   "source": [
    "## When to use ridge, lasso and elastic net"
   ]
  },
  {
   "cell_type": "markdown",
   "metadata": {},
   "source": [
    "Ridge regression is a useful default to use. In case that we suspect that only a few features play an important role, we can use lasso or elastic net since using the l1 norm leads to a quick elimination of weights for features that only minimally contribute to the model. Lasso may behave erratically when the number of features is greater than the number of training instances or when features are strongly correlated; in that case, elastic net is prefered."
   ]
  },
  {
   "cell_type": "markdown",
   "metadata": {},
   "source": [
    "## Early Stopping"
   ]
  },
  {
   "cell_type": "code",
   "execution_count": 38,
   "metadata": {},
   "outputs": [],
   "source": [
    "X_train, X_val, y_train, y_val = train_test_split(X, y, test_size=0.2)\n",
    "poly_scaler = Pipeline([\n",
    "    ('poly_features', PolynomialFeatures(degree=90, include_bias=False)),\n",
    "    ('std_scaler', StandardScaler())\n",
    "])\n",
    "X_train_poly_scaled = poly_scaler.fit_transform(X_train)\n",
    "X_val_poly_scaled = poly_scaler.transform(X_val)"
   ]
  },
  {
   "cell_type": "code",
   "execution_count": 47,
   "metadata": {},
   "outputs": [],
   "source": [
    "sgd_reg = SGDRegressor(max_iter=1, tol=-np.infty, warm_start=True, penalty=None, learning_rate='constant', eta0=0.0005)\n",
    "\n",
    "minimum_val_error = float('inf')\n",
    "best_epoch = None\n",
    "best_model = None\n",
    "val_errors = []\n",
    "for epoch in range(2000):\n",
    "    sgd_reg.fit(X_train_poly_scaled, y_train.ravel())\n",
    "    y_val_predict = sgd_reg.predict(X_val_poly_scaled)\n",
    "    val_error = mean_squared_error(y_val, y_val_predict)\n",
    "    val_errors.append(val_error)\n",
    "    if val_error < minimum_val_error:\n",
    "        minimum_val_error = val_error\n",
    "        best_epoch = epoch\n",
    "        best_model = clone(sgd_reg)"
   ]
  },
  {
   "cell_type": "code",
   "execution_count": 48,
   "metadata": {},
   "outputs": [
    {
     "data": {
      "text/plain": [
       "1565"
      ]
     },
     "execution_count": 48,
     "metadata": {},
     "output_type": "execute_result"
    }
   ],
   "source": [
    "best_epoch"
   ]
  },
  {
   "cell_type": "code",
   "execution_count": 49,
   "metadata": {},
   "outputs": [
    {
     "data": {
      "text/plain": [
       "SGDRegressor(eta0=0.0005, learning_rate='constant', max_iter=1, penalty=None,\n",
       "             tol=-inf, warm_start=True)"
      ]
     },
     "execution_count": 49,
     "metadata": {},
     "output_type": "execute_result"
    }
   ],
   "source": [
    "best_model"
   ]
  },
  {
   "cell_type": "code",
   "execution_count": 71,
   "metadata": {},
   "outputs": [
    {
     "data": {
      "image/png": "[encoded data removed]",
      "text/plain": [
       "<Figure size 432x288 with 1 Axes>"
      ]
     },
     "metadata": {
      "needs_background": "light"
     },
     "output_type": "display_data"
    }
   ],
   "source": [
    "plt.clf()\n",
    "plt.plot(val_errors)\n",
    "plt.xlim(100, 2000)\n",
    "plt.ylim(0.04, 0.2)\n",
    "plt.xlabel('Epoch')\n",
    "plt.ylabel('Validation error')\n",
    "plt.axvline(x=best_epoch, c='red')\n",
    "plt.text(best_epoch+60, 0.18, 'Minimum', c='red')\n",
    "plt.show()"
   ]
  },
  {
   "cell_type": "code",
   "execution_count": null,
   "metadata": {},
   "outputs": [],
   "source": []
  },
  {
   "cell_type": "code",
   "execution_count": null,
   "metadata": {},
   "outputs": [],
   "source": []
  }
 ],
 "metadata": {
  "kernelspec": {
   "display_name": "Python 3",
   "language": "python",
   "name": "python3"
  },
  "language_info": {
   "codemirror_mode": {
    "name": "ipython",
    "version": 3
   },
   "file_extension": ".py",
   "mimetype": "text/x-python",
   "name": "python",
   "nbconvert_exporter": "python",
   "pygments_lexer": "ipython3",
   "version": "3.8.5"
  }
 },
 "nbformat": 4,
 "nbformat_minor": 4
}
