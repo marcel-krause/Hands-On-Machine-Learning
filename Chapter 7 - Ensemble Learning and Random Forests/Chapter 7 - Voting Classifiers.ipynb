{
 "cells": [
  {
   "cell_type": "markdown",
   "metadata": {},
   "source": [
    "# Voting Classifier"
   ]
  },
  {
   "cell_type": "markdown",
   "metadata": {},
   "source": [
    "We create a voting classifier as a combination of three different classifiers. Each classifier is trained independently of the other. The voting classifier then picks the prediction with the highest probability."
   ]
  },
  {
   "cell_type": "code",
   "execution_count": 182,
   "metadata": {},
   "outputs": [],
   "source": [
    "from math import floor, factorial\n",
    "from decimal import Context, Decimal\n",
    "from sklearn.ensemble import RandomForestClassifier, VotingClassifier\n",
    "from sklearn.linear_model import LogisticRegression\n",
    "from sklearn.svm import SVC\n",
    "from sklearn.datasets import make_moons\n",
    "from sklearn.model_selection import train_test_split\n",
    "from sklearn.metrics import accuracy_score\n",
    "from sklearn.preprocessing import StandardScaler\n",
    "import matplotlib.pyplot as plt"
   ]
  },
  {
   "cell_type": "markdown",
   "metadata": {},
   "source": [
    "## The maths behind the voting classifier's success"
   ]
  },
  {
   "cell_type": "markdown",
   "metadata": {},
   "source": [
    "A voting classifier often performs significantly better than each of the individual classifiers that it uses. We can understand this by looking at the following analogy:"
   ]
  },
  {
   "cell_type": "markdown",
   "metadata": {},
   "source": [
    "Consider a biased coin with probability $p$ of hitting one side of the coin and $(1-p)$ of hitting the other side. We toss the coin $n$ times. On average, we will end up with $n\\cdot p$ heads and $n\\cdot (1-p)$ tails."
   ]
  },
  {
   "cell_type": "code",
   "execution_count": 4,
   "metadata": {},
   "outputs": [
    {
     "name": "stdout",
     "output_type": "stream",
     "text": [
      "We get 510 heads and 490 tails on average.\n"
     ]
    }
   ],
   "source": [
    "n = 1000\n",
    "p = 51/100\n",
    "print(\"We get {} heads and {} tails on average.\".format(int(n*p), int(n*(1-p))))"
   ]
  },
  {
   "cell_type": "markdown",
   "metadata": {},
   "source": [
    "If we consider each coin flip to be an independent classifier, then the performance would not be very good as we can see from the calculation above. We can combine the \"classifiers\" however. Instead of looking at each individual coin toss, we calculate the probability that after $n$ tosses, we end up with a **majority** of one of the two sides (e.g. heads). This probability is given by a sum over the binomial distribution:"
   ]
  },
  {
   "cell_type": "code",
   "execution_count": 142,
   "metadata": {},
   "outputs": [],
   "source": [
    "def calc_prob(n, p):\n",
    "    prob = 0\n",
    "    m = int(floor(n/2 + 1))\n",
    "    ctx = Context()\n",
    "    for i in range(m, n + 1):\n",
    "        binomFact = factorial(n)//factorial(n-i)//factorial(i)\n",
    "        binomDistr = Decimal(100)*Decimal(binomFact)*ctx.power(Decimal(p), Decimal(i))*ctx.power(Decimal(1-p), Decimal(n-i))\n",
    "        prob += round(binomDistr, 2)\n",
    "    print(\"The probability for a biased coin (p={} for heads) for ending up with a majority of heads after {} tosses is {}%.\".format(p, n, round(prob, 2)))"
   ]
  },
  {
   "cell_type": "code",
   "execution_count": 146,
   "metadata": {},
   "outputs": [
    {
     "name": "stdout",
     "output_type": "stream",
     "text": [
      "The probability for a biased coin (p=0.51 for heads) for ending up with a majority of heads after 1000 tosses is 72.62%.\n"
     ]
    }
   ],
   "source": [
    "n = 1000\n",
    "p = 51/100\n",
    "calc_prob(n, p)"
   ]
  },
  {
   "cell_type": "code",
   "execution_count": 145,
   "metadata": {},
   "outputs": [
    {
     "name": "stdout",
     "output_type": "stream",
     "text": [
      "The probability for a biased coin (p=0.51 for heads) for ending up with a majority of heads after 10000 tosses is 97.60%.\n"
     ]
    }
   ],
   "source": [
    "n = 10000\n",
    "p = 51/100\n",
    "calc_prob(n, p)"
   ]
  },
  {
   "cell_type": "markdown",
   "metadata": {},
   "source": [
    "So we observe that if we toss a biased coin (with $p=0.51$ for heads) a $n=1000$ times, we have a 72.6% chance of observing a majority of heads. For $n=10000$, the chance is already as high as 97.6%! If we use all of the $n$ tosses and combine them into one voting classifier, we pick the target class (heads, in this case) with high probability. This is the reason why voting classifiers (i.e., ensemble classifiers) can work very well even if the individual classifier does not perform that well."
   ]
  },
  {
   "cell_type": "markdown",
   "metadata": {},
   "source": [
    "## Load some dummy data"
   ]
  },
  {
   "cell_type": "markdown",
   "metadata": {},
   "source": [
    "We again use the moon dataset to create some dummy data for our classification."
   ]
  },
  {
   "cell_type": "code",
   "execution_count": 169,
   "metadata": {},
   "outputs": [],
   "source": [
    "X, y = make_moons(n_samples=100, noise=0.14)"
   ]
  },
  {
   "cell_type": "code",
   "execution_count": 170,
   "metadata": {},
   "outputs": [],
   "source": [
    "X_train, X_test, y_train, y_test = train_test_split(X, y)"
   ]
  },
  {
   "cell_type": "markdown",
   "metadata": {},
   "source": [
    "## Plot the training data"
   ]
  },
  {
   "cell_type": "code",
   "execution_count": 194,
   "metadata": {},
   "outputs": [],
   "source": [
    "x_circ_1 = []\n",
    "y_circ_1 = []\n",
    "x_circ_2 = []\n",
    "y_circ_2 = []\n",
    "for i in range(len(y_train)):\n",
    "    if y_train[i] == 0:\n",
    "        x_circ_1.append(X_train[i][0])\n",
    "        y_circ_1.append(X_train[i][1])\n",
    "    else:\n",
    "        x_circ_2.append(X_train[i][0])\n",
    "        y_circ_2.append(X_train[i][1])"
   ]
  },
  {
   "cell_type": "code",
   "execution_count": 195,
   "metadata": {
    "scrolled": false
   },
   "outputs": [
    {
     "data": {
      "image/png": "[encoded data removed]",
      "text/plain": [
       "<Figure size 432x288 with 1 Axes>"
      ]
     },
     "metadata": {
      "needs_background": "light"
     },
     "output_type": "display_data"
    }
   ],
   "source": [
    "plt.scatter(x_circ_1, y_circ_1, c='b', label='Category 0')\n",
    "plt.scatter(x_circ_2, y_circ_2, c='r', label='Category 1')\n",
    "plt.legend()\n",
    "plt.xlabel('x')\n",
    "plt.ylabel('y')\n",
    "plt.show()"
   ]
  },
  {
   "cell_type": "markdown",
   "metadata": {},
   "source": [
    "## Scale the data"
   ]
  },
  {
   "cell_type": "code",
   "execution_count": 196,
   "metadata": {},
   "outputs": [],
   "source": [
    "scaler = StandardScaler()\n",
    "X_train_scaled = scaler.fit_transform(X_train)\n",
    "X_test_scaled = scaler.transform(X_test)"
   ]
  },
  {
   "cell_type": "markdown",
   "metadata": {},
   "source": [
    "## Implementation of a voting classifier"
   ]
  },
  {
   "cell_type": "markdown",
   "metadata": {},
   "source": [
    "We consider a voting classifier which consists of three different classifiers:<br>\n",
    "- a logistic regression classifier\n",
    "- a random forest classifier\n",
    "- a support vector classifier"
   ]
  },
  {
   "cell_type": "code",
   "execution_count": 223,
   "metadata": {},
   "outputs": [],
   "source": [
    "log_clf = LogisticRegression()\n",
    "rnd_clf = RandomForestClassifier()\n",
    "svm_clf = SVC()"
   ]
  },
  {
   "cell_type": "code",
   "execution_count": 207,
   "metadata": {},
   "outputs": [
    {
     "data": {
      "text/plain": [
       "VotingClassifier(estimators=[('lr', LogisticRegression()),\n",
       "                             ('rf', RandomForestClassifier()), ('svc', SVC())])"
      ]
     },
     "execution_count": 207,
     "metadata": {},
     "output_type": "execute_result"
    }
   ],
   "source": [
    "voting_clf = VotingClassifier(\n",
    "    estimators=[\n",
    "        ('lr', log_clf),\n",
    "        ('rf', rnd_clf),\n",
    "        ('svc', svm_clf)\n",
    "    ],\n",
    "    voting='hard'\n",
    ")\n",
    "voting_clf.fit(X_train_scaled, y_train)"
   ]
  },
  {
   "cell_type": "code",
   "execution_count": 224,
   "metadata": {},
   "outputs": [
    {
     "name": "stdout",
     "output_type": "stream",
     "text": [
      "VotingClassifier 0.92\n",
      "LogisticRegression 0.84\n",
      "RandomForestClassifier 0.92\n",
      "SVC 0.96\n",
      "VotingClassifier 0.92\n"
     ]
    }
   ],
   "source": [
    "y_predict = voting_clf.predict(X_test_scaled)\n",
    "print(voting_clf.__class__.__name__, accuracy_score(y_test, y_predict))\n",
    "for clf in (log_clf, rnd_clf, svm_clf, voting_clf):\n",
    "    clf.fit(X_train_scaled, y_train)\n",
    "    y_predict = clf.predict(X_test_scaled)\n",
    "    print(clf.__class__.__name__, accuracy_score(y_test, y_predict))"
   ]
  },
  {
   "cell_type": "markdown",
   "metadata": {},
   "source": [
    "## Increase performance by switching to soft voting"
   ]
  },
  {
   "cell_type": "code",
   "execution_count": 219,
   "metadata": {},
   "outputs": [],
   "source": [
    "log_clf = LogisticRegression()\n",
    "rnd_clf = RandomForestClassifier()\n",
    "svm_clf = SVC(probability=True)"
   ]
  },
  {
   "cell_type": "code",
   "execution_count": 220,
   "metadata": {},
   "outputs": [
    {
     "data": {
      "text/plain": [
       "VotingClassifier(estimators=[('lr', LogisticRegression()),\n",
       "                             ('rf', RandomForestClassifier()),\n",
       "                             ('svc', SVC(probability=True))],\n",
       "                 voting='soft')"
      ]
     },
     "execution_count": 220,
     "metadata": {},
     "output_type": "execute_result"
    }
   ],
   "source": [
    "voting_clf = VotingClassifier(\n",
    "    estimators=[\n",
    "        ('lr', log_clf),\n",
    "        ('rf', rnd_clf),\n",
    "        ('svc', svm_clf)\n",
    "    ],\n",
    "    voting='soft'\n",
    ")\n",
    "voting_clf.fit(X_train_scaled, y_train)"
   ]
  },
  {
   "cell_type": "code",
   "execution_count": 222,
   "metadata": {},
   "outputs": [
    {
     "name": "stdout",
     "output_type": "stream",
     "text": [
      "VotingClassifier 0.92\n",
      "LogisticRegression 0.84\n",
      "RandomForestClassifier 0.92\n",
      "SVC 0.96\n"
     ]
    }
   ],
   "source": [
    "y_predict = voting_clf.predict(X_test_scaled)\n",
    "print(voting_clf.__class__.__name__, accuracy_score(y_test, y_predict))\n",
    "for clf in (log_clf, rnd_clf, svm_clf):\n",
    "    clf.fit(X_train_scaled, y_train)\n",
    "    y_predict = clf.predict(X_test_scaled)\n",
    "    print(clf.__class__.__name__, accuracy_score(y_test, y_predict))"
   ]
  },
  {
   "cell_type": "code",
   "execution_count": null,
   "metadata": {},
   "outputs": [],
   "source": []
  }
 ],
 "metadata": {
  "kernelspec": {
   "display_name": "Python 3",
   "language": "python",
   "name": "python3"
  },
  "language_info": {
   "codemirror_mode": {
    "name": "ipython",
    "version": 3
   },
   "file_extension": ".py",
   "mimetype": "text/x-python",
   "name": "python",
   "nbconvert_exporter": "python",
   "pygments_lexer": "ipython3",
   "version": "3.8.5"
  }
 },
 "nbformat": 4,
 "nbformat_minor": 4
}
