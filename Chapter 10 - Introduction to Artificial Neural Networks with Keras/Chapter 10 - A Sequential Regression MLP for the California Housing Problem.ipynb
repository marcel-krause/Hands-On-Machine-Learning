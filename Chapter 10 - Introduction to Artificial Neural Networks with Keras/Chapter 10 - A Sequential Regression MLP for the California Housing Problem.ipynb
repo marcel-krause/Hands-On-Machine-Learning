{
 "cells": [
  {
   "cell_type": "markdown",
   "metadata": {},
   "source": [
    "# A Sequential Regression MLP for the California Housing Problem"
   ]
  },
  {
   "cell_type": "code",
   "execution_count": 1,
   "metadata": {},
   "outputs": [],
   "source": [
    "from sklearn.datasets import fetch_california_housing\n",
    "from sklearn.model_selection import train_test_split\n",
    "from sklearn.preprocessing import StandardScaler\n",
    "import tensorflow as tf\n",
    "from tensorflow import keras\n",
    "import pandas as pd\n",
    "import matplotlib.pyplot as plt"
   ]
  },
  {
   "cell_type": "markdown",
   "metadata": {},
   "source": [
    "## Get the data"
   ]
  },
  {
   "cell_type": "code",
   "execution_count": 2,
   "metadata": {},
   "outputs": [],
   "source": [
    "housing = fetch_california_housing()"
   ]
  },
  {
   "cell_type": "markdown",
   "metadata": {},
   "source": [
    "### Create train, validation and test sets"
   ]
  },
  {
   "cell_type": "code",
   "execution_count": 3,
   "metadata": {},
   "outputs": [],
   "source": [
    "X_train_full, X_test, y_train_full, y_test = train_test_split(housing.data, housing.target)"
   ]
  },
  {
   "cell_type": "code",
   "execution_count": 4,
   "metadata": {},
   "outputs": [],
   "source": [
    "X_train, X_valid, y_train, y_valid = train_test_split(X_train_full, y_train_full)"
   ]
  },
  {
   "cell_type": "code",
   "execution_count": 5,
   "metadata": {},
   "outputs": [
    {
     "data": {
      "text/plain": [
       "(11610, 8)"
      ]
     },
     "execution_count": 5,
     "metadata": {},
     "output_type": "execute_result"
    }
   ],
   "source": [
    "X_train.shape"
   ]
  },
  {
   "cell_type": "code",
   "execution_count": 6,
   "metadata": {},
   "outputs": [
    {
     "data": {
      "text/plain": [
       "(5160, 8)"
      ]
     },
     "execution_count": 6,
     "metadata": {},
     "output_type": "execute_result"
    }
   ],
   "source": [
    "X_test.shape"
   ]
  },
  {
   "cell_type": "code",
   "execution_count": 7,
   "metadata": {},
   "outputs": [
    {
     "data": {
      "text/plain": [
       "(3870, 8)"
      ]
     },
     "execution_count": 7,
     "metadata": {},
     "output_type": "execute_result"
    }
   ],
   "source": [
    "X_valid.shape"
   ]
  },
  {
   "cell_type": "code",
   "execution_count": 8,
   "metadata": {},
   "outputs": [
    {
     "data": {
      "text/plain": [
       "(11610,)"
      ]
     },
     "execution_count": 8,
     "metadata": {},
     "output_type": "execute_result"
    }
   ],
   "source": [
    "y_train.shape"
   ]
  },
  {
   "cell_type": "code",
   "execution_count": 9,
   "metadata": {},
   "outputs": [
    {
     "data": {
      "text/plain": [
       "(5160,)"
      ]
     },
     "execution_count": 9,
     "metadata": {},
     "output_type": "execute_result"
    }
   ],
   "source": [
    "y_test.shape"
   ]
  },
  {
   "cell_type": "code",
   "execution_count": 10,
   "metadata": {},
   "outputs": [
    {
     "data": {
      "text/plain": [
       "(3870,)"
      ]
     },
     "execution_count": 10,
     "metadata": {},
     "output_type": "execute_result"
    }
   ],
   "source": [
    "y_valid.shape"
   ]
  },
  {
   "cell_type": "markdown",
   "metadata": {},
   "source": [
    "### Scale the data"
   ]
  },
  {
   "cell_type": "code",
   "execution_count": 11,
   "metadata": {},
   "outputs": [],
   "source": [
    "scaler = StandardScaler()\n",
    "X_train = scaler.fit_transform(X_train)\n",
    "X_test = scaler.transform(X_test)\n",
    "X_valid = scaler.transform(X_valid)"
   ]
  },
  {
   "cell_type": "code",
   "execution_count": 12,
   "metadata": {},
   "outputs": [
    {
     "data": {
      "text/plain": [
       "(8,)"
      ]
     },
     "execution_count": 12,
     "metadata": {},
     "output_type": "execute_result"
    }
   ],
   "source": [
    "X_train.shape[1:]"
   ]
  },
  {
   "cell_type": "markdown",
   "metadata": {},
   "source": [
    "## Create the model"
   ]
  },
  {
   "cell_type": "code",
   "execution_count": 13,
   "metadata": {},
   "outputs": [],
   "source": [
    "model = keras.models.Sequential([\n",
    "    keras.layers.Dense(30, activation='relu', input_shape=X_train.shape[1:]),\n",
    "    keras.layers.Dense(1)\n",
    "])\n",
    "model.compile(loss='mean_squared_error', optimizer='sgd', metrics=[tf.keras.metrics.RootMeanSquaredError(), 'mean_absolute_percentage_error'])"
   ]
  },
  {
   "cell_type": "markdown",
   "metadata": {},
   "source": [
    "## Train the model"
   ]
  },
  {
   "cell_type": "code",
   "execution_count": 14,
   "metadata": {},
   "outputs": [
    {
     "name": "stdout",
     "output_type": "stream",
     "text": [
      "Epoch 1/100\n",
      "363/363 [==============================] - 1s 2ms/step - loss: 1.2872 - root_mean_squared_error: 1.0977 - mean_absolute_percentage_error: 43.3899 - val_loss: 0.5016 - val_root_mean_squared_error: 0.7082 - val_mean_absolute_percentage_error: 29.2255\n",
      "Epoch 2/100\n",
      "363/363 [==============================] - 0s 511us/step - loss: 0.4441 - root_mean_squared_error: 0.6663 - mean_absolute_percentage_error: 27.9023 - val_loss: 1.0891 - val_root_mean_squared_error: 1.0436 - val_mean_absolute_percentage_error: 28.1756\n",
      "Epoch 3/100\n",
      "363/363 [==============================] - 0s 520us/step - loss: 0.4744 - root_mean_squared_error: 0.6879 - mean_absolute_percentage_error: 27.7201 - val_loss: 7.5710 - val_root_mean_squared_error: 2.7516 - val_mean_absolute_percentage_error: 34.3546\n",
      "Epoch 4/100\n",
      "363/363 [==============================] - 0s 557us/step - loss: 0.5750 - root_mean_squared_error: 0.7512 - mean_absolute_percentage_error: 28.1759 - val_loss: 1.5168 - val_root_mean_squared_error: 1.2316 - val_mean_absolute_percentage_error: 29.7701\n",
      "Epoch 5/100\n",
      "363/363 [==============================] - 0s 521us/step - loss: 0.4389 - root_mean_squared_error: 0.6622 - mean_absolute_percentage_error: 26.7803 - val_loss: 0.8495 - val_root_mean_squared_error: 0.9217 - val_mean_absolute_percentage_error: 26.9566\n",
      "Epoch 6/100\n",
      "363/363 [==============================] - 0s 538us/step - loss: 0.4132 - root_mean_squared_error: 0.6426 - mean_absolute_percentage_error: 25.5489 - val_loss: 0.3987 - val_root_mean_squared_error: 0.6314 - val_mean_absolute_percentage_error: 24.8091\n",
      "Epoch 7/100\n",
      "363/363 [==============================] - 0s 530us/step - loss: 0.3814 - root_mean_squared_error: 0.6173 - mean_absolute_percentage_error: 24.7709 - val_loss: 0.3885 - val_root_mean_squared_error: 0.6233 - val_mean_absolute_percentage_error: 24.6460\n",
      "Epoch 8/100\n",
      "363/363 [==============================] - 0s 536us/step - loss: 0.3874 - root_mean_squared_error: 0.6218 - mean_absolute_percentage_error: 25.1388 - val_loss: 0.3900 - val_root_mean_squared_error: 0.6245 - val_mean_absolute_percentage_error: 25.0074\n",
      "Epoch 9/100\n",
      "363/363 [==============================] - 0s 521us/step - loss: 0.3666 - root_mean_squared_error: 0.6054 - mean_absolute_percentage_error: 24.2860 - val_loss: 0.3798 - val_root_mean_squared_error: 0.6163 - val_mean_absolute_percentage_error: 24.8262\n",
      "Epoch 10/100\n",
      "363/363 [==============================] - 0s 530us/step - loss: 0.3526 - root_mean_squared_error: 0.5937 - mean_absolute_percentage_error: 23.9418 - val_loss: 0.3801 - val_root_mean_squared_error: 0.6165 - val_mean_absolute_percentage_error: 24.1228\n",
      "Epoch 11/100\n",
      "363/363 [==============================] - 0s 527us/step - loss: 0.3530 - root_mean_squared_error: 0.5941 - mean_absolute_percentage_error: 24.8683 - val_loss: 0.4773 - val_root_mean_squared_error: 0.6909 - val_mean_absolute_percentage_error: 27.9126\n",
      "Epoch 12/100\n",
      "363/363 [==============================] - 0s 544us/step - loss: 0.5375 - root_mean_squared_error: 0.7282 - mean_absolute_percentage_error: 26.2438 - val_loss: 0.3787 - val_root_mean_squared_error: 0.6154 - val_mean_absolute_percentage_error: 24.0547\n",
      "Epoch 13/100\n",
      "363/363 [==============================] - 0s 485us/step - loss: 0.3478 - root_mean_squared_error: 0.5890 - mean_absolute_percentage_error: 23.6047 - val_loss: 0.3780 - val_root_mean_squared_error: 0.6148 - val_mean_absolute_percentage_error: 24.4460\n",
      "Epoch 14/100\n",
      "363/363 [==============================] - 0s 476us/step - loss: 0.3483 - root_mean_squared_error: 0.5901 - mean_absolute_percentage_error: 24.2606 - val_loss: 0.3810 - val_root_mean_squared_error: 0.6172 - val_mean_absolute_percentage_error: 23.8824\n",
      "Epoch 15/100\n",
      "363/363 [==============================] - 0s 556us/step - loss: 0.3831 - root_mean_squared_error: 0.6185 - mean_absolute_percentage_error: 24.7420 - val_loss: 0.3708 - val_root_mean_squared_error: 0.6089 - val_mean_absolute_percentage_error: 24.4902\n",
      "Epoch 16/100\n",
      "363/363 [==============================] - 0s 487us/step - loss: 0.3488 - root_mean_squared_error: 0.5904 - mean_absolute_percentage_error: 23.9334 - val_loss: 0.3912 - val_root_mean_squared_error: 0.6255 - val_mean_absolute_percentage_error: 23.9822\n",
      "Epoch 17/100\n",
      "363/363 [==============================] - 0s 516us/step - loss: 0.3547 - root_mean_squared_error: 0.5954 - mean_absolute_percentage_error: 23.8051 - val_loss: 0.3663 - val_root_mean_squared_error: 0.6052 - val_mean_absolute_percentage_error: 24.7041\n",
      "Epoch 18/100\n",
      "363/363 [==============================] - 0s 517us/step - loss: 0.3540 - root_mean_squared_error: 0.5946 - mean_absolute_percentage_error: 24.0651 - val_loss: 0.3687 - val_root_mean_squared_error: 0.6072 - val_mean_absolute_percentage_error: 24.0718\n",
      "Epoch 19/100\n",
      "363/363 [==============================] - 0s 521us/step - loss: 0.3500 - root_mean_squared_error: 0.5915 - mean_absolute_percentage_error: 23.8392 - val_loss: 0.3697 - val_root_mean_squared_error: 0.6080 - val_mean_absolute_percentage_error: 23.8133\n",
      "Epoch 20/100\n",
      "363/363 [==============================] - 0s 528us/step - loss: 0.3490 - root_mean_squared_error: 0.5906 - mean_absolute_percentage_error: 23.8772 - val_loss: 0.3629 - val_root_mean_squared_error: 0.6024 - val_mean_absolute_percentage_error: 22.8944\n",
      "Epoch 21/100\n",
      "363/363 [==============================] - 0s 487us/step - loss: 0.3481 - root_mean_squared_error: 0.5898 - mean_absolute_percentage_error: 23.3671 - val_loss: 0.3640 - val_root_mean_squared_error: 0.6033 - val_mean_absolute_percentage_error: 23.6932\n",
      "Epoch 22/100\n",
      "363/363 [==============================] - 0s 483us/step - loss: 0.3493 - root_mean_squared_error: 0.5907 - mean_absolute_percentage_error: 24.0420 - val_loss: 0.3630 - val_root_mean_squared_error: 0.6025 - val_mean_absolute_percentage_error: 23.8637\n",
      "Epoch 23/100\n",
      "363/363 [==============================] - 0s 512us/step - loss: 0.3690 - root_mean_squared_error: 0.6071 - mean_absolute_percentage_error: 24.9090 - val_loss: 0.3710 - val_root_mean_squared_error: 0.6091 - val_mean_absolute_percentage_error: 24.3162\n",
      "Epoch 24/100\n",
      "363/363 [==============================] - 0s 512us/step - loss: 0.3493 - root_mean_squared_error: 0.5908 - mean_absolute_percentage_error: 23.3960 - val_loss: 0.3584 - val_root_mean_squared_error: 0.5987 - val_mean_absolute_percentage_error: 22.4053\n",
      "Epoch 25/100\n",
      "363/363 [==============================] - 0s 479us/step - loss: 0.3382 - root_mean_squared_error: 0.5813 - mean_absolute_percentage_error: 23.0595 - val_loss: 0.3531 - val_root_mean_squared_error: 0.5942 - val_mean_absolute_percentage_error: 23.2084\n",
      "Epoch 26/100\n",
      "363/363 [==============================] - 0s 484us/step - loss: 0.3382 - root_mean_squared_error: 0.5814 - mean_absolute_percentage_error: 22.8273 - val_loss: 0.3508 - val_root_mean_squared_error: 0.5923 - val_mean_absolute_percentage_error: 23.2145\n",
      "Epoch 27/100\n",
      "363/363 [==============================] - 0s 559us/step - loss: 0.3339 - root_mean_squared_error: 0.5777 - mean_absolute_percentage_error: 23.2255 - val_loss: 0.3511 - val_root_mean_squared_error: 0.5925 - val_mean_absolute_percentage_error: 23.6955\n",
      "Epoch 28/100\n",
      "363/363 [==============================] - 0s 494us/step - loss: 0.3418 - root_mean_squared_error: 0.5844 - mean_absolute_percentage_error: 23.2284 - val_loss: 0.3511 - val_root_mean_squared_error: 0.5925 - val_mean_absolute_percentage_error: 24.0708\n",
      "Epoch 29/100\n",
      "363/363 [==============================] - ETA: 0s - loss: 0.3242 - root_mean_squared_error: 0.5693 - mean_absolute_percentage_error: 23.439 - 0s 501us/step - loss: 0.3243 - root_mean_squared_error: 0.5695 - mean_absolute_percentage_error: 23.3951 - val_loss: 0.3546 - val_root_mean_squared_error: 0.5955 - val_mean_absolute_percentage_error: 23.1679\n",
      "Epoch 30/100\n",
      "363/363 [==============================] - 0s 522us/step - loss: 0.3242 - root_mean_squared_error: 0.5692 - mean_absolute_percentage_error: 22.6268 - val_loss: 0.3479 - val_root_mean_squared_error: 0.5898 - val_mean_absolute_percentage_error: 22.1852\n",
      "Epoch 31/100\n",
      "363/363 [==============================] - 0s 518us/step - loss: 0.3136 - root_mean_squared_error: 0.5597 - mean_absolute_percentage_error: 22.2273 - val_loss: 0.3485 - val_root_mean_squared_error: 0.5903 - val_mean_absolute_percentage_error: 23.0196\n"
     ]
    },
    {
     "name": "stdout",
     "output_type": "stream",
     "text": [
      "Epoch 32/100\n",
      "363/363 [==============================] - 0s 512us/step - loss: 0.3169 - root_mean_squared_error: 0.5628 - mean_absolute_percentage_error: 22.5723 - val_loss: 0.3460 - val_root_mean_squared_error: 0.5882 - val_mean_absolute_percentage_error: 23.2827\n",
      "Epoch 33/100\n",
      "363/363 [==============================] - 0s 479us/step - loss: 0.3181 - root_mean_squared_error: 0.5639 - mean_absolute_percentage_error: 22.7034 - val_loss: 0.3511 - val_root_mean_squared_error: 0.5925 - val_mean_absolute_percentage_error: 22.5049\n",
      "Epoch 34/100\n",
      "363/363 [==============================] - 0s 512us/step - loss: 0.3379 - root_mean_squared_error: 0.5810 - mean_absolute_percentage_error: 23.3314 - val_loss: 0.3477 - val_root_mean_squared_error: 0.5897 - val_mean_absolute_percentage_error: 22.6678\n",
      "Epoch 35/100\n",
      "363/363 [==============================] - 0s 517us/step - loss: 0.3172 - root_mean_squared_error: 0.5631 - mean_absolute_percentage_error: 22.6066 - val_loss: 0.3594 - val_root_mean_squared_error: 0.5995 - val_mean_absolute_percentage_error: 25.2360\n",
      "Epoch 36/100\n",
      "363/363 [==============================] - 0s 523us/step - loss: 0.3203 - root_mean_squared_error: 0.5659 - mean_absolute_percentage_error: 22.8552 - val_loss: 0.3485 - val_root_mean_squared_error: 0.5903 - val_mean_absolute_percentage_error: 23.7134\n",
      "Epoch 37/100\n",
      "363/363 [==============================] - 0s 524us/step - loss: 0.3269 - root_mean_squared_error: 0.5716 - mean_absolute_percentage_error: 22.5246 - val_loss: 0.3450 - val_root_mean_squared_error: 0.5874 - val_mean_absolute_percentage_error: 23.4489\n",
      "Epoch 38/100\n",
      "363/363 [==============================] - 0s 523us/step - loss: 0.3258 - root_mean_squared_error: 0.5707 - mean_absolute_percentage_error: 22.6418 - val_loss: 0.3580 - val_root_mean_squared_error: 0.5983 - val_mean_absolute_percentage_error: 23.2916\n",
      "Epoch 39/100\n",
      "363/363 [==============================] - 0s 522us/step - loss: 0.3092 - root_mean_squared_error: 0.5557 - mean_absolute_percentage_error: 22.4258 - val_loss: 0.3548 - val_root_mean_squared_error: 0.5956 - val_mean_absolute_percentage_error: 23.0381\n",
      "Epoch 40/100\n",
      "363/363 [==============================] - 0s 524us/step - loss: 0.3135 - root_mean_squared_error: 0.5599 - mean_absolute_percentage_error: 22.1529 - val_loss: 0.3413 - val_root_mean_squared_error: 0.5842 - val_mean_absolute_percentage_error: 23.5816\n",
      "Epoch 41/100\n",
      "363/363 [==============================] - 0s 524us/step - loss: 0.3191 - root_mean_squared_error: 0.5648 - mean_absolute_percentage_error: 22.8910 - val_loss: 0.3399 - val_root_mean_squared_error: 0.5830 - val_mean_absolute_percentage_error: 22.9874\n",
      "Epoch 42/100\n",
      "363/363 [==============================] - 0s 525us/step - loss: 0.3077 - root_mean_squared_error: 0.5546 - mean_absolute_percentage_error: 21.8823 - val_loss: 0.3378 - val_root_mean_squared_error: 0.5812 - val_mean_absolute_percentage_error: 23.1386\n",
      "Epoch 43/100\n",
      "363/363 [==============================] - 0s 526us/step - loss: 0.3048 - root_mean_squared_error: 0.5519 - mean_absolute_percentage_error: 22.3096 - val_loss: 0.3372 - val_root_mean_squared_error: 0.5807 - val_mean_absolute_percentage_error: 22.4612\n",
      "Epoch 44/100\n",
      "363/363 [==============================] - 0s 512us/step - loss: 0.3144 - root_mean_squared_error: 0.5606 - mean_absolute_percentage_error: 21.6762 - val_loss: 0.3371 - val_root_mean_squared_error: 0.5806 - val_mean_absolute_percentage_error: 23.0266\n",
      "Epoch 45/100\n",
      "363/363 [==============================] - 0s 515us/step - loss: 0.3027 - root_mean_squared_error: 0.5500 - mean_absolute_percentage_error: 22.2038 - val_loss: 0.3375 - val_root_mean_squared_error: 0.5810 - val_mean_absolute_percentage_error: 22.4813\n",
      "Epoch 46/100\n",
      "363/363 [==============================] - 0s 533us/step - loss: 0.3198 - root_mean_squared_error: 0.5650 - mean_absolute_percentage_error: 22.5937 - val_loss: 0.3339 - val_root_mean_squared_error: 0.5779 - val_mean_absolute_percentage_error: 22.2257\n",
      "Epoch 47/100\n",
      "363/363 [==============================] - 0s 551us/step - loss: 0.3071 - root_mean_squared_error: 0.5541 - mean_absolute_percentage_error: 22.1797 - val_loss: 0.3380 - val_root_mean_squared_error: 0.5814 - val_mean_absolute_percentage_error: 22.7209\n",
      "Epoch 48/100\n",
      "363/363 [==============================] - 0s 499us/step - loss: 0.3064 - root_mean_squared_error: 0.5534 - mean_absolute_percentage_error: 21.5302 - val_loss: 0.3353 - val_root_mean_squared_error: 0.5791 - val_mean_absolute_percentage_error: 22.4292\n",
      "Epoch 49/100\n",
      "363/363 [==============================] - 0s 533us/step - loss: 0.3139 - root_mean_squared_error: 0.5601 - mean_absolute_percentage_error: 21.9332 - val_loss: 0.3343 - val_root_mean_squared_error: 0.5782 - val_mean_absolute_percentage_error: 22.9205\n",
      "Epoch 50/100\n",
      "363/363 [==============================] - 0s 518us/step - loss: 0.3054 - root_mean_squared_error: 0.5524 - mean_absolute_percentage_error: 22.5689 - val_loss: 0.3355 - val_root_mean_squared_error: 0.5792 - val_mean_absolute_percentage_error: 23.2663\n",
      "Epoch 51/100\n",
      "363/363 [==============================] - 0s 531us/step - loss: 0.3113 - root_mean_squared_error: 0.5577 - mean_absolute_percentage_error: 22.1791 - val_loss: 0.3478 - val_root_mean_squared_error: 0.5897 - val_mean_absolute_percentage_error: 22.0181\n",
      "Epoch 52/100\n",
      "363/363 [==============================] - 0s 511us/step - loss: 0.2992 - root_mean_squared_error: 0.5469 - mean_absolute_percentage_error: 21.7072 - val_loss: 0.3347 - val_root_mean_squared_error: 0.5785 - val_mean_absolute_percentage_error: 22.4143\n",
      "Epoch 53/100\n",
      "363/363 [==============================] - 0s 505us/step - loss: 0.2912 - root_mean_squared_error: 0.5393 - mean_absolute_percentage_error: 21.4841 - val_loss: 0.3335 - val_root_mean_squared_error: 0.5775 - val_mean_absolute_percentage_error: 22.3461\n",
      "Epoch 54/100\n",
      "363/363 [==============================] - 0s 511us/step - loss: 0.3185 - root_mean_squared_error: 0.5642 - mean_absolute_percentage_error: 22.0828 - val_loss: 0.3313 - val_root_mean_squared_error: 0.5756 - val_mean_absolute_percentage_error: 21.6949\n",
      "Epoch 55/100\n",
      "363/363 [==============================] - 0s 506us/step - loss: 0.3095 - root_mean_squared_error: 0.5560 - mean_absolute_percentage_error: 22.1703 - val_loss: 0.3302 - val_root_mean_squared_error: 0.5746 - val_mean_absolute_percentage_error: 22.1624\n",
      "Epoch 56/100\n",
      "363/363 [==============================] - 0s 489us/step - loss: 0.3111 - root_mean_squared_error: 0.5576 - mean_absolute_percentage_error: 21.8494 - val_loss: 0.3317 - val_root_mean_squared_error: 0.5759 - val_mean_absolute_percentage_error: 22.8425\n",
      "Epoch 57/100\n",
      "363/363 [==============================] - 0s 462us/step - loss: 0.3010 - root_mean_squared_error: 0.5486 - mean_absolute_percentage_error: 21.8407 - val_loss: 0.3397 - val_root_mean_squared_error: 0.5829 - val_mean_absolute_percentage_error: 22.4264\n",
      "Epoch 58/100\n",
      "363/363 [==============================] - 0s 486us/step - loss: 0.3053 - root_mean_squared_error: 0.5524 - mean_absolute_percentage_error: 21.7142 - val_loss: 0.3373 - val_root_mean_squared_error: 0.5808 - val_mean_absolute_percentage_error: 21.8792\n",
      "Epoch 59/100\n",
      "363/363 [==============================] - 0s 507us/step - loss: 0.3071 - root_mean_squared_error: 0.5536 - mean_absolute_percentage_error: 21.6356 - val_loss: 0.3351 - val_root_mean_squared_error: 0.5789 - val_mean_absolute_percentage_error: 23.4664\n",
      "Epoch 60/100\n",
      "363/363 [==============================] - 0s 506us/step - loss: 0.3059 - root_mean_squared_error: 0.5530 - mean_absolute_percentage_error: 21.5066 - val_loss: 0.3277 - val_root_mean_squared_error: 0.5724 - val_mean_absolute_percentage_error: 22.0093\n",
      "Epoch 61/100\n",
      "363/363 [==============================] - 0s 471us/step - loss: 0.2999 - root_mean_squared_error: 0.5475 - mean_absolute_percentage_error: 21.5748 - val_loss: 0.3330 - val_root_mean_squared_error: 0.5771 - val_mean_absolute_percentage_error: 21.6481\n",
      "Epoch 62/100\n",
      "363/363 [==============================] - 0s 517us/step - loss: 0.3000 - root_mean_squared_error: 0.5475 - mean_absolute_percentage_error: 22.0361 - val_loss: 0.3324 - val_root_mean_squared_error: 0.5766 - val_mean_absolute_percentage_error: 22.2890\n",
      "Epoch 63/100\n"
     ]
    },
    {
     "name": "stdout",
     "output_type": "stream",
     "text": [
      "363/363 [==============================] - 0s 511us/step - loss: 0.2825 - root_mean_squared_error: 0.5312 - mean_absolute_percentage_error: 21.1864 - val_loss: 0.3307 - val_root_mean_squared_error: 0.5751 - val_mean_absolute_percentage_error: 21.8398\n",
      "Epoch 64/100\n",
      "363/363 [==============================] - 0s 503us/step - loss: 0.3088 - root_mean_squared_error: 0.5555 - mean_absolute_percentage_error: 21.8344 - val_loss: 0.3296 - val_root_mean_squared_error: 0.5741 - val_mean_absolute_percentage_error: 22.1628\n",
      "Epoch 65/100\n",
      "363/363 [==============================] - 0s 521us/step - loss: 0.2928 - root_mean_squared_error: 0.5410 - mean_absolute_percentage_error: 21.7498 - val_loss: 0.3268 - val_root_mean_squared_error: 0.5716 - val_mean_absolute_percentage_error: 22.0953\n",
      "Epoch 66/100\n",
      "363/363 [==============================] - 0s 521us/step - loss: 0.3144 - root_mean_squared_error: 0.5603 - mean_absolute_percentage_error: 21.9390 - val_loss: 0.3334 - val_root_mean_squared_error: 0.5774 - val_mean_absolute_percentage_error: 22.5616\n",
      "Epoch 67/100\n",
      "363/363 [==============================] - 0s 517us/step - loss: 0.3010 - root_mean_squared_error: 0.5485 - mean_absolute_percentage_error: 21.5690 - val_loss: 0.3287 - val_root_mean_squared_error: 0.5734 - val_mean_absolute_percentage_error: 22.2198\n",
      "Epoch 68/100\n",
      "363/363 [==============================] - 0s 504us/step - loss: 0.2856 - root_mean_squared_error: 0.5343 - mean_absolute_percentage_error: 21.2700 - val_loss: 0.3506 - val_root_mean_squared_error: 0.5921 - val_mean_absolute_percentage_error: 22.7938\n",
      "Epoch 69/100\n",
      "363/363 [==============================] - 0s 475us/step - loss: 0.3023 - root_mean_squared_error: 0.5497 - mean_absolute_percentage_error: 21.3404 - val_loss: 0.3280 - val_root_mean_squared_error: 0.5727 - val_mean_absolute_percentage_error: 22.5148\n",
      "Epoch 70/100\n",
      "363/363 [==============================] - 0s 503us/step - loss: 0.3041 - root_mean_squared_error: 0.5513 - mean_absolute_percentage_error: 22.0851 - val_loss: 0.3293 - val_root_mean_squared_error: 0.5739 - val_mean_absolute_percentage_error: 21.9847\n",
      "Epoch 71/100\n",
      "363/363 [==============================] - 0s 524us/step - loss: 0.2978 - root_mean_squared_error: 0.5456 - mean_absolute_percentage_error: 21.7599 - val_loss: 0.3307 - val_root_mean_squared_error: 0.5751 - val_mean_absolute_percentage_error: 22.8753\n",
      "Epoch 72/100\n",
      "363/363 [==============================] - 0s 503us/step - loss: 0.2944 - root_mean_squared_error: 0.5425 - mean_absolute_percentage_error: 21.0956 - val_loss: 0.3266 - val_root_mean_squared_error: 0.5715 - val_mean_absolute_percentage_error: 21.6627\n",
      "Epoch 73/100\n",
      "363/363 [==============================] - 0s 516us/step - loss: 0.3119 - root_mean_squared_error: 0.5581 - mean_absolute_percentage_error: 21.7927 - val_loss: 0.3244 - val_root_mean_squared_error: 0.5696 - val_mean_absolute_percentage_error: 22.1883\n",
      "Epoch 74/100\n",
      "363/363 [==============================] - 0s 515us/step - loss: 0.3032 - root_mean_squared_error: 0.5505 - mean_absolute_percentage_error: 21.8884 - val_loss: 0.3318 - val_root_mean_squared_error: 0.5760 - val_mean_absolute_percentage_error: 22.0174\n",
      "Epoch 75/100\n",
      "363/363 [==============================] - 0s 503us/step - loss: 0.3014 - root_mean_squared_error: 0.5488 - mean_absolute_percentage_error: 21.8595 - val_loss: 0.3262 - val_root_mean_squared_error: 0.5711 - val_mean_absolute_percentage_error: 21.2542\n",
      "Epoch 76/100\n",
      "363/363 [==============================] - 0s 497us/step - loss: 0.2941 - root_mean_squared_error: 0.5422 - mean_absolute_percentage_error: 21.4450 - val_loss: 0.3241 - val_root_mean_squared_error: 0.5693 - val_mean_absolute_percentage_error: 21.5714\n",
      "Epoch 77/100\n",
      "363/363 [==============================] - 0s 538us/step - loss: 0.2931 - root_mean_squared_error: 0.5411 - mean_absolute_percentage_error: 21.3541 - val_loss: 0.3243 - val_root_mean_squared_error: 0.5695 - val_mean_absolute_percentage_error: 22.1119\n",
      "Epoch 78/100\n",
      "363/363 [==============================] - 0s 499us/step - loss: 0.2890 - root_mean_squared_error: 0.5372 - mean_absolute_percentage_error: 21.5254 - val_loss: 0.3267 - val_root_mean_squared_error: 0.5716 - val_mean_absolute_percentage_error: 21.7697\n",
      "Epoch 79/100\n",
      "363/363 [==============================] - 0s 543us/step - loss: 0.3089 - root_mean_squared_error: 0.5553 - mean_absolute_percentage_error: 21.4952 - val_loss: 0.3271 - val_root_mean_squared_error: 0.5719 - val_mean_absolute_percentage_error: 21.9302\n",
      "Epoch 80/100\n",
      "363/363 [==============================] - 0s 518us/step - loss: 0.3034 - root_mean_squared_error: 0.5507 - mean_absolute_percentage_error: 21.3670 - val_loss: 0.3290 - val_root_mean_squared_error: 0.5736 - val_mean_absolute_percentage_error: 22.7854\n",
      "Epoch 81/100\n",
      "363/363 [==============================] - 0s 526us/step - loss: 0.2871 - root_mean_squared_error: 0.5357 - mean_absolute_percentage_error: 20.8856 - val_loss: 0.3249 - val_root_mean_squared_error: 0.5700 - val_mean_absolute_percentage_error: 21.8540\n",
      "Epoch 82/100\n",
      "363/363 [==============================] - 0s 534us/step - loss: 0.2889 - root_mean_squared_error: 0.5374 - mean_absolute_percentage_error: 21.2183 - val_loss: 0.3385 - val_root_mean_squared_error: 0.5818 - val_mean_absolute_percentage_error: 21.6931\n",
      "Epoch 83/100\n",
      "363/363 [==============================] - 0s 527us/step - loss: 0.2959 - root_mean_squared_error: 0.5437 - mean_absolute_percentage_error: 21.1200 - val_loss: 0.3239 - val_root_mean_squared_error: 0.5691 - val_mean_absolute_percentage_error: 22.2147\n",
      "Epoch 84/100\n",
      "363/363 [==============================] - 0s 472us/step - loss: 0.2909 - root_mean_squared_error: 0.5392 - mean_absolute_percentage_error: 21.5117 - val_loss: 0.3256 - val_root_mean_squared_error: 0.5706 - val_mean_absolute_percentage_error: 22.7457\n",
      "Epoch 85/100\n",
      "363/363 [==============================] - 0s 510us/step - loss: 0.2971 - root_mean_squared_error: 0.5451 - mean_absolute_percentage_error: 21.6595 - val_loss: 0.3407 - val_root_mean_squared_error: 0.5837 - val_mean_absolute_percentage_error: 21.3982\n",
      "Epoch 86/100\n",
      "363/363 [==============================] - 0s 510us/step - loss: 0.2829 - root_mean_squared_error: 0.5313 - mean_absolute_percentage_error: 20.8463 - val_loss: 0.3249 - val_root_mean_squared_error: 0.5700 - val_mean_absolute_percentage_error: 22.4584\n",
      "Epoch 87/100\n",
      "363/363 [==============================] - 0s 538us/step - loss: 0.2934 - root_mean_squared_error: 0.5416 - mean_absolute_percentage_error: 21.5299 - val_loss: 0.3218 - val_root_mean_squared_error: 0.5672 - val_mean_absolute_percentage_error: 21.5793\n",
      "Epoch 88/100\n",
      "363/363 [==============================] - 0s 519us/step - loss: 0.2907 - root_mean_squared_error: 0.5390 - mean_absolute_percentage_error: 21.6529 - val_loss: 0.3295 - val_root_mean_squared_error: 0.5740 - val_mean_absolute_percentage_error: 21.1331\n",
      "Epoch 89/100\n",
      "363/363 [==============================] - 0s 500us/step - loss: 0.2809 - root_mean_squared_error: 0.5297 - mean_absolute_percentage_error: 20.7780 - val_loss: 0.3223 - val_root_mean_squared_error: 0.5677 - val_mean_absolute_percentage_error: 22.3124\n",
      "Epoch 90/100\n",
      "363/363 [==============================] - 0s 514us/step - loss: 0.3061 - root_mean_squared_error: 0.5529 - mean_absolute_percentage_error: 21.6256 - val_loss: 0.3279 - val_root_mean_squared_error: 0.5726 - val_mean_absolute_percentage_error: 22.7736\n",
      "Epoch 91/100\n",
      "363/363 [==============================] - 0s 512us/step - loss: 0.2831 - root_mean_squared_error: 0.5320 - mean_absolute_percentage_error: 21.2052 - val_loss: 0.3215 - val_root_mean_squared_error: 0.5670 - val_mean_absolute_percentage_error: 21.8523\n",
      "Epoch 92/100\n",
      "363/363 [==============================] - 0s 524us/step - loss: 0.2811 - root_mean_squared_error: 0.5299 - mean_absolute_percentage_error: 20.9533 - val_loss: 0.3250 - val_root_mean_squared_error: 0.5701 - val_mean_absolute_percentage_error: 22.3228\n",
      "Epoch 93/100\n",
      "363/363 [==============================] - 0s 515us/step - loss: 0.2975 - root_mean_squared_error: 0.5454 - mean_absolute_percentage_error: 21.1194 - val_loss: 0.3223 - val_root_mean_squared_error: 0.5677 - val_mean_absolute_percentage_error: 21.8490\n",
      "Epoch 94/100\n"
     ]
    },
    {
     "name": "stdout",
     "output_type": "stream",
     "text": [
      "363/363 [==============================] - 0s 536us/step - loss: 0.2886 - root_mean_squared_error: 0.5370 - mean_absolute_percentage_error: 20.9209 - val_loss: 0.3248 - val_root_mean_squared_error: 0.5699 - val_mean_absolute_percentage_error: 22.7785\n",
      "Epoch 95/100\n",
      "363/363 [==============================] - 0s 483us/step - loss: 0.2838 - root_mean_squared_error: 0.5326 - mean_absolute_percentage_error: 20.7623 - val_loss: 0.3259 - val_root_mean_squared_error: 0.5708 - val_mean_absolute_percentage_error: 22.1745\n",
      "Epoch 96/100\n",
      "363/363 [==============================] - 0s 511us/step - loss: 0.2997 - root_mean_squared_error: 0.5473 - mean_absolute_percentage_error: 21.6435 - val_loss: 0.3247 - val_root_mean_squared_error: 0.5698 - val_mean_absolute_percentage_error: 22.7038\n",
      "Epoch 97/100\n",
      "363/363 [==============================] - 0s 512us/step - loss: 0.2928 - root_mean_squared_error: 0.5409 - mean_absolute_percentage_error: 21.6431 - val_loss: 0.3265 - val_root_mean_squared_error: 0.5714 - val_mean_absolute_percentage_error: 21.3969\n",
      "Epoch 98/100\n",
      "363/363 [==============================] - 0s 506us/step - loss: 0.2850 - root_mean_squared_error: 0.5335 - mean_absolute_percentage_error: 21.4311 - val_loss: 0.3226 - val_root_mean_squared_error: 0.5680 - val_mean_absolute_percentage_error: 21.6855\n",
      "Epoch 99/100\n",
      "363/363 [==============================] - 0s 547us/step - loss: 0.2967 - root_mean_squared_error: 0.5447 - mean_absolute_percentage_error: 21.2347 - val_loss: 0.3211 - val_root_mean_squared_error: 0.5666 - val_mean_absolute_percentage_error: 22.0295\n",
      "Epoch 100/100\n",
      "363/363 [==============================] - 0s 474us/step - loss: 0.2849 - root_mean_squared_error: 0.5337 - mean_absolute_percentage_error: 21.3029 - val_loss: 0.3262 - val_root_mean_squared_error: 0.5711 - val_mean_absolute_percentage_error: 21.0744\n"
     ]
    }
   ],
   "source": [
    "history = model.fit(X_train, y_train, epochs=100, validation_data=(X_valid, y_valid))"
   ]
  },
  {
   "cell_type": "code",
   "execution_count": 15,
   "metadata": {
    "scrolled": true
   },
   "outputs": [
    {
     "data": {
      "image/png": "[encoded data removed]",
      "text/plain": [
       "<Figure size 576x360 with 1 Axes>"
      ]
     },
     "metadata": {
      "needs_background": "light"
     },
     "output_type": "display_data"
    }
   ],
   "source": [
    "pd.DataFrame(history.history)[['loss', 'val_loss', 'root_mean_squared_error', 'val_root_mean_squared_error']].plot(figsize=(8,5))\n",
    "plt.grid(True)\n",
    "plt.show()"
   ]
  },
  {
   "cell_type": "code",
   "execution_count": 16,
   "metadata": {},
   "outputs": [
    {
     "data": {
      "image/png": "[encoded data removed]",
      "text/plain": [
       "<Figure size 576x360 with 1 Axes>"
      ]
     },
     "metadata": {
      "needs_background": "light"
     },
     "output_type": "display_data"
    }
   ],
   "source": [
    "pd.DataFrame(history.history)[['mean_absolute_percentage_error', 'val_mean_absolute_percentage_error']].plot(figsize=(8,5))\n",
    "plt.grid(True)\n",
    "plt.show()"
   ]
  },
  {
   "cell_type": "markdown",
   "metadata": {},
   "source": [
    "## Evaluate the model"
   ]
  },
  {
   "cell_type": "code",
   "execution_count": 17,
   "metadata": {},
   "outputs": [
    {
     "name": "stdout",
     "output_type": "stream",
     "text": [
      "162/162 [==============================] - 0s 405us/step - loss: 0.3101 - root_mean_squared_error: 0.5569 - mean_absolute_percentage_error: 20.6587\n"
     ]
    }
   ],
   "source": [
    "mse_test = model.evaluate(X_test, y_test)"
   ]
  }
 ],
 "metadata": {
  "kernelspec": {
   "display_name": "Python 3",
   "language": "python",
   "name": "python3"
  },
  "language_info": {
   "codemirror_mode": {
    "name": "ipython",
    "version": 3
   },
   "file_extension": ".py",
   "mimetype": "text/x-python",
   "name": "python",
   "nbconvert_exporter": "python",
   "pygments_lexer": "ipython3",
   "version": "3.8.5"
  }
 },
 "nbformat": 4,
 "nbformat_minor": 4
}
