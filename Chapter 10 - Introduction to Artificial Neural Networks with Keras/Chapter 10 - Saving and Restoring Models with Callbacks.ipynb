{
 "cells": [
  {
   "cell_type": "markdown",
   "metadata": {},
   "source": [
    "# Saving and Restoring Models with Callbacks"
   ]
  },
  {
   "cell_type": "code",
   "execution_count": 1,
   "metadata": {},
   "outputs": [],
   "source": [
    "from sklearn.datasets import fetch_california_housing\n",
    "from sklearn.model_selection import train_test_split\n",
    "from sklearn.preprocessing import StandardScaler\n",
    "import tensorflow as tf\n",
    "from tensorflow import keras\n",
    "import pandas as pd\n",
    "import matplotlib.pyplot as plt"
   ]
  },
  {
   "cell_type": "markdown",
   "metadata": {},
   "source": [
    "## Get the data"
   ]
  },
  {
   "cell_type": "code",
   "execution_count": 2,
   "metadata": {},
   "outputs": [],
   "source": [
    "housing = fetch_california_housing()"
   ]
  },
  {
   "cell_type": "markdown",
   "metadata": {},
   "source": [
    "### Create train, validation and test sets"
   ]
  },
  {
   "cell_type": "code",
   "execution_count": 3,
   "metadata": {},
   "outputs": [],
   "source": [
    "X_train_full, X_test, y_train_full, y_test = train_test_split(housing.data, housing.target)"
   ]
  },
  {
   "cell_type": "code",
   "execution_count": 4,
   "metadata": {},
   "outputs": [],
   "source": [
    "X_train, X_valid, y_train, y_valid = train_test_split(X_train_full, y_train_full)"
   ]
  },
  {
   "cell_type": "code",
   "execution_count": 5,
   "metadata": {},
   "outputs": [
    {
     "data": {
      "text/plain": [
       "(11610, 8)"
      ]
     },
     "execution_count": 5,
     "metadata": {},
     "output_type": "execute_result"
    }
   ],
   "source": [
    "X_train.shape"
   ]
  },
  {
   "cell_type": "code",
   "execution_count": 6,
   "metadata": {},
   "outputs": [
    {
     "data": {
      "text/plain": [
       "(5160, 8)"
      ]
     },
     "execution_count": 6,
     "metadata": {},
     "output_type": "execute_result"
    }
   ],
   "source": [
    "X_test.shape"
   ]
  },
  {
   "cell_type": "code",
   "execution_count": 7,
   "metadata": {
    "scrolled": true
   },
   "outputs": [
    {
     "data": {
      "text/plain": [
       "(3870, 8)"
      ]
     },
     "execution_count": 7,
     "metadata": {},
     "output_type": "execute_result"
    }
   ],
   "source": [
    "X_valid.shape"
   ]
  },
  {
   "cell_type": "markdown",
   "metadata": {},
   "source": [
    "### Scale the data"
   ]
  },
  {
   "cell_type": "code",
   "execution_count": 8,
   "metadata": {},
   "outputs": [],
   "source": [
    "scaler = StandardScaler()\n",
    "X_train = scaler.fit_transform(X_train)\n",
    "X_test = scaler.transform(X_test)\n",
    "X_valid = scaler.transform(X_valid)"
   ]
  },
  {
   "cell_type": "code",
   "execution_count": 9,
   "metadata": {},
   "outputs": [
    {
     "data": {
      "text/plain": [
       "(8,)"
      ]
     },
     "execution_count": 9,
     "metadata": {},
     "output_type": "execute_result"
    }
   ],
   "source": [
    "X_train.shape[1:]"
   ]
  },
  {
   "cell_type": "markdown",
   "metadata": {},
   "source": [
    "### Split the data further into different subsets"
   ]
  },
  {
   "cell_type": "code",
   "execution_count": 10,
   "metadata": {},
   "outputs": [],
   "source": [
    "X_train_A, X_train_B = X_train[:, :5], X_train[:, 2:]\n",
    "X_test_A, X_test_B = X_test[:, :5], X_test[:, 2:]\n",
    "X_valid_A, X_valid_B = X_valid[:, :5], X_valid[:, 2:]"
   ]
  },
  {
   "cell_type": "code",
   "execution_count": 11,
   "metadata": {},
   "outputs": [
    {
     "data": {
      "text/plain": [
       "(11610, 5)"
      ]
     },
     "execution_count": 11,
     "metadata": {},
     "output_type": "execute_result"
    }
   ],
   "source": [
    "X_train_A.shape"
   ]
  },
  {
   "cell_type": "code",
   "execution_count": 12,
   "metadata": {},
   "outputs": [
    {
     "data": {
      "text/plain": [
       "(11610, 6)"
      ]
     },
     "execution_count": 12,
     "metadata": {},
     "output_type": "execute_result"
    }
   ],
   "source": [
    "X_train_B.shape"
   ]
  },
  {
   "cell_type": "markdown",
   "metadata": {},
   "source": [
    "## Create the model"
   ]
  },
  {
   "cell_type": "markdown",
   "metadata": {},
   "source": [
    "We create a model with two input layers. In our scenario, we only feed different subsets of features into the two input layers. Input layer A is directly connected to a concatenate layer (the *wide* part), while input layer B is fed into two subsequent hidden layers 1 and 2 (the *deep* part), with the latter connecting to the concatenate layer as well. From the concatenate layer, the main output is generated. As an additional output, the auxiliary output layer is generated from hidden layer 2.<br>\n",
    "The auxiliary output layer can be used to make sure that the deep part of the network trains some useful features on its own, without relying on the wide part."
   ]
  },
  {
   "cell_type": "code",
   "execution_count": 13,
   "metadata": {},
   "outputs": [],
   "source": [
    "input_A = keras.layers.Input(shape=X_train_A.shape[1:], name='wide_input')\n",
    "input_B = keras.layers.Input(shape=X_train_B.shape[1:], name='deep_input')\n",
    "hidden1 = keras.layers.Dense(30, activation='relu', name='hidden_1')(input_B)\n",
    "hidden2 = keras.layers.Dense(30, activation='relu', name='hidden_2')(hidden1)\n",
    "concat = keras.layers.Concatenate(name='wide_concat')([input_A, hidden2])\n",
    "output = keras.layers.Dense(1, name='main_output')(concat)\n",
    "aux_output = keras.layers.Dense(1, name='aux_output')(hidden2)\n",
    "model = keras.Model(inputs=[input_A, input_B], outputs=[output, aux_output])"
   ]
  },
  {
   "cell_type": "code",
   "execution_count": 14,
   "metadata": {},
   "outputs": [],
   "source": [
    "model.compile(\n",
    "    loss=['mse', 'mse'],\n",
    "    loss_weights=[0.9, 0.1],\n",
    "    optimizer=keras.optimizers.SGD(lr=5e-3),\n",
    "    metrics=[tf.keras.metrics.RootMeanSquaredError(), 'mean_absolute_percentage_error']\n",
    ")"
   ]
  },
  {
   "cell_type": "code",
   "execution_count": 15,
   "metadata": {
    "scrolled": true
   },
   "outputs": [
    {
     "name": "stdout",
     "output_type": "stream",
     "text": [
      "Model: \"model\"\n",
      "__________________________________________________________________________________________________\n",
      "Layer (type)                    Output Shape         Param #     Connected to                     \n",
      "==================================================================================================\n",
      "deep_input (InputLayer)         [(None, 6)]          0                                            \n",
      "__________________________________________________________________________________________________\n",
      "hidden_1 (Dense)                (None, 30)           210         deep_input[0][0]                 \n",
      "__________________________________________________________________________________________________\n",
      "wide_input (InputLayer)         [(None, 5)]          0                                            \n",
      "__________________________________________________________________________________________________\n",
      "hidden_2 (Dense)                (None, 30)           930         hidden_1[0][0]                   \n",
      "__________________________________________________________________________________________________\n",
      "wide_concat (Concatenate)       (None, 35)           0           wide_input[0][0]                 \n",
      "                                                                 hidden_2[0][0]                   \n",
      "__________________________________________________________________________________________________\n",
      "main_output (Dense)             (None, 1)            36          wide_concat[0][0]                \n",
      "__________________________________________________________________________________________________\n",
      "aux_output (Dense)              (None, 1)            31          hidden_2[0][0]                   \n",
      "==================================================================================================\n",
      "Total params: 1,207\n",
      "Trainable params: 1,207\n",
      "Non-trainable params: 0\n",
      "__________________________________________________________________________________________________\n"
     ]
    }
   ],
   "source": [
    "model.summary()"
   ]
  },
  {
   "cell_type": "markdown",
   "metadata": {},
   "source": [
    "## Specify the model callbacks"
   ]
  },
  {
   "cell_type": "markdown",
   "metadata": {},
   "source": [
    "We only store the model with the best parameters and implement early stopping."
   ]
  },
  {
   "cell_type": "code",
   "execution_count": 16,
   "metadata": {},
   "outputs": [],
   "source": [
    "checkpoint_cb = keras.callbacks.ModelCheckpoint('chapter10_housing_model.h5', save_best_only=True)\n",
    "early_stopping_cb = keras.callbacks.EarlyStopping(patience=10, restore_best_weights=True)"
   ]
  },
  {
   "cell_type": "markdown",
   "metadata": {},
   "source": [
    "We additionally define a custom callback which prints the validation loss over the training loss at the end of each epoch in order to detect overfitting:"
   ]
  },
  {
   "cell_type": "code",
   "execution_count": 17,
   "metadata": {},
   "outputs": [],
   "source": [
    "class PrintValTrainRatioCallback(keras.callbacks.Callback):\n",
    "    def on_epoch_end(self, epoch, logs):\n",
    "        print('\\nval/train: {:.2f}'.format(logs['val_loss']/logs['loss']))"
   ]
  },
  {
   "cell_type": "markdown",
   "metadata": {},
   "source": [
    "## Train the model"
   ]
  },
  {
   "cell_type": "code",
   "execution_count": 18,
   "metadata": {},
   "outputs": [
    {
     "name": "stdout",
     "output_type": "stream",
     "text": [
      "Epoch 1/150\n",
      "363/363 [==============================] - 2s 3ms/step - loss: 1.7413 - main_output_loss: 1.4978 - aux_output_loss: 3.9322 - main_output_root_mean_squared_error: 1.2044 - main_output_mean_absolute_percentage_error: 46.6741 - aux_output_root_mean_squared_error: 1.9732 - aux_output_mean_absolute_percentage_error: 75.0144 - val_loss: 0.7058 - val_main_output_loss: 0.6103 - val_aux_output_loss: 1.5657 - val_main_output_root_mean_squared_error: 0.7812 - val_main_output_mean_absolute_percentage_error: 33.9615 - val_aux_output_root_mean_squared_error: 1.2513 - val_aux_output_mean_absolute_percentage_error: 47.2907\n",
      "\n",
      "val/train: 0.58\n",
      "Epoch 2/150\n",
      "363/363 [==============================] - 0s 751us/step - loss: 0.6846 - main_output_loss: 0.5986 - aux_output_loss: 1.4595 - main_output_root_mean_squared_error: 0.7736 - main_output_mean_absolute_percentage_error: 33.9323 - aux_output_root_mean_squared_error: 1.2079 - aux_output_mean_absolute_percentage_error: 49.1170 - val_loss: 0.5979 - val_main_output_loss: 0.5200 - val_aux_output_loss: 1.2991 - val_main_output_root_mean_squared_error: 0.7211 - val_main_output_mean_absolute_percentage_error: 29.6612 - val_aux_output_root_mean_squared_error: 1.1398 - val_aux_output_mean_absolute_percentage_error: 51.0852\n",
      "\n",
      "val/train: 0.89\n",
      "Epoch 3/150\n",
      "363/363 [==============================] - 0s 735us/step - loss: 0.6240 - main_output_loss: 0.5502 - aux_output_loss: 1.2877 - main_output_root_mean_squared_error: 0.7417 - main_output_mean_absolute_percentage_error: 31.3624 - aux_output_root_mean_squared_error: 1.1346 - aux_output_mean_absolute_percentage_error: 51.6621 - val_loss: 0.5488 - val_main_output_loss: 0.4788 - val_aux_output_loss: 1.1794 - val_main_output_root_mean_squared_error: 0.6919 - val_main_output_mean_absolute_percentage_error: 28.1627 - val_aux_output_root_mean_squared_error: 1.0860 - val_aux_output_mean_absolute_percentage_error: 50.5067\n",
      "\n",
      "val/train: 0.92\n",
      "Epoch 4/150\n",
      "363/363 [==============================] - 0s 750us/step - loss: 0.5588 - main_output_loss: 0.4935 - aux_output_loss: 1.1473 - main_output_root_mean_squared_error: 0.7023 - main_output_mean_absolute_percentage_error: 29.7582 - aux_output_root_mean_squared_error: 1.0710 - aux_output_mean_absolute_percentage_error: 51.2397 - val_loss: 0.5333 - val_main_output_loss: 0.4719 - val_aux_output_loss: 1.0860 - val_main_output_root_mean_squared_error: 0.6870 - val_main_output_mean_absolute_percentage_error: 27.8266 - val_aux_output_root_mean_squared_error: 1.0421 - val_aux_output_mean_absolute_percentage_error: 49.2829\n",
      "\n",
      "val/train: 0.97\n",
      "Epoch 5/150\n",
      "363/363 [==============================] - 0s 731us/step - loss: 0.5330 - main_output_loss: 0.4721 - aux_output_loss: 1.0817 - main_output_root_mean_squared_error: 0.6870 - main_output_mean_absolute_percentage_error: 28.9296 - aux_output_root_mean_squared_error: 1.0399 - aux_output_mean_absolute_percentage_error: 49.0304 - val_loss: 0.5061 - val_main_output_loss: 0.4498 - val_aux_output_loss: 1.0132 - val_main_output_root_mean_squared_error: 0.6707 - val_main_output_mean_absolute_percentage_error: 28.1716 - val_aux_output_root_mean_squared_error: 1.0066 - val_aux_output_mean_absolute_percentage_error: 46.8117\n",
      "\n",
      "val/train: 0.95\n",
      "Epoch 6/150\n",
      "363/363 [==============================] - 0s 719us/step - loss: 0.5150 - main_output_loss: 0.4609 - aux_output_loss: 1.0019 - main_output_root_mean_squared_error: 0.6789 - main_output_mean_absolute_percentage_error: 29.3380 - aux_output_root_mean_squared_error: 1.0009 - aux_output_mean_absolute_percentage_error: 47.7612 - val_loss: 0.4944 - val_main_output_loss: 0.4438 - val_aux_output_loss: 0.9498 - val_main_output_root_mean_squared_error: 0.6662 - val_main_output_mean_absolute_percentage_error: 27.7820 - val_aux_output_root_mean_squared_error: 0.9746 - val_aux_output_mean_absolute_percentage_error: 45.3156\n",
      "\n",
      "val/train: 0.95\n",
      "Epoch 7/150\n",
      "363/363 [==============================] - 0s 737us/step - loss: 0.4988 - main_output_loss: 0.4506 - aux_output_loss: 0.9324 - main_output_root_mean_squared_error: 0.6711 - main_output_mean_absolute_percentage_error: 28.8324 - aux_output_root_mean_squared_error: 0.9655 - aux_output_mean_absolute_percentage_error: 45.5670 - val_loss: 0.4816 - val_main_output_loss: 0.4362 - val_aux_output_loss: 0.8902 - val_main_output_root_mean_squared_error: 0.6605 - val_main_output_mean_absolute_percentage_error: 28.7184 - val_aux_output_root_mean_squared_error: 0.9435 - val_aux_output_mean_absolute_percentage_error: 44.6302\n",
      "\n",
      "val/train: 0.95\n",
      "Epoch 8/150\n",
      "363/363 [==============================] - 0s 741us/step - loss: 0.5010 - main_output_loss: 0.4585 - aux_output_loss: 0.8834 - main_output_root_mean_squared_error: 0.6770 - main_output_mean_absolute_percentage_error: 29.6770 - aux_output_root_mean_squared_error: 0.9398 - aux_output_mean_absolute_percentage_error: 45.3917 - val_loss: 0.4758 - val_main_output_loss: 0.4348 - val_aux_output_loss: 0.8450 - val_main_output_root_mean_squared_error: 0.6594 - val_main_output_mean_absolute_percentage_error: 27.3378 - val_aux_output_root_mean_squared_error: 0.9193 - val_aux_output_mean_absolute_percentage_error: 41.8769\n",
      "\n",
      "val/train: 0.96\n",
      "Epoch 9/150\n",
      "363/363 [==============================] - 0s 743us/step - loss: 0.5082 - main_output_loss: 0.4679 - aux_output_loss: 0.8713 - main_output_root_mean_squared_error: 0.6836 - main_output_mean_absolute_percentage_error: 29.3293 - aux_output_root_mean_squared_error: 0.9329 - aux_output_mean_absolute_percentage_error: 43.6577 - val_loss: 0.4624 - val_main_output_loss: 0.4249 - val_aux_output_loss: 0.7994 - val_main_output_root_mean_squared_error: 0.6519 - val_main_output_mean_absolute_percentage_error: 26.4919 - val_aux_output_root_mean_squared_error: 0.8941 - val_aux_output_mean_absolute_percentage_error: 40.3624\n",
      "\n",
      "val/train: 0.95\n",
      "Epoch 10/150\n",
      "363/363 [==============================] - 0s 728us/step - loss: 0.4940 - main_output_loss: 0.4566 - aux_output_loss: 0.8308 - main_output_root_mean_squared_error: 0.6752 - main_output_mean_absolute_percentage_error: 28.2476 - aux_output_root_mean_squared_error: 0.9109 - aux_output_mean_absolute_percentage_error: 41.6913 - val_loss: 0.4520 - val_main_output_loss: 0.4176 - val_aux_output_loss: 0.7618 - val_main_output_root_mean_squared_error: 0.6462 - val_main_output_mean_absolute_percentage_error: 27.7525 - val_aux_output_root_mean_squared_error: 0.8728 - val_aux_output_mean_absolute_percentage_error: 39.2197\n",
      "\n",
      "val/train: 0.94\n",
      "Epoch 11/150\n",
      "363/363 [==============================] - 0s 741us/step - loss: 0.4712 - main_output_loss: 0.4375 - aux_output_loss: 0.7752 - main_output_root_mean_squared_error: 0.6612 - main_output_mean_absolute_percentage_error: 27.9212 - aux_output_root_mean_squared_error: 0.8803 - aux_output_mean_absolute_percentage_error: 39.9994 - val_loss: 0.4484 - val_main_output_loss: 0.4166 - val_aux_output_loss: 0.7341 - val_main_output_root_mean_squared_error: 0.6455 - val_main_output_mean_absolute_percentage_error: 25.8127 - val_aux_output_root_mean_squared_error: 0.8568 - val_aux_output_mean_absolute_percentage_error: 37.2820\n",
      "\n",
      "val/train: 0.95\n",
      "Epoch 12/150\n",
      "363/363 [==============================] - 0s 736us/step - loss: 0.4529 - main_output_loss: 0.4226 - aux_output_loss: 0.7258 - main_output_root_mean_squared_error: 0.6500 - main_output_mean_absolute_percentage_error: 27.2030 - aux_output_root_mean_squared_error: 0.8519 - aux_output_mean_absolute_percentage_error: 38.6392 - val_loss: 0.4366 - val_main_output_loss: 0.4068 - val_aux_output_loss: 0.7048 - val_main_output_root_mean_squared_error: 0.6378 - val_main_output_mean_absolute_percentage_error: 26.5239 - val_aux_output_root_mean_squared_error: 0.8395 - val_aux_output_mean_absolute_percentage_error: 37.3629\n",
      "\n",
      "val/train: 0.94\n",
      "Epoch 13/150\n",
      "363/363 [==============================] - 0s 723us/step - loss: 0.4565 - main_output_loss: 0.4276 - aux_output_loss: 0.7168 - main_output_root_mean_squared_error: 0.6538 - main_output_mean_absolute_percentage_error: 27.7658 - aux_output_root_mean_squared_error: 0.8466 - aux_output_mean_absolute_percentage_error: 38.3292 - val_loss: 0.4313 - val_main_output_loss: 0.4031 - val_aux_output_loss: 0.6853 - val_main_output_root_mean_squared_error: 0.6349 - val_main_output_mean_absolute_percentage_error: 25.7863 - val_aux_output_root_mean_squared_error: 0.8278 - val_aux_output_mean_absolute_percentage_error: 36.3816\n"
     ]
    },
    {
     "name": "stdout",
     "output_type": "stream",
     "text": [
      "\n",
      "val/train: 0.94\n",
      "Epoch 14/150\n",
      "363/363 [==============================] - 0s 708us/step - loss: 0.4377 - main_output_loss: 0.4104 - aux_output_loss: 0.6833 - main_output_root_mean_squared_error: 0.6404 - main_output_mean_absolute_percentage_error: 27.1257 - aux_output_root_mean_squared_error: 0.8264 - aux_output_mean_absolute_percentage_error: 37.1618 - val_loss: 0.4299 - val_main_output_loss: 0.4030 - val_aux_output_loss: 0.6719 - val_main_output_root_mean_squared_error: 0.6348 - val_main_output_mean_absolute_percentage_error: 24.9081 - val_aux_output_root_mean_squared_error: 0.8197 - val_aux_output_mean_absolute_percentage_error: 34.9602\n",
      "\n",
      "val/train: 0.95\n",
      "Epoch 15/150\n",
      "363/363 [==============================] - 0s 744us/step - loss: 0.4467 - main_output_loss: 0.4191 - aux_output_loss: 0.6955 - main_output_root_mean_squared_error: 0.6468 - main_output_mean_absolute_percentage_error: 27.0945 - aux_output_root_mean_squared_error: 0.8338 - aux_output_mean_absolute_percentage_error: 36.6786 - val_loss: 0.4204 - val_main_output_loss: 0.3945 - val_aux_output_loss: 0.6541 - val_main_output_root_mean_squared_error: 0.6281 - val_main_output_mean_absolute_percentage_error: 26.8110 - val_aux_output_root_mean_squared_error: 0.8088 - val_aux_output_mean_absolute_percentage_error: 35.3012\n",
      "\n",
      "val/train: 0.94\n",
      "Epoch 16/150\n",
      "363/363 [==============================] - 0s 748us/step - loss: 0.4491 - main_output_loss: 0.4236 - aux_output_loss: 0.6785 - main_output_root_mean_squared_error: 0.6503 - main_output_mean_absolute_percentage_error: 27.2933 - aux_output_root_mean_squared_error: 0.8236 - aux_output_mean_absolute_percentage_error: 36.3715 - val_loss: 0.4166 - val_main_output_loss: 0.3915 - val_aux_output_loss: 0.6420 - val_main_output_root_mean_squared_error: 0.6257 - val_main_output_mean_absolute_percentage_error: 26.6566 - val_aux_output_root_mean_squared_error: 0.8013 - val_aux_output_mean_absolute_percentage_error: 35.1353\n",
      "\n",
      "val/train: 0.95\n",
      "Epoch 17/150\n",
      "363/363 [==============================] - 0s 752us/step - loss: 0.4514 - main_output_loss: 0.4259 - aux_output_loss: 0.6810 - main_output_root_mean_squared_error: 0.6525 - main_output_mean_absolute_percentage_error: 26.7283 - aux_output_root_mean_squared_error: 0.8251 - aux_output_mean_absolute_percentage_error: 35.7342 - val_loss: 0.4105 - val_main_output_loss: 0.3859 - val_aux_output_loss: 0.6317 - val_main_output_root_mean_squared_error: 0.6212 - val_main_output_mean_absolute_percentage_error: 26.1085 - val_aux_output_root_mean_squared_error: 0.7948 - val_aux_output_mean_absolute_percentage_error: 34.5217\n",
      "\n",
      "val/train: 0.94\n",
      "Epoch 18/150\n",
      "363/363 [==============================] - 0s 749us/step - loss: 0.4362 - main_output_loss: 0.4123 - aux_output_loss: 0.6511 - main_output_root_mean_squared_error: 0.6420 - main_output_mean_absolute_percentage_error: 26.9819 - aux_output_root_mean_squared_error: 0.8067 - aux_output_mean_absolute_percentage_error: 35.3326 - val_loss: 0.4070 - val_main_output_loss: 0.3831 - val_aux_output_loss: 0.6215 - val_main_output_root_mean_squared_error: 0.6190 - val_main_output_mean_absolute_percentage_error: 25.8619 - val_aux_output_root_mean_squared_error: 0.7884 - val_aux_output_mean_absolute_percentage_error: 34.2144\n",
      "\n",
      "val/train: 0.95\n",
      "Epoch 19/150\n",
      "363/363 [==============================] - 0s 738us/step - loss: 0.4194 - main_output_loss: 0.3943 - aux_output_loss: 0.6454 - main_output_root_mean_squared_error: 0.6278 - main_output_mean_absolute_percentage_error: 26.0546 - aux_output_root_mean_squared_error: 0.8032 - aux_output_mean_absolute_percentage_error: 34.7147 - val_loss: 0.4031 - val_main_output_loss: 0.3798 - val_aux_output_loss: 0.6129 - val_main_output_root_mean_squared_error: 0.6162 - val_main_output_mean_absolute_percentage_error: 24.7674 - val_aux_output_root_mean_squared_error: 0.7829 - val_aux_output_mean_absolute_percentage_error: 33.1797\n",
      "\n",
      "val/train: 0.94\n",
      "Epoch 20/150\n",
      "363/363 [==============================] - 0s 730us/step - loss: 0.4228 - main_output_loss: 0.3996 - aux_output_loss: 0.6312 - main_output_root_mean_squared_error: 0.6320 - main_output_mean_absolute_percentage_error: 26.8823 - aux_output_root_mean_squared_error: 0.7943 - aux_output_mean_absolute_percentage_error: 34.7648 - val_loss: 0.4001 - val_main_output_loss: 0.3776 - val_aux_output_loss: 0.6028 - val_main_output_root_mean_squared_error: 0.6145 - val_main_output_mean_absolute_percentage_error: 26.2660 - val_aux_output_root_mean_squared_error: 0.7764 - val_aux_output_mean_absolute_percentage_error: 33.7408\n",
      "\n",
      "val/train: 0.94\n",
      "Epoch 21/150\n",
      "363/363 [==============================] - 0s 712us/step - loss: 0.4307 - main_output_loss: 0.4092 - aux_output_loss: 0.6246 - main_output_root_mean_squared_error: 0.6394 - main_output_mean_absolute_percentage_error: 26.9206 - aux_output_root_mean_squared_error: 0.7902 - aux_output_mean_absolute_percentage_error: 34.7655 - val_loss: 0.3971 - val_main_output_loss: 0.3751 - val_aux_output_loss: 0.5953 - val_main_output_root_mean_squared_error: 0.6124 - val_main_output_mean_absolute_percentage_error: 25.0948 - val_aux_output_root_mean_squared_error: 0.7716 - val_aux_output_mean_absolute_percentage_error: 32.8509\n",
      "\n",
      "val/train: 0.95\n",
      "Epoch 22/150\n",
      "363/363 [==============================] - 0s 740us/step - loss: 0.4099 - main_output_loss: 0.3875 - aux_output_loss: 0.6116 - main_output_root_mean_squared_error: 0.6223 - main_output_mean_absolute_percentage_error: 26.2576 - aux_output_root_mean_squared_error: 0.7817 - aux_output_mean_absolute_percentage_error: 33.5115 - val_loss: 0.3945 - val_main_output_loss: 0.3732 - val_aux_output_loss: 0.5861 - val_main_output_root_mean_squared_error: 0.6109 - val_main_output_mean_absolute_percentage_error: 23.6061 - val_aux_output_root_mean_squared_error: 0.7656 - val_aux_output_mean_absolute_percentage_error: 32.2588\n",
      "\n",
      "val/train: 0.95\n",
      "Epoch 23/150\n",
      "363/363 [==============================] - 0s 731us/step - loss: 0.4272 - main_output_loss: 0.4063 - aux_output_loss: 0.6158 - main_output_root_mean_squared_error: 0.6372 - main_output_mean_absolute_percentage_error: 25.9257 - aux_output_root_mean_squared_error: 0.7846 - aux_output_mean_absolute_percentage_error: 33.8785 - val_loss: 0.3929 - val_main_output_loss: 0.3723 - val_aux_output_loss: 0.5781 - val_main_output_root_mean_squared_error: 0.6101 - val_main_output_mean_absolute_percentage_error: 26.8532 - val_aux_output_root_mean_squared_error: 0.7603 - val_aux_output_mean_absolute_percentage_error: 33.2955\n",
      "\n",
      "val/train: 0.94\n",
      "Epoch 24/150\n",
      "363/363 [==============================] - 0s 744us/step - loss: 0.4181 - main_output_loss: 0.3971 - aux_output_loss: 0.6072 - main_output_root_mean_squared_error: 0.6301 - main_output_mean_absolute_percentage_error: 26.0458 - aux_output_root_mean_squared_error: 0.7791 - aux_output_mean_absolute_percentage_error: 33.3251 - val_loss: 0.3833 - val_main_output_loss: 0.3626 - val_aux_output_loss: 0.5694 - val_main_output_root_mean_squared_error: 0.6021 - val_main_output_mean_absolute_percentage_error: 24.6101 - val_aux_output_root_mean_squared_error: 0.7546 - val_aux_output_mean_absolute_percentage_error: 32.5887\n",
      "\n",
      "val/train: 0.94\n",
      "Epoch 25/150\n",
      "363/363 [==============================] - 0s 710us/step - loss: 0.3889 - main_output_loss: 0.3680 - aux_output_loss: 0.5771 - main_output_root_mean_squared_error: 0.6065 - main_output_mean_absolute_percentage_error: 25.0886 - aux_output_root_mean_squared_error: 0.7596 - aux_output_mean_absolute_percentage_error: 32.7671 - val_loss: 0.3828 - val_main_output_loss: 0.3629 - val_aux_output_loss: 0.5622 - val_main_output_root_mean_squared_error: 0.6024 - val_main_output_mean_absolute_percentage_error: 24.3910 - val_aux_output_root_mean_squared_error: 0.7498 - val_aux_output_mean_absolute_percentage_error: 32.4980\n",
      "\n",
      "val/train: 0.94\n",
      "Epoch 26/150\n",
      "363/363 [==============================] - 0s 725us/step - loss: 0.4036 - main_output_loss: 0.3835 - aux_output_loss: 0.5850 - main_output_root_mean_squared_error: 0.6191 - main_output_mean_absolute_percentage_error: 25.4064 - aux_output_root_mean_squared_error: 0.7648 - aux_output_mean_absolute_percentage_error: 32.9241 - val_loss: 0.3767 - val_main_output_loss: 0.3568 - val_aux_output_loss: 0.5554 - val_main_output_root_mean_squared_error: 0.5974 - val_main_output_mean_absolute_percentage_error: 24.8558 - val_aux_output_root_mean_squared_error: 0.7453 - val_aux_output_mean_absolute_percentage_error: 32.2126\n"
     ]
    },
    {
     "name": "stdout",
     "output_type": "stream",
     "text": [
      "\n",
      "val/train: 0.93\n",
      "Epoch 27/150\n",
      "363/363 [==============================] - 0s 706us/step - loss: 0.3904 - main_output_loss: 0.3711 - aux_output_loss: 0.5639 - main_output_root_mean_squared_error: 0.6091 - main_output_mean_absolute_percentage_error: 24.9715 - aux_output_root_mean_squared_error: 0.7509 - aux_output_mean_absolute_percentage_error: 32.4232 - val_loss: 0.3761 - val_main_output_loss: 0.3568 - val_aux_output_loss: 0.5501 - val_main_output_root_mean_squared_error: 0.5973 - val_main_output_mean_absolute_percentage_error: 24.8922 - val_aux_output_root_mean_squared_error: 0.7417 - val_aux_output_mean_absolute_percentage_error: 32.2051\n",
      "\n",
      "val/train: 0.93\n",
      "Epoch 28/150\n",
      "363/363 [==============================] - 0s 745us/step - loss: 0.3981 - main_output_loss: 0.3789 - aux_output_loss: 0.5712 - main_output_root_mean_squared_error: 0.6153 - main_output_mean_absolute_percentage_error: 25.4839 - aux_output_root_mean_squared_error: 0.7556 - aux_output_mean_absolute_percentage_error: 32.2964 - val_loss: 0.3728 - val_main_output_loss: 0.3539 - val_aux_output_loss: 0.5430 - val_main_output_root_mean_squared_error: 0.5949 - val_main_output_mean_absolute_percentage_error: 24.4751 - val_aux_output_root_mean_squared_error: 0.7369 - val_aux_output_mean_absolute_percentage_error: 31.6211\n",
      "\n",
      "val/train: 0.94\n",
      "Epoch 29/150\n",
      "363/363 [==============================] - 0s 718us/step - loss: 0.4080 - main_output_loss: 0.3899 - aux_output_loss: 0.5705 - main_output_root_mean_squared_error: 0.6243 - main_output_mean_absolute_percentage_error: 25.3419 - aux_output_root_mean_squared_error: 0.7552 - aux_output_mean_absolute_percentage_error: 32.2933 - val_loss: 0.3708 - val_main_output_loss: 0.3522 - val_aux_output_loss: 0.5386 - val_main_output_root_mean_squared_error: 0.5935 - val_main_output_mean_absolute_percentage_error: 24.9202 - val_aux_output_root_mean_squared_error: 0.7339 - val_aux_output_mean_absolute_percentage_error: 31.9732\n",
      "\n",
      "val/train: 0.93\n",
      "Epoch 30/150\n",
      "363/363 [==============================] - 0s 701us/step - loss: 0.3891 - main_output_loss: 0.3694 - aux_output_loss: 0.5666 - main_output_root_mean_squared_error: 0.6077 - main_output_mean_absolute_percentage_error: 24.9611 - aux_output_root_mean_squared_error: 0.7526 - aux_output_mean_absolute_percentage_error: 32.0545 - val_loss: 0.3690 - val_main_output_loss: 0.3509 - val_aux_output_loss: 0.5318 - val_main_output_root_mean_squared_error: 0.5924 - val_main_output_mean_absolute_percentage_error: 24.4899 - val_aux_output_root_mean_squared_error: 0.7293 - val_aux_output_mean_absolute_percentage_error: 31.7563\n",
      "\n",
      "val/train: 0.95\n",
      "Epoch 31/150\n",
      "363/363 [==============================] - 0s 751us/step - loss: 0.3761 - main_output_loss: 0.3558 - aux_output_loss: 0.5590 - main_output_root_mean_squared_error: 0.5964 - main_output_mean_absolute_percentage_error: 24.6728 - aux_output_root_mean_squared_error: 0.7476 - aux_output_mean_absolute_percentage_error: 32.0050 - val_loss: 0.3660 - val_main_output_loss: 0.3478 - val_aux_output_loss: 0.5292 - val_main_output_root_mean_squared_error: 0.5898 - val_main_output_mean_absolute_percentage_error: 23.3977 - val_aux_output_root_mean_squared_error: 0.7274 - val_aux_output_mean_absolute_percentage_error: 30.7845\n",
      "\n",
      "val/train: 0.95\n",
      "Epoch 32/150\n",
      "363/363 [==============================] - 0s 748us/step - loss: 0.3912 - main_output_loss: 0.3722 - aux_output_loss: 0.5628 - main_output_root_mean_squared_error: 0.6099 - main_output_mean_absolute_percentage_error: 24.8101 - aux_output_root_mean_squared_error: 0.7500 - aux_output_mean_absolute_percentage_error: 31.9022 - val_loss: 0.3616 - val_main_output_loss: 0.3437 - val_aux_output_loss: 0.5231 - val_main_output_root_mean_squared_error: 0.5862 - val_main_output_mean_absolute_percentage_error: 23.1016 - val_aux_output_root_mean_squared_error: 0.7232 - val_aux_output_mean_absolute_percentage_error: 30.5391\n",
      "\n",
      "val/train: 0.94\n",
      "Epoch 33/150\n",
      "363/363 [==============================] - 0s 752us/step - loss: 0.3732 - main_output_loss: 0.3550 - aux_output_loss: 0.5366 - main_output_root_mean_squared_error: 0.5958 - main_output_mean_absolute_percentage_error: 24.0531 - aux_output_root_mean_squared_error: 0.7324 - aux_output_mean_absolute_percentage_error: 30.9243 - val_loss: 0.3595 - val_main_output_loss: 0.3420 - val_aux_output_loss: 0.5169 - val_main_output_root_mean_squared_error: 0.5848 - val_main_output_mean_absolute_percentage_error: 22.7132 - val_aux_output_root_mean_squared_error: 0.7190 - val_aux_output_mean_absolute_percentage_error: 30.3319\n",
      "\n",
      "val/train: 0.94\n",
      "Epoch 34/150\n",
      "363/363 [==============================] - 0s 703us/step - loss: 0.3818 - main_output_loss: 0.3640 - aux_output_loss: 0.5423 - main_output_root_mean_squared_error: 0.6032 - main_output_mean_absolute_percentage_error: 24.2443 - aux_output_root_mean_squared_error: 0.7362 - aux_output_mean_absolute_percentage_error: 30.9732 - val_loss: 0.3552 - val_main_output_loss: 0.3377 - val_aux_output_loss: 0.5120 - val_main_output_root_mean_squared_error: 0.5812 - val_main_output_mean_absolute_percentage_error: 23.1601 - val_aux_output_root_mean_squared_error: 0.7156 - val_aux_output_mean_absolute_percentage_error: 30.7078\n",
      "\n",
      "val/train: 0.93\n",
      "Epoch 35/150\n",
      "363/363 [==============================] - 0s 746us/step - loss: 0.3683 - main_output_loss: 0.3517 - aux_output_loss: 0.5181 - main_output_root_mean_squared_error: 0.5929 - main_output_mean_absolute_percentage_error: 23.9402 - aux_output_root_mean_squared_error: 0.7197 - aux_output_mean_absolute_percentage_error: 30.7102 - val_loss: 0.3592 - val_main_output_loss: 0.3426 - val_aux_output_loss: 0.5084 - val_main_output_root_mean_squared_error: 0.5853 - val_main_output_mean_absolute_percentage_error: 24.9776 - val_aux_output_root_mean_squared_error: 0.7130 - val_aux_output_mean_absolute_percentage_error: 31.5565\n",
      "\n",
      "val/train: 0.95\n",
      "Epoch 36/150\n",
      "363/363 [==============================] - 0s 743us/step - loss: 0.3646 - main_output_loss: 0.3478 - aux_output_loss: 0.5154 - main_output_root_mean_squared_error: 0.5896 - main_output_mean_absolute_percentage_error: 24.0803 - aux_output_root_mean_squared_error: 0.7177 - aux_output_mean_absolute_percentage_error: 31.2813 - val_loss: 0.3542 - val_main_output_loss: 0.3376 - val_aux_output_loss: 0.5037 - val_main_output_root_mean_squared_error: 0.5810 - val_main_output_mean_absolute_percentage_error: 23.0993 - val_aux_output_root_mean_squared_error: 0.7097 - val_aux_output_mean_absolute_percentage_error: 30.1761\n",
      "\n",
      "val/train: 0.95\n",
      "Epoch 37/150\n",
      "363/363 [==============================] - 0s 737us/step - loss: 0.3823 - main_output_loss: 0.3654 - aux_output_loss: 0.5343 - main_output_root_mean_squared_error: 0.6042 - main_output_mean_absolute_percentage_error: 24.8999 - aux_output_root_mean_squared_error: 0.7308 - aux_output_mean_absolute_percentage_error: 31.6992 - val_loss: 0.3530 - val_main_output_loss: 0.3370 - val_aux_output_loss: 0.4969 - val_main_output_root_mean_squared_error: 0.5805 - val_main_output_mean_absolute_percentage_error: 24.1923 - val_aux_output_root_mean_squared_error: 0.7049 - val_aux_output_mean_absolute_percentage_error: 30.5348\n",
      "\n",
      "val/train: 0.94\n",
      "Epoch 38/150\n",
      "363/363 [==============================] - 0s 758us/step - loss: 0.3632 - main_output_loss: 0.3466 - aux_output_loss: 0.5122 - main_output_root_mean_squared_error: 0.5886 - main_output_mean_absolute_percentage_error: 23.8379 - aux_output_root_mean_squared_error: 0.7157 - aux_output_mean_absolute_percentage_error: 30.4518 - val_loss: 0.3530 - val_main_output_loss: 0.3374 - val_aux_output_loss: 0.4933 - val_main_output_root_mean_squared_error: 0.5809 - val_main_output_mean_absolute_percentage_error: 24.2942 - val_aux_output_root_mean_squared_error: 0.7023 - val_aux_output_mean_absolute_percentage_error: 31.1640\n",
      "\n",
      "val/train: 0.95\n",
      "Epoch 39/150\n",
      "363/363 [==============================] - 0s 746us/step - loss: 0.3679 - main_output_loss: 0.3510 - aux_output_loss: 0.5198 - main_output_root_mean_squared_error: 0.5920 - main_output_mean_absolute_percentage_error: 24.0402 - aux_output_root_mean_squared_error: 0.7208 - aux_output_mean_absolute_percentage_error: 30.9078 - val_loss: 0.3463 - val_main_output_loss: 0.3306 - val_aux_output_loss: 0.4878 - val_main_output_root_mean_squared_error: 0.5750 - val_main_output_mean_absolute_percentage_error: 23.4579 - val_aux_output_root_mean_squared_error: 0.6984 - val_aux_output_mean_absolute_percentage_error: 30.5024\n"
     ]
    },
    {
     "name": "stdout",
     "output_type": "stream",
     "text": [
      "\n",
      "val/train: 0.94\n",
      "Epoch 40/150\n",
      "363/363 [==============================] - 0s 715us/step - loss: 0.3697 - main_output_loss: 0.3528 - aux_output_loss: 0.5214 - main_output_root_mean_squared_error: 0.5939 - main_output_mean_absolute_percentage_error: 23.9494 - aux_output_root_mean_squared_error: 0.7220 - aux_output_mean_absolute_percentage_error: 31.0406 - val_loss: 0.3507 - val_main_output_loss: 0.3355 - val_aux_output_loss: 0.4877 - val_main_output_root_mean_squared_error: 0.5792 - val_main_output_mean_absolute_percentage_error: 21.6245 - val_aux_output_root_mean_squared_error: 0.6984 - val_aux_output_mean_absolute_percentage_error: 29.1111\n",
      "\n",
      "val/train: 0.95\n",
      "Epoch 41/150\n",
      "363/363 [==============================] - 0s 739us/step - loss: 0.3577 - main_output_loss: 0.3413 - aux_output_loss: 0.5056 - main_output_root_mean_squared_error: 0.5840 - main_output_mean_absolute_percentage_error: 23.7181 - aux_output_root_mean_squared_error: 0.7109 - aux_output_mean_absolute_percentage_error: 29.9424 - val_loss: 0.3500 - val_main_output_loss: 0.3351 - val_aux_output_loss: 0.4838 - val_main_output_root_mean_squared_error: 0.5789 - val_main_output_mean_absolute_percentage_error: 22.4567 - val_aux_output_root_mean_squared_error: 0.6956 - val_aux_output_mean_absolute_percentage_error: 29.3406\n",
      "\n",
      "val/train: 0.96\n",
      "Epoch 42/150\n",
      "363/363 [==============================] - 0s 741us/step - loss: 0.3656 - main_output_loss: 0.3484 - aux_output_loss: 0.5208 - main_output_root_mean_squared_error: 0.5902 - main_output_mean_absolute_percentage_error: 23.8853 - aux_output_root_mean_squared_error: 0.7216 - aux_output_mean_absolute_percentage_error: 30.6815 - val_loss: 0.3412 - val_main_output_loss: 0.3259 - val_aux_output_loss: 0.4781 - val_main_output_root_mean_squared_error: 0.5709 - val_main_output_mean_absolute_percentage_error: 22.5645 - val_aux_output_root_mean_squared_error: 0.6914 - val_aux_output_mean_absolute_percentage_error: 29.9958\n",
      "\n",
      "val/train: 0.94\n",
      "Epoch 43/150\n",
      "363/363 [==============================] - 0s 721us/step - loss: 0.3551 - main_output_loss: 0.3399 - aux_output_loss: 0.4917 - main_output_root_mean_squared_error: 0.5829 - main_output_mean_absolute_percentage_error: 23.7244 - aux_output_root_mean_squared_error: 0.7011 - aux_output_mean_absolute_percentage_error: 30.6669 - val_loss: 0.3400 - val_main_output_loss: 0.3252 - val_aux_output_loss: 0.4736 - val_main_output_root_mean_squared_error: 0.5702 - val_main_output_mean_absolute_percentage_error: 22.0714 - val_aux_output_root_mean_squared_error: 0.6882 - val_aux_output_mean_absolute_percentage_error: 29.7707\n",
      "\n",
      "val/train: 0.94\n",
      "Epoch 44/150\n",
      "363/363 [==============================] - 0s 733us/step - loss: 0.3609 - main_output_loss: 0.3451 - aux_output_loss: 0.5024 - main_output_root_mean_squared_error: 0.5874 - main_output_mean_absolute_percentage_error: 24.0461 - aux_output_root_mean_squared_error: 0.7086 - aux_output_mean_absolute_percentage_error: 30.7060 - val_loss: 0.3426 - val_main_output_loss: 0.3280 - val_aux_output_loss: 0.4736 - val_main_output_root_mean_squared_error: 0.5727 - val_main_output_mean_absolute_percentage_error: 22.6537 - val_aux_output_root_mean_squared_error: 0.6882 - val_aux_output_mean_absolute_percentage_error: 29.5291\n",
      "\n",
      "val/train: 0.95\n",
      "Epoch 45/150\n",
      "363/363 [==============================] - 0s 730us/step - loss: 0.3635 - main_output_loss: 0.3490 - aux_output_loss: 0.4940 - main_output_root_mean_squared_error: 0.5907 - main_output_mean_absolute_percentage_error: 23.4711 - aux_output_root_mean_squared_error: 0.7028 - aux_output_mean_absolute_percentage_error: 29.9687 - val_loss: 0.3430 - val_main_output_loss: 0.3286 - val_aux_output_loss: 0.4733 - val_main_output_root_mean_squared_error: 0.5732 - val_main_output_mean_absolute_percentage_error: 21.5272 - val_aux_output_root_mean_squared_error: 0.6880 - val_aux_output_mean_absolute_percentage_error: 29.0391\n",
      "\n",
      "val/train: 0.95\n",
      "Epoch 46/150\n",
      "363/363 [==============================] - 0s 703us/step - loss: 0.3614 - main_output_loss: 0.3459 - aux_output_loss: 0.5010 - main_output_root_mean_squared_error: 0.5879 - main_output_mean_absolute_percentage_error: 23.8101 - aux_output_root_mean_squared_error: 0.7077 - aux_output_mean_absolute_percentage_error: 30.5991 - val_loss: 0.3341 - val_main_output_loss: 0.3195 - val_aux_output_loss: 0.4654 - val_main_output_root_mean_squared_error: 0.5653 - val_main_output_mean_absolute_percentage_error: 22.0192 - val_aux_output_root_mean_squared_error: 0.6822 - val_aux_output_mean_absolute_percentage_error: 29.5309\n",
      "\n",
      "val/train: 0.94\n",
      "Epoch 47/150\n",
      "363/363 [==============================] - 0s 738us/step - loss: 0.3484 - main_output_loss: 0.3331 - aux_output_loss: 0.4855 - main_output_root_mean_squared_error: 0.5770 - main_output_mean_absolute_percentage_error: 23.1135 - aux_output_root_mean_squared_error: 0.6967 - aux_output_mean_absolute_percentage_error: 30.0602 - val_loss: 0.3346 - val_main_output_loss: 0.3203 - val_aux_output_loss: 0.4629 - val_main_output_root_mean_squared_error: 0.5660 - val_main_output_mean_absolute_percentage_error: 22.9257 - val_aux_output_root_mean_squared_error: 0.6804 - val_aux_output_mean_absolute_percentage_error: 30.0629\n",
      "\n",
      "val/train: 0.94\n",
      "Epoch 48/150\n",
      "363/363 [==============================] - 0s 752us/step - loss: 0.3690 - main_output_loss: 0.3544 - aux_output_loss: 0.5001 - main_output_root_mean_squared_error: 0.5952 - main_output_mean_absolute_percentage_error: 23.5554 - aux_output_root_mean_squared_error: 0.7071 - aux_output_mean_absolute_percentage_error: 30.1094 - val_loss: 0.3316 - val_main_output_loss: 0.3173 - val_aux_output_loss: 0.4598 - val_main_output_root_mean_squared_error: 0.5633 - val_main_output_mean_absolute_percentage_error: 22.0652 - val_aux_output_root_mean_squared_error: 0.6781 - val_aux_output_mean_absolute_percentage_error: 29.1830\n",
      "\n",
      "val/train: 0.94\n",
      "Epoch 49/150\n",
      "363/363 [==============================] - 0s 747us/step - loss: 0.3367 - main_output_loss: 0.3221 - aux_output_loss: 0.4681 - main_output_root_mean_squared_error: 0.5673 - main_output_mean_absolute_percentage_error: 22.6489 - aux_output_root_mean_squared_error: 0.6840 - aux_output_mean_absolute_percentage_error: 29.2574 - val_loss: 0.3364 - val_main_output_loss: 0.3228 - val_aux_output_loss: 0.4584 - val_main_output_root_mean_squared_error: 0.5682 - val_main_output_mean_absolute_percentage_error: 23.4485 - val_aux_output_root_mean_squared_error: 0.6771 - val_aux_output_mean_absolute_percentage_error: 30.5619\n",
      "\n",
      "val/train: 0.95\n",
      "Epoch 50/150\n",
      "363/363 [==============================] - 0s 747us/step - loss: 0.3521 - main_output_loss: 0.3377 - aux_output_loss: 0.4815 - main_output_root_mean_squared_error: 0.5809 - main_output_mean_absolute_percentage_error: 23.0993 - aux_output_root_mean_squared_error: 0.6938 - aux_output_mean_absolute_percentage_error: 30.0653 - val_loss: 0.3342 - val_main_output_loss: 0.3208 - val_aux_output_loss: 0.4547 - val_main_output_root_mean_squared_error: 0.5664 - val_main_output_mean_absolute_percentage_error: 22.7103 - val_aux_output_root_mean_squared_error: 0.6743 - val_aux_output_mean_absolute_percentage_error: 29.7434\n",
      "\n",
      "val/train: 0.95\n",
      "Epoch 51/150\n",
      "363/363 [==============================] - 0s 749us/step - loss: 0.3478 - main_output_loss: 0.3332 - aux_output_loss: 0.4792 - main_output_root_mean_squared_error: 0.5771 - main_output_mean_absolute_percentage_error: 22.7687 - aux_output_root_mean_squared_error: 0.6922 - aux_output_mean_absolute_percentage_error: 29.8796 - val_loss: 0.3350 - val_main_output_loss: 0.3219 - val_aux_output_loss: 0.4536 - val_main_output_root_mean_squared_error: 0.5673 - val_main_output_mean_absolute_percentage_error: 21.9640 - val_aux_output_root_mean_squared_error: 0.6735 - val_aux_output_mean_absolute_percentage_error: 29.2757\n",
      "\n",
      "val/train: 0.96\n",
      "Epoch 52/150\n",
      "363/363 [==============================] - 0s 718us/step - loss: 0.3593 - main_output_loss: 0.3439 - aux_output_loss: 0.4984 - main_output_root_mean_squared_error: 0.5863 - main_output_mean_absolute_percentage_error: 23.0555 - aux_output_root_mean_squared_error: 0.7057 - aux_output_mean_absolute_percentage_error: 29.9912 - val_loss: 0.3274 - val_main_output_loss: 0.3141 - val_aux_output_loss: 0.4471 - val_main_output_root_mean_squared_error: 0.5604 - val_main_output_mean_absolute_percentage_error: 22.4210 - val_aux_output_root_mean_squared_error: 0.6687 - val_aux_output_mean_absolute_percentage_error: 29.4034\n"
     ]
    },
    {
     "name": "stdout",
     "output_type": "stream",
     "text": [
      "\n",
      "val/train: 0.94\n",
      "Epoch 53/150\n",
      "363/363 [==============================] - 0s 746us/step - loss: 0.3323 - main_output_loss: 0.3180 - aux_output_loss: 0.4618 - main_output_root_mean_squared_error: 0.5637 - main_output_mean_absolute_percentage_error: 22.1261 - aux_output_root_mean_squared_error: 0.6794 - aux_output_mean_absolute_percentage_error: 28.9267 - val_loss: 0.3268 - val_main_output_loss: 0.3134 - val_aux_output_loss: 0.4477 - val_main_output_root_mean_squared_error: 0.5598 - val_main_output_mean_absolute_percentage_error: 22.1227 - val_aux_output_root_mean_squared_error: 0.6691 - val_aux_output_mean_absolute_percentage_error: 29.2743\n",
      "\n",
      "val/train: 0.94\n",
      "Epoch 54/150\n",
      "363/363 [==============================] - 0s 715us/step - loss: 0.3450 - main_output_loss: 0.3304 - aux_output_loss: 0.4769 - main_output_root_mean_squared_error: 0.5747 - main_output_mean_absolute_percentage_error: 23.0087 - aux_output_root_mean_squared_error: 0.6905 - aux_output_mean_absolute_percentage_error: 30.0556 - val_loss: 0.3253 - val_main_output_loss: 0.3121 - val_aux_output_loss: 0.4437 - val_main_output_root_mean_squared_error: 0.5587 - val_main_output_mean_absolute_percentage_error: 21.2226 - val_aux_output_root_mean_squared_error: 0.6661 - val_aux_output_mean_absolute_percentage_error: 28.8396\n",
      "\n",
      "val/train: 0.93\n",
      "Epoch 55/150\n",
      "363/363 [==============================] - 0s 742us/step - loss: 0.3514 - main_output_loss: 0.3386 - aux_output_loss: 0.4672 - main_output_root_mean_squared_error: 0.5817 - main_output_mean_absolute_percentage_error: 22.7724 - aux_output_root_mean_squared_error: 0.6835 - aux_output_mean_absolute_percentage_error: 29.8784 - val_loss: 0.3246 - val_main_output_loss: 0.3115 - val_aux_output_loss: 0.4422 - val_main_output_root_mean_squared_error: 0.5582 - val_main_output_mean_absolute_percentage_error: 21.2593 - val_aux_output_root_mean_squared_error: 0.6650 - val_aux_output_mean_absolute_percentage_error: 28.4447\n",
      "\n",
      "val/train: 0.94\n",
      "Epoch 56/150\n",
      "363/363 [==============================] - 0s 727us/step - loss: 0.3542 - main_output_loss: 0.3410 - aux_output_loss: 0.4722 - main_output_root_mean_squared_error: 0.5839 - main_output_mean_absolute_percentage_error: 23.0770 - aux_output_root_mean_squared_error: 0.6870 - aux_output_mean_absolute_percentage_error: 29.5109 - val_loss: 0.3269 - val_main_output_loss: 0.3146 - val_aux_output_loss: 0.4375 - val_main_output_root_mean_squared_error: 0.5609 - val_main_output_mean_absolute_percentage_error: 21.8328 - val_aux_output_root_mean_squared_error: 0.6614 - val_aux_output_mean_absolute_percentage_error: 29.0825\n",
      "\n",
      "val/train: 0.95\n",
      "Epoch 57/150\n",
      "363/363 [==============================] - 0s 752us/step - loss: 0.3483 - main_output_loss: 0.3354 - aux_output_loss: 0.4638 - main_output_root_mean_squared_error: 0.5791 - main_output_mean_absolute_percentage_error: 22.6156 - aux_output_root_mean_squared_error: 0.6810 - aux_output_mean_absolute_percentage_error: 28.8832 - val_loss: 0.3242 - val_main_output_loss: 0.3118 - val_aux_output_loss: 0.4357 - val_main_output_root_mean_squared_error: 0.5584 - val_main_output_mean_absolute_percentage_error: 23.0164 - val_aux_output_root_mean_squared_error: 0.6601 - val_aux_output_mean_absolute_percentage_error: 29.3672\n",
      "\n",
      "val/train: 0.94\n",
      "Epoch 58/150\n",
      "363/363 [==============================] - 0s 750us/step - loss: 0.3437 - main_output_loss: 0.3310 - aux_output_loss: 0.4581 - main_output_root_mean_squared_error: 0.5752 - main_output_mean_absolute_percentage_error: 22.7527 - aux_output_root_mean_squared_error: 0.6767 - aux_output_mean_absolute_percentage_error: 29.1184 - val_loss: 0.3248 - val_main_output_loss: 0.3128 - val_aux_output_loss: 0.4332 - val_main_output_root_mean_squared_error: 0.5593 - val_main_output_mean_absolute_percentage_error: 22.6341 - val_aux_output_root_mean_squared_error: 0.6582 - val_aux_output_mean_absolute_percentage_error: 29.1987\n",
      "\n",
      "val/train: 0.95\n",
      "Epoch 59/150\n",
      "363/363 [==============================] - 0s 745us/step - loss: 0.3446 - main_output_loss: 0.3305 - aux_output_loss: 0.4714 - main_output_root_mean_squared_error: 0.5746 - main_output_mean_absolute_percentage_error: 22.5497 - aux_output_root_mean_squared_error: 0.6864 - aux_output_mean_absolute_percentage_error: 29.2658 - val_loss: 0.3225 - val_main_output_loss: 0.3100 - val_aux_output_loss: 0.4350 - val_main_output_root_mean_squared_error: 0.5568 - val_main_output_mean_absolute_percentage_error: 21.9682 - val_aux_output_root_mean_squared_error: 0.6596 - val_aux_output_mean_absolute_percentage_error: 28.9274\n",
      "\n",
      "val/train: 0.94\n",
      "Epoch 60/150\n",
      "363/363 [==============================] - 0s 752us/step - loss: 0.3478 - main_output_loss: 0.3351 - aux_output_loss: 0.4623 - main_output_root_mean_squared_error: 0.5788 - main_output_mean_absolute_percentage_error: 22.8244 - aux_output_root_mean_squared_error: 0.6799 - aux_output_mean_absolute_percentage_error: 29.0729 - val_loss: 0.3189 - val_main_output_loss: 0.3067 - val_aux_output_loss: 0.4288 - val_main_output_root_mean_squared_error: 0.5538 - val_main_output_mean_absolute_percentage_error: 21.4832 - val_aux_output_root_mean_squared_error: 0.6548 - val_aux_output_mean_absolute_percentage_error: 28.4041\n",
      "\n",
      "val/train: 0.94\n",
      "Epoch 61/150\n",
      "363/363 [==============================] - 0s 746us/step - loss: 0.3297 - main_output_loss: 0.3173 - aux_output_loss: 0.4413 - main_output_root_mean_squared_error: 0.5632 - main_output_mean_absolute_percentage_error: 22.2842 - aux_output_root_mean_squared_error: 0.6642 - aux_output_mean_absolute_percentage_error: 28.9670 - val_loss: 0.3207 - val_main_output_loss: 0.3088 - val_aux_output_loss: 0.4278 - val_main_output_root_mean_squared_error: 0.5557 - val_main_output_mean_absolute_percentage_error: 21.9901 - val_aux_output_root_mean_squared_error: 0.6541 - val_aux_output_mean_absolute_percentage_error: 28.6235\n",
      "\n",
      "val/train: 0.94\n",
      "Epoch 62/150\n",
      "363/363 [==============================] - 0s 732us/step - loss: 0.3287 - main_output_loss: 0.3155 - aux_output_loss: 0.4473 - main_output_root_mean_squared_error: 0.5615 - main_output_mean_absolute_percentage_error: 22.3055 - aux_output_root_mean_squared_error: 0.6687 - aux_output_mean_absolute_percentage_error: 28.8734 - val_loss: 0.3198 - val_main_output_loss: 0.3080 - val_aux_output_loss: 0.4258 - val_main_output_root_mean_squared_error: 0.5550 - val_main_output_mean_absolute_percentage_error: 20.6719 - val_aux_output_root_mean_squared_error: 0.6526 - val_aux_output_mean_absolute_percentage_error: 27.4462\n",
      "\n",
      "val/train: 0.94\n",
      "Epoch 63/150\n",
      "363/363 [==============================] - 0s 753us/step - loss: 0.3406 - main_output_loss: 0.3288 - aux_output_loss: 0.4468 - main_output_root_mean_squared_error: 0.5732 - main_output_mean_absolute_percentage_error: 22.2907 - aux_output_root_mean_squared_error: 0.6683 - aux_output_mean_absolute_percentage_error: 28.3709 - val_loss: 0.3293 - val_main_output_loss: 0.3184 - val_aux_output_loss: 0.4278 - val_main_output_root_mean_squared_error: 0.5643 - val_main_output_mean_absolute_percentage_error: 23.0980 - val_aux_output_root_mean_squared_error: 0.6541 - val_aux_output_mean_absolute_percentage_error: 29.3531\n",
      "\n",
      "val/train: 0.97\n",
      "Epoch 64/150\n",
      "363/363 [==============================] - 0s 749us/step - loss: 0.3227 - main_output_loss: 0.3101 - aux_output_loss: 0.4361 - main_output_root_mean_squared_error: 0.5565 - main_output_mean_absolute_percentage_error: 21.7791 - aux_output_root_mean_squared_error: 0.6601 - aux_output_mean_absolute_percentage_error: 28.4176 - val_loss: 0.3242 - val_main_output_loss: 0.3127 - val_aux_output_loss: 0.4276 - val_main_output_root_mean_squared_error: 0.5592 - val_main_output_mean_absolute_percentage_error: 20.2864 - val_aux_output_root_mean_squared_error: 0.6539 - val_aux_output_mean_absolute_percentage_error: 26.9535\n",
      "\n",
      "val/train: 0.96\n",
      "Epoch 65/150\n",
      "363/363 [==============================] - 0s 715us/step - loss: 0.3419 - main_output_loss: 0.3303 - aux_output_loss: 0.4456 - main_output_root_mean_squared_error: 0.5741 - main_output_mean_absolute_percentage_error: 22.7512 - aux_output_root_mean_squared_error: 0.6671 - aux_output_mean_absolute_percentage_error: 28.7653 - val_loss: 0.3179 - val_main_output_loss: 0.3063 - val_aux_output_loss: 0.4227 - val_main_output_root_mean_squared_error: 0.5534 - val_main_output_mean_absolute_percentage_error: 20.9240 - val_aux_output_root_mean_squared_error: 0.6501 - val_aux_output_mean_absolute_percentage_error: 27.4741\n"
     ]
    },
    {
     "name": "stdout",
     "output_type": "stream",
     "text": [
      "\n",
      "val/train: 0.95\n",
      "Epoch 66/150\n",
      "363/363 [==============================] - 0s 758us/step - loss: 0.3288 - main_output_loss: 0.3160 - aux_output_loss: 0.4439 - main_output_root_mean_squared_error: 0.5620 - main_output_mean_absolute_percentage_error: 21.9191 - aux_output_root_mean_squared_error: 0.6662 - aux_output_mean_absolute_percentage_error: 28.2536 - val_loss: 0.3162 - val_main_output_loss: 0.3047 - val_aux_output_loss: 0.4195 - val_main_output_root_mean_squared_error: 0.5520 - val_main_output_mean_absolute_percentage_error: 20.7766 - val_aux_output_root_mean_squared_error: 0.6477 - val_aux_output_mean_absolute_percentage_error: 27.3797\n",
      "\n",
      "val/train: 0.94\n",
      "Epoch 67/150\n",
      "363/363 [==============================] - 0s 742us/step - loss: 0.3283 - main_output_loss: 0.3172 - aux_output_loss: 0.4285 - main_output_root_mean_squared_error: 0.5631 - main_output_mean_absolute_percentage_error: 21.5747 - aux_output_root_mean_squared_error: 0.6545 - aux_output_mean_absolute_percentage_error: 27.8056 - val_loss: 0.3170 - val_main_output_loss: 0.3057 - val_aux_output_loss: 0.4181 - val_main_output_root_mean_squared_error: 0.5529 - val_main_output_mean_absolute_percentage_error: 22.5860 - val_aux_output_root_mean_squared_error: 0.6466 - val_aux_output_mean_absolute_percentage_error: 28.8809\n",
      "\n",
      "val/train: 0.94\n",
      "Epoch 68/150\n",
      "363/363 [==============================] - 0s 706us/step - loss: 0.3405 - main_output_loss: 0.3283 - aux_output_loss: 0.4498 - main_output_root_mean_squared_error: 0.5729 - main_output_mean_absolute_percentage_error: 22.5762 - aux_output_root_mean_squared_error: 0.6706 - aux_output_mean_absolute_percentage_error: 28.5599 - val_loss: 0.3138 - val_main_output_loss: 0.3027 - val_aux_output_loss: 0.4139 - val_main_output_root_mean_squared_error: 0.5502 - val_main_output_mean_absolute_percentage_error: 21.4726 - val_aux_output_root_mean_squared_error: 0.6433 - val_aux_output_mean_absolute_percentage_error: 27.6944\n",
      "\n",
      "val/train: 0.94\n",
      "Epoch 69/150\n",
      "363/363 [==============================] - 0s 760us/step - loss: 0.3498 - main_output_loss: 0.3377 - aux_output_loss: 0.4586 - main_output_root_mean_squared_error: 0.5807 - main_output_mean_absolute_percentage_error: 22.6715 - aux_output_root_mean_squared_error: 0.6767 - aux_output_mean_absolute_percentage_error: 28.6512 - val_loss: 0.3140 - val_main_output_loss: 0.3031 - val_aux_output_loss: 0.4121 - val_main_output_root_mean_squared_error: 0.5506 - val_main_output_mean_absolute_percentage_error: 21.1627 - val_aux_output_root_mean_squared_error: 0.6419 - val_aux_output_mean_absolute_percentage_error: 27.8740\n",
      "\n",
      "val/train: 0.94\n",
      "Epoch 70/150\n",
      "363/363 [==============================] - 0s 709us/step - loss: 0.3277 - main_output_loss: 0.3157 - aux_output_loss: 0.4354 - main_output_root_mean_squared_error: 0.5618 - main_output_mean_absolute_percentage_error: 22.0118 - aux_output_root_mean_squared_error: 0.6597 - aux_output_mean_absolute_percentage_error: 27.9727 - val_loss: 0.3186 - val_main_output_loss: 0.3080 - val_aux_output_loss: 0.4134 - val_main_output_root_mean_squared_error: 0.5550 - val_main_output_mean_absolute_percentage_error: 22.4904 - val_aux_output_root_mean_squared_error: 0.6429 - val_aux_output_mean_absolute_percentage_error: 28.4849\n",
      "\n",
      "val/train: 0.96\n",
      "Epoch 71/150\n",
      "363/363 [==============================] - 0s 732us/step - loss: 0.3271 - main_output_loss: 0.3149 - aux_output_loss: 0.4370 - main_output_root_mean_squared_error: 0.5610 - main_output_mean_absolute_percentage_error: 21.8670 - aux_output_root_mean_squared_error: 0.6610 - aux_output_mean_absolute_percentage_error: 28.3752 - val_loss: 0.3120 - val_main_output_loss: 0.3010 - val_aux_output_loss: 0.4103 - val_main_output_root_mean_squared_error: 0.5487 - val_main_output_mean_absolute_percentage_error: 21.1747 - val_aux_output_root_mean_squared_error: 0.6406 - val_aux_output_mean_absolute_percentage_error: 27.4113\n",
      "\n",
      "val/train: 0.93\n",
      "Epoch 72/150\n",
      "363/363 [==============================] - 0s 703us/step - loss: 0.3180 - main_output_loss: 0.3058 - aux_output_loss: 0.4276 - main_output_root_mean_squared_error: 0.5525 - main_output_mean_absolute_percentage_error: 22.0080 - aux_output_root_mean_squared_error: 0.6537 - aux_output_mean_absolute_percentage_error: 28.1353 - val_loss: 0.3123 - val_main_output_loss: 0.3015 - val_aux_output_loss: 0.4093 - val_main_output_root_mean_squared_error: 0.5491 - val_main_output_mean_absolute_percentage_error: 21.4538 - val_aux_output_root_mean_squared_error: 0.6398 - val_aux_output_mean_absolute_percentage_error: 27.7274\n",
      "\n",
      "val/train: 0.94\n",
      "Epoch 73/150\n",
      "363/363 [==============================] - 0s 734us/step - loss: 0.3224 - main_output_loss: 0.3109 - aux_output_loss: 0.4257 - main_output_root_mean_squared_error: 0.5574 - main_output_mean_absolute_percentage_error: 22.0659 - aux_output_root_mean_squared_error: 0.6524 - aux_output_mean_absolute_percentage_error: 28.0584 - val_loss: 0.3162 - val_main_output_loss: 0.3054 - val_aux_output_loss: 0.4131 - val_main_output_root_mean_squared_error: 0.5526 - val_main_output_mean_absolute_percentage_error: 20.2336 - val_aux_output_root_mean_squared_error: 0.6427 - val_aux_output_mean_absolute_percentage_error: 27.0315\n",
      "\n",
      "val/train: 0.96\n",
      "Epoch 74/150\n",
      "363/363 [==============================] - 0s 751us/step - loss: 0.3400 - main_output_loss: 0.3281 - aux_output_loss: 0.4471 - main_output_root_mean_squared_error: 0.5726 - main_output_mean_absolute_percentage_error: 21.9080 - aux_output_root_mean_squared_error: 0.6685 - aux_output_mean_absolute_percentage_error: 27.9329 - val_loss: 0.3283 - val_main_output_loss: 0.3190 - val_aux_output_loss: 0.4125 - val_main_output_root_mean_squared_error: 0.5648 - val_main_output_mean_absolute_percentage_error: 22.4207 - val_aux_output_root_mean_squared_error: 0.6423 - val_aux_output_mean_absolute_percentage_error: 28.2343\n",
      "\n",
      "val/train: 0.99\n",
      "Epoch 75/150\n",
      "363/363 [==============================] - 0s 715us/step - loss: 0.3353 - main_output_loss: 0.3238 - aux_output_loss: 0.4389 - main_output_root_mean_squared_error: 0.5690 - main_output_mean_absolute_percentage_error: 21.9502 - aux_output_root_mean_squared_error: 0.6622 - aux_output_mean_absolute_percentage_error: 28.0066 - val_loss: 0.3131 - val_main_output_loss: 0.3026 - val_aux_output_loss: 0.4083 - val_main_output_root_mean_squared_error: 0.5501 - val_main_output_mean_absolute_percentage_error: 21.0555 - val_aux_output_root_mean_squared_error: 0.6390 - val_aux_output_mean_absolute_percentage_error: 27.3196\n",
      "\n",
      "val/train: 0.94\n",
      "Epoch 76/150\n",
      "363/363 [==============================] - 0s 725us/step - loss: 0.3368 - main_output_loss: 0.3247 - aux_output_loss: 0.4459 - main_output_root_mean_squared_error: 0.5695 - main_output_mean_absolute_percentage_error: 22.2998 - aux_output_root_mean_squared_error: 0.6673 - aux_output_mean_absolute_percentage_error: 28.0201 - val_loss: 0.3116 - val_main_output_loss: 0.3012 - val_aux_output_loss: 0.4058 - val_main_output_root_mean_squared_error: 0.5488 - val_main_output_mean_absolute_percentage_error: 20.8583 - val_aux_output_root_mean_squared_error: 0.6371 - val_aux_output_mean_absolute_percentage_error: 27.1525\n",
      "\n",
      "val/train: 0.94\n",
      "Epoch 77/150\n",
      "363/363 [==============================] - 0s 758us/step - loss: 0.3225 - main_output_loss: 0.3114 - aux_output_loss: 0.4225 - main_output_root_mean_squared_error: 0.5580 - main_output_mean_absolute_percentage_error: 22.2088 - aux_output_root_mean_squared_error: 0.6499 - aux_output_mean_absolute_percentage_error: 27.8343 - val_loss: 0.3140 - val_main_output_loss: 0.3037 - val_aux_output_loss: 0.4067 - val_main_output_root_mean_squared_error: 0.5511 - val_main_output_mean_absolute_percentage_error: 20.5627 - val_aux_output_root_mean_squared_error: 0.6377 - val_aux_output_mean_absolute_percentage_error: 26.7914\n",
      "\n",
      "val/train: 0.95\n",
      "Epoch 78/150\n",
      "363/363 [==============================] - 0s 752us/step - loss: 0.3377 - main_output_loss: 0.3267 - aux_output_loss: 0.4363 - main_output_root_mean_squared_error: 0.5714 - main_output_mean_absolute_percentage_error: 22.0490 - aux_output_root_mean_squared_error: 0.6603 - aux_output_mean_absolute_percentage_error: 27.7237 - val_loss: 0.3103 - val_main_output_loss: 0.3001 - val_aux_output_loss: 0.4014 - val_main_output_root_mean_squared_error: 0.5479 - val_main_output_mean_absolute_percentage_error: 21.1241 - val_aux_output_root_mean_squared_error: 0.6336 - val_aux_output_mean_absolute_percentage_error: 26.9700\n"
     ]
    },
    {
     "name": "stdout",
     "output_type": "stream",
     "text": [
      "\n",
      "val/train: 0.94\n",
      "Epoch 79/150\n",
      "363/363 [==============================] - 0s 756us/step - loss: 0.3349 - main_output_loss: 0.3244 - aux_output_loss: 0.4291 - main_output_root_mean_squared_error: 0.5694 - main_output_mean_absolute_percentage_error: 21.9658 - aux_output_root_mean_squared_error: 0.6550 - aux_output_mean_absolute_percentage_error: 27.6358 - val_loss: 0.3105 - val_main_output_loss: 0.3001 - val_aux_output_loss: 0.4034 - val_main_output_root_mean_squared_error: 0.5478 - val_main_output_mean_absolute_percentage_error: 21.7922 - val_aux_output_root_mean_squared_error: 0.6352 - val_aux_output_mean_absolute_percentage_error: 28.2684\n",
      "\n",
      "val/train: 0.95\n",
      "Epoch 80/150\n",
      "363/363 [==============================] - 0s 728us/step - loss: 0.3283 - main_output_loss: 0.3177 - aux_output_loss: 0.4234 - main_output_root_mean_squared_error: 0.5636 - main_output_mean_absolute_percentage_error: 22.0654 - aux_output_root_mean_squared_error: 0.6506 - aux_output_mean_absolute_percentage_error: 28.0269 - val_loss: 0.3104 - val_main_output_loss: 0.3003 - val_aux_output_loss: 0.4019 - val_main_output_root_mean_squared_error: 0.5480 - val_main_output_mean_absolute_percentage_error: 20.5204 - val_aux_output_root_mean_squared_error: 0.6339 - val_aux_output_mean_absolute_percentage_error: 26.7189\n",
      "\n",
      "val/train: 0.95\n",
      "Epoch 81/150\n",
      "363/363 [==============================] - 0s 747us/step - loss: 0.3296 - main_output_loss: 0.3182 - aux_output_loss: 0.4317 - main_output_root_mean_squared_error: 0.5641 - main_output_mean_absolute_percentage_error: 22.0855 - aux_output_root_mean_squared_error: 0.6569 - aux_output_mean_absolute_percentage_error: 27.8442 - val_loss: 0.3074 - val_main_output_loss: 0.2973 - val_aux_output_loss: 0.3983 - val_main_output_root_mean_squared_error: 0.5452 - val_main_output_mean_absolute_percentage_error: 21.3492 - val_aux_output_root_mean_squared_error: 0.6311 - val_aux_output_mean_absolute_percentage_error: 27.5994\n",
      "\n",
      "val/train: 0.93\n",
      "Epoch 82/150\n",
      "363/363 [==============================] - 0s 705us/step - loss: 0.3224 - main_output_loss: 0.3119 - aux_output_loss: 0.4168 - main_output_root_mean_squared_error: 0.5583 - main_output_mean_absolute_percentage_error: 22.2686 - aux_output_root_mean_squared_error: 0.6454 - aux_output_mean_absolute_percentage_error: 27.9463 - val_loss: 0.3095 - val_main_output_loss: 0.2996 - val_aux_output_loss: 0.3986 - val_main_output_root_mean_squared_error: 0.5474 - val_main_output_mean_absolute_percentage_error: 21.4030 - val_aux_output_root_mean_squared_error: 0.6313 - val_aux_output_mean_absolute_percentage_error: 27.3370\n",
      "\n",
      "val/train: 0.95\n",
      "Epoch 83/150\n",
      "363/363 [==============================] - 0s 760us/step - loss: 0.3177 - main_output_loss: 0.3065 - aux_output_loss: 0.4187 - main_output_root_mean_squared_error: 0.5535 - main_output_mean_absolute_percentage_error: 21.6926 - aux_output_root_mean_squared_error: 0.6470 - aux_output_mean_absolute_percentage_error: 27.3075 - val_loss: 0.3101 - val_main_output_loss: 0.3001 - val_aux_output_loss: 0.4002 - val_main_output_root_mean_squared_error: 0.5478 - val_main_output_mean_absolute_percentage_error: 20.5576 - val_aux_output_root_mean_squared_error: 0.6326 - val_aux_output_mean_absolute_percentage_error: 26.6741\n",
      "\n",
      "val/train: 0.95\n",
      "Epoch 84/150\n",
      "363/363 [==============================] - 0s 706us/step - loss: 0.3161 - main_output_loss: 0.3053 - aux_output_loss: 0.4129 - main_output_root_mean_squared_error: 0.5524 - main_output_mean_absolute_percentage_error: 21.6957 - aux_output_root_mean_squared_error: 0.6424 - aux_output_mean_absolute_percentage_error: 27.2565 - val_loss: 0.3082 - val_main_output_loss: 0.2985 - val_aux_output_loss: 0.3960 - val_main_output_root_mean_squared_error: 0.5463 - val_main_output_mean_absolute_percentage_error: 21.3789 - val_aux_output_root_mean_squared_error: 0.6292 - val_aux_output_mean_absolute_percentage_error: 27.1468\n",
      "\n",
      "val/train: 0.94\n",
      "Epoch 85/150\n",
      "363/363 [==============================] - 0s 758us/step - loss: 0.3243 - main_output_loss: 0.3132 - aux_output_loss: 0.4246 - main_output_root_mean_squared_error: 0.5595 - main_output_mean_absolute_percentage_error: 21.7078 - aux_output_root_mean_squared_error: 0.6515 - aux_output_mean_absolute_percentage_error: 27.2622 - val_loss: 0.3050 - val_main_output_loss: 0.2953 - val_aux_output_loss: 0.3923 - val_main_output_root_mean_squared_error: 0.5434 - val_main_output_mean_absolute_percentage_error: 21.4355 - val_aux_output_root_mean_squared_error: 0.6264 - val_aux_output_mean_absolute_percentage_error: 27.0787\n",
      "\n",
      "val/train: 0.94\n",
      "Epoch 86/150\n",
      "363/363 [==============================] - 0s 710us/step - loss: 0.3193 - main_output_loss: 0.3082 - aux_output_loss: 0.4185 - main_output_root_mean_squared_error: 0.5551 - main_output_mean_absolute_percentage_error: 21.4206 - aux_output_root_mean_squared_error: 0.6469 - aux_output_mean_absolute_percentage_error: 27.1380 - val_loss: 0.3078 - val_main_output_loss: 0.2981 - val_aux_output_loss: 0.3951 - val_main_output_root_mean_squared_error: 0.5460 - val_main_output_mean_absolute_percentage_error: 20.1899 - val_aux_output_root_mean_squared_error: 0.6286 - val_aux_output_mean_absolute_percentage_error: 26.1142\n",
      "\n",
      "val/train: 0.95\n",
      "Epoch 87/150\n",
      "363/363 [==============================] - 0s 744us/step - loss: 0.3173 - main_output_loss: 0.3068 - aux_output_loss: 0.4119 - main_output_root_mean_squared_error: 0.5537 - main_output_mean_absolute_percentage_error: 21.4235 - aux_output_root_mean_squared_error: 0.6417 - aux_output_mean_absolute_percentage_error: 27.0636 - val_loss: 0.3086 - val_main_output_loss: 0.2990 - val_aux_output_loss: 0.3950 - val_main_output_root_mean_squared_error: 0.5468 - val_main_output_mean_absolute_percentage_error: 22.0616 - val_aux_output_root_mean_squared_error: 0.6285 - val_aux_output_mean_absolute_percentage_error: 27.7324\n",
      "\n",
      "val/train: 0.96\n",
      "Epoch 88/150\n",
      "363/363 [==============================] - 0s 703us/step - loss: 0.3236 - main_output_loss: 0.3131 - aux_output_loss: 0.4181 - main_output_root_mean_squared_error: 0.5595 - main_output_mean_absolute_percentage_error: 22.0008 - aux_output_root_mean_squared_error: 0.6466 - aux_output_mean_absolute_percentage_error: 27.4914 - val_loss: 0.3129 - val_main_output_loss: 0.3037 - val_aux_output_loss: 0.3957 - val_main_output_root_mean_squared_error: 0.5511 - val_main_output_mean_absolute_percentage_error: 20.2110 - val_aux_output_root_mean_squared_error: 0.6290 - val_aux_output_mean_absolute_percentage_error: 26.4320\n",
      "\n",
      "val/train: 0.96\n",
      "Epoch 89/150\n",
      "363/363 [==============================] - 0s 742us/step - loss: 0.3140 - main_output_loss: 0.3036 - aux_output_loss: 0.4070 - main_output_root_mean_squared_error: 0.5508 - main_output_mean_absolute_percentage_error: 21.7345 - aux_output_root_mean_squared_error: 0.6378 - aux_output_mean_absolute_percentage_error: 27.5056 - val_loss: 0.3079 - val_main_output_loss: 0.2985 - val_aux_output_loss: 0.3923 - val_main_output_root_mean_squared_error: 0.5464 - val_main_output_mean_absolute_percentage_error: 20.7336 - val_aux_output_root_mean_squared_error: 0.6264 - val_aux_output_mean_absolute_percentage_error: 26.6989\n",
      "\n",
      "val/train: 0.95\n",
      "Epoch 90/150\n",
      "363/363 [==============================] - 0s 700us/step - loss: 0.3187 - main_output_loss: 0.3082 - aux_output_loss: 0.4137 - main_output_root_mean_squared_error: 0.5549 - main_output_mean_absolute_percentage_error: 22.1597 - aux_output_root_mean_squared_error: 0.6431 - aux_output_mean_absolute_percentage_error: 27.4964 - val_loss: 0.3044 - val_main_output_loss: 0.2949 - val_aux_output_loss: 0.3896 - val_main_output_root_mean_squared_error: 0.5431 - val_main_output_mean_absolute_percentage_error: 20.6061 - val_aux_output_root_mean_squared_error: 0.6242 - val_aux_output_mean_absolute_percentage_error: 26.5523\n",
      "\n",
      "val/train: 0.94\n",
      "Epoch 91/150\n",
      "363/363 [==============================] - 0s 762us/step - loss: 0.3156 - main_output_loss: 0.3046 - aux_output_loss: 0.4144 - main_output_root_mean_squared_error: 0.5518 - main_output_mean_absolute_percentage_error: 21.9867 - aux_output_root_mean_squared_error: 0.6436 - aux_output_mean_absolute_percentage_error: 27.5740 - val_loss: 0.3038 - val_main_output_loss: 0.2943 - val_aux_output_loss: 0.3893 - val_main_output_root_mean_squared_error: 0.5425 - val_main_output_mean_absolute_percentage_error: 21.2938 - val_aux_output_root_mean_squared_error: 0.6239 - val_aux_output_mean_absolute_percentage_error: 26.8350\n"
     ]
    },
    {
     "name": "stdout",
     "output_type": "stream",
     "text": [
      "\n",
      "val/train: 0.94\n",
      "Epoch 92/150\n",
      "363/363 [==============================] - 0s 761us/step - loss: 0.3088 - main_output_loss: 0.2990 - aux_output_loss: 0.3976 - main_output_root_mean_squared_error: 0.5465 - main_output_mean_absolute_percentage_error: 21.5852 - aux_output_root_mean_squared_error: 0.6303 - aux_output_mean_absolute_percentage_error: 26.9056 - val_loss: 0.3054 - val_main_output_loss: 0.2964 - val_aux_output_loss: 0.3860 - val_main_output_root_mean_squared_error: 0.5444 - val_main_output_mean_absolute_percentage_error: 20.8402 - val_aux_output_root_mean_squared_error: 0.6213 - val_aux_output_mean_absolute_percentage_error: 26.2751\n",
      "\n",
      "val/train: 0.95\n",
      "Epoch 93/150\n",
      "363/363 [==============================] - 0s 746us/step - loss: 0.3155 - main_output_loss: 0.3046 - aux_output_loss: 0.4138 - main_output_root_mean_squared_error: 0.5518 - main_output_mean_absolute_percentage_error: 21.5623 - aux_output_root_mean_squared_error: 0.6430 - aux_output_mean_absolute_percentage_error: 26.8897 - val_loss: 0.3087 - val_main_output_loss: 0.2996 - val_aux_output_loss: 0.3901 - val_main_output_root_mean_squared_error: 0.5474 - val_main_output_mean_absolute_percentage_error: 19.6610 - val_aux_output_root_mean_squared_error: 0.6246 - val_aux_output_mean_absolute_percentage_error: 25.6447\n",
      "\n",
      "val/train: 0.96\n",
      "Epoch 94/150\n",
      "363/363 [==============================] - 0s 760us/step - loss: 0.3115 - main_output_loss: 0.3011 - aux_output_loss: 0.4046 - main_output_root_mean_squared_error: 0.5484 - main_output_mean_absolute_percentage_error: 21.3841 - aux_output_root_mean_squared_error: 0.6359 - aux_output_mean_absolute_percentage_error: 26.8635 - val_loss: 0.3075 - val_main_output_loss: 0.2988 - val_aux_output_loss: 0.3861 - val_main_output_root_mean_squared_error: 0.5466 - val_main_output_mean_absolute_percentage_error: 22.1332 - val_aux_output_root_mean_squared_error: 0.6214 - val_aux_output_mean_absolute_percentage_error: 27.2096\n",
      "\n",
      "val/train: 0.96\n",
      "Epoch 95/150\n",
      "363/363 [==============================] - 0s 743us/step - loss: 0.3263 - main_output_loss: 0.3163 - aux_output_loss: 0.4163 - main_output_root_mean_squared_error: 0.5622 - main_output_mean_absolute_percentage_error: 21.6589 - aux_output_root_mean_squared_error: 0.6451 - aux_output_mean_absolute_percentage_error: 27.1715 - val_loss: 0.3026 - val_main_output_loss: 0.2932 - val_aux_output_loss: 0.3866 - val_main_output_root_mean_squared_error: 0.5415 - val_main_output_mean_absolute_percentage_error: 20.2394 - val_aux_output_root_mean_squared_error: 0.6218 - val_aux_output_mean_absolute_percentage_error: 25.7700\n",
      "\n",
      "val/train: 0.94\n",
      "Epoch 96/150\n",
      "363/363 [==============================] - 0s 752us/step - loss: 0.3271 - main_output_loss: 0.3169 - aux_output_loss: 0.4194 - main_output_root_mean_squared_error: 0.5628 - main_output_mean_absolute_percentage_error: 21.7983 - aux_output_root_mean_squared_error: 0.6475 - aux_output_mean_absolute_percentage_error: 27.1685 - val_loss: 0.3024 - val_main_output_loss: 0.2934 - val_aux_output_loss: 0.3838 - val_main_output_root_mean_squared_error: 0.5416 - val_main_output_mean_absolute_percentage_error: 20.7870 - val_aux_output_root_mean_squared_error: 0.6195 - val_aux_output_mean_absolute_percentage_error: 26.0686\n",
      "\n",
      "val/train: 0.94\n",
      "Epoch 97/150\n",
      "363/363 [==============================] - 0s 757us/step - loss: 0.3258 - main_output_loss: 0.3157 - aux_output_loss: 0.4170 - main_output_root_mean_squared_error: 0.5618 - main_output_mean_absolute_percentage_error: 21.6524 - aux_output_root_mean_squared_error: 0.6457 - aux_output_mean_absolute_percentage_error: 26.6403 - val_loss: 0.3016 - val_main_output_loss: 0.2926 - val_aux_output_loss: 0.3821 - val_main_output_root_mean_squared_error: 0.5410 - val_main_output_mean_absolute_percentage_error: 20.2235 - val_aux_output_root_mean_squared_error: 0.6181 - val_aux_output_mean_absolute_percentage_error: 26.0606\n",
      "\n",
      "val/train: 0.94\n",
      "Epoch 98/150\n",
      "363/363 [==============================] - 0s 748us/step - loss: 0.3253 - main_output_loss: 0.3158 - aux_output_loss: 0.4109 - main_output_root_mean_squared_error: 0.5619 - main_output_mean_absolute_percentage_error: 21.4379 - aux_output_root_mean_squared_error: 0.6409 - aux_output_mean_absolute_percentage_error: 26.3872 - val_loss: 0.3037 - val_main_output_loss: 0.2949 - val_aux_output_loss: 0.3830 - val_main_output_root_mean_squared_error: 0.5431 - val_main_output_mean_absolute_percentage_error: 21.0617 - val_aux_output_root_mean_squared_error: 0.6189 - val_aux_output_mean_absolute_percentage_error: 26.4009\n",
      "\n",
      "val/train: 0.95\n",
      "Epoch 99/150\n",
      "363/363 [==============================] - 0s 751us/step - loss: 0.3277 - main_output_loss: 0.3187 - aux_output_loss: 0.4089 - main_output_root_mean_squared_error: 0.5642 - main_output_mean_absolute_percentage_error: 21.6867 - aux_output_root_mean_squared_error: 0.6394 - aux_output_mean_absolute_percentage_error: 26.6455 - val_loss: 0.3037 - val_main_output_loss: 0.2947 - val_aux_output_loss: 0.3845 - val_main_output_root_mean_squared_error: 0.5429 - val_main_output_mean_absolute_percentage_error: 20.4680 - val_aux_output_root_mean_squared_error: 0.6200 - val_aux_output_mean_absolute_percentage_error: 26.0871\n",
      "\n",
      "val/train: 0.92\n",
      "Epoch 100/150\n",
      "363/363 [==============================] - 0s 724us/step - loss: 0.3172 - main_output_loss: 0.3067 - aux_output_loss: 0.4117 - main_output_root_mean_squared_error: 0.5537 - main_output_mean_absolute_percentage_error: 21.3976 - aux_output_root_mean_squared_error: 0.6415 - aux_output_mean_absolute_percentage_error: 26.7575 - val_loss: 0.3017 - val_main_output_loss: 0.2926 - val_aux_output_loss: 0.3835 - val_main_output_root_mean_squared_error: 0.5409 - val_main_output_mean_absolute_percentage_error: 20.1208 - val_aux_output_root_mean_squared_error: 0.6193 - val_aux_output_mean_absolute_percentage_error: 25.6742\n",
      "\n",
      "val/train: 0.94\n",
      "Epoch 101/150\n",
      "363/363 [==============================] - 0s 715us/step - loss: 0.3213 - main_output_loss: 0.3112 - aux_output_loss: 0.4122 - main_output_root_mean_squared_error: 0.5576 - main_output_mean_absolute_percentage_error: 21.7726 - aux_output_root_mean_squared_error: 0.6419 - aux_output_mean_absolute_percentage_error: 26.8989 - val_loss: 0.3111 - val_main_output_loss: 0.3022 - val_aux_output_loss: 0.3910 - val_main_output_root_mean_squared_error: 0.5498 - val_main_output_mean_absolute_percentage_error: 19.6212 - val_aux_output_root_mean_squared_error: 0.6253 - val_aux_output_mean_absolute_percentage_error: 24.9804\n",
      "\n",
      "val/train: 0.97\n",
      "Epoch 102/150\n",
      "363/363 [==============================] - 0s 700us/step - loss: 0.3209 - main_output_loss: 0.3107 - aux_output_loss: 0.4127 - main_output_root_mean_squared_error: 0.5573 - main_output_mean_absolute_percentage_error: 21.4427 - aux_output_root_mean_squared_error: 0.6423 - aux_output_mean_absolute_percentage_error: 26.6993 - val_loss: 0.3068 - val_main_output_loss: 0.2983 - val_aux_output_loss: 0.3829 - val_main_output_root_mean_squared_error: 0.5462 - val_main_output_mean_absolute_percentage_error: 22.1547 - val_aux_output_root_mean_squared_error: 0.6188 - val_aux_output_mean_absolute_percentage_error: 27.3232\n",
      "\n",
      "val/train: 0.96\n",
      "Epoch 103/150\n",
      "363/363 [==============================] - 0s 747us/step - loss: 0.3245 - main_output_loss: 0.3156 - aux_output_loss: 0.4049 - main_output_root_mean_squared_error: 0.5616 - main_output_mean_absolute_percentage_error: 21.9609 - aux_output_root_mean_squared_error: 0.6362 - aux_output_mean_absolute_percentage_error: 26.8567 - val_loss: 0.3032 - val_main_output_loss: 0.2945 - val_aux_output_loss: 0.3813 - val_main_output_root_mean_squared_error: 0.5427 - val_main_output_mean_absolute_percentage_error: 20.5113 - val_aux_output_root_mean_squared_error: 0.6175 - val_aux_output_mean_absolute_percentage_error: 25.8756\n",
      "\n",
      "val/train: 0.95\n",
      "Epoch 104/150\n",
      "363/363 [==============================] - 0s 755us/step - loss: 0.3137 - main_output_loss: 0.3043 - aux_output_loss: 0.3976 - main_output_root_mean_squared_error: 0.5516 - main_output_mean_absolute_percentage_error: 21.4505 - aux_output_root_mean_squared_error: 0.6304 - aux_output_mean_absolute_percentage_error: 26.2564 - val_loss: 0.3107 - val_main_output_loss: 0.3029 - val_aux_output_loss: 0.3810 - val_main_output_root_mean_squared_error: 0.5503 - val_main_output_mean_absolute_percentage_error: 21.5149 - val_aux_output_root_mean_squared_error: 0.6172 - val_aux_output_mean_absolute_percentage_error: 26.1429\n"
     ]
    },
    {
     "name": "stdout",
     "output_type": "stream",
     "text": [
      "\n",
      "val/train: 0.98\n",
      "Epoch 105/150\n",
      "363/363 [==============================] - 0s 749us/step - loss: 0.3217 - main_output_loss: 0.3119 - aux_output_loss: 0.4098 - main_output_root_mean_squared_error: 0.5584 - main_output_mean_absolute_percentage_error: 21.4537 - aux_output_root_mean_squared_error: 0.6399 - aux_output_mean_absolute_percentage_error: 26.3429 - val_loss: 0.3006 - val_main_output_loss: 0.2919 - val_aux_output_loss: 0.3786 - val_main_output_root_mean_squared_error: 0.5403 - val_main_output_mean_absolute_percentage_error: 20.2496 - val_aux_output_root_mean_squared_error: 0.6153 - val_aux_output_mean_absolute_percentage_error: 25.4600\n",
      "\n",
      "val/train: 0.94\n",
      "Epoch 106/150\n",
      "363/363 [==============================] - 0s 757us/step - loss: 0.3032 - main_output_loss: 0.2941 - aux_output_loss: 0.3857 - main_output_root_mean_squared_error: 0.5422 - main_output_mean_absolute_percentage_error: 21.1125 - aux_output_root_mean_squared_error: 0.6208 - aux_output_mean_absolute_percentage_error: 25.8160 - val_loss: 0.2990 - val_main_output_loss: 0.2903 - val_aux_output_loss: 0.3775 - val_main_output_root_mean_squared_error: 0.5388 - val_main_output_mean_absolute_percentage_error: 20.7378 - val_aux_output_root_mean_squared_error: 0.6144 - val_aux_output_mean_absolute_percentage_error: 26.3027\n",
      "\n",
      "val/train: 0.94\n",
      "Epoch 107/150\n",
      "363/363 [==============================] - 0s 722us/step - loss: 0.3146 - main_output_loss: 0.3051 - aux_output_loss: 0.3997 - main_output_root_mean_squared_error: 0.5523 - main_output_mean_absolute_percentage_error: 21.3411 - aux_output_root_mean_squared_error: 0.6322 - aux_output_mean_absolute_percentage_error: 26.5411 - val_loss: 0.2987 - val_main_output_loss: 0.2901 - val_aux_output_loss: 0.3761 - val_main_output_root_mean_squared_error: 0.5386 - val_main_output_mean_absolute_percentage_error: 20.9856 - val_aux_output_root_mean_squared_error: 0.6133 - val_aux_output_mean_absolute_percentage_error: 26.3252\n",
      "\n",
      "val/train: 0.94\n",
      "Epoch 108/150\n",
      "363/363 [==============================] - 0s 761us/step - loss: 0.2985 - main_output_loss: 0.2893 - aux_output_loss: 0.3816 - main_output_root_mean_squared_error: 0.5377 - main_output_mean_absolute_percentage_error: 21.1506 - aux_output_root_mean_squared_error: 0.6175 - aux_output_mean_absolute_percentage_error: 26.4490 - val_loss: 0.3054 - val_main_output_loss: 0.2973 - val_aux_output_loss: 0.3787 - val_main_output_root_mean_squared_error: 0.5452 - val_main_output_mean_absolute_percentage_error: 21.6766 - val_aux_output_root_mean_squared_error: 0.6154 - val_aux_output_mean_absolute_percentage_error: 27.0022\n",
      "\n",
      "val/train: 0.96\n",
      "Epoch 109/150\n",
      "363/363 [==============================] - 0s 740us/step - loss: 0.3153 - main_output_loss: 0.3053 - aux_output_loss: 0.4050 - main_output_root_mean_squared_error: 0.5524 - main_output_mean_absolute_percentage_error: 21.4977 - aux_output_root_mean_squared_error: 0.6363 - aux_output_mean_absolute_percentage_error: 26.7320 - val_loss: 0.2997 - val_main_output_loss: 0.2915 - val_aux_output_loss: 0.3736 - val_main_output_root_mean_squared_error: 0.5399 - val_main_output_mean_absolute_percentage_error: 20.8688 - val_aux_output_root_mean_squared_error: 0.6113 - val_aux_output_mean_absolute_percentage_error: 25.8880\n",
      "\n",
      "val/train: 0.95\n",
      "Epoch 110/150\n",
      "363/363 [==============================] - 0s 760us/step - loss: 0.3156 - main_output_loss: 0.3059 - aux_output_loss: 0.4033 - main_output_root_mean_squared_error: 0.5530 - main_output_mean_absolute_percentage_error: 21.0770 - aux_output_root_mean_squared_error: 0.6349 - aux_output_mean_absolute_percentage_error: 26.2099 - val_loss: 0.3046 - val_main_output_loss: 0.2966 - val_aux_output_loss: 0.3765 - val_main_output_root_mean_squared_error: 0.5446 - val_main_output_mean_absolute_percentage_error: 21.3939 - val_aux_output_root_mean_squared_error: 0.6136 - val_aux_output_mean_absolute_percentage_error: 26.2343\n",
      "\n",
      "val/train: 0.96\n",
      "Epoch 111/150\n",
      "363/363 [==============================] - 0s 743us/step - loss: 0.3070 - main_output_loss: 0.2979 - aux_output_loss: 0.3887 - main_output_root_mean_squared_error: 0.5457 - main_output_mean_absolute_percentage_error: 21.4681 - aux_output_root_mean_squared_error: 0.6233 - aux_output_mean_absolute_percentage_error: 26.3418 - val_loss: 0.3022 - val_main_output_loss: 0.2938 - val_aux_output_loss: 0.3784 - val_main_output_root_mean_squared_error: 0.5420 - val_main_output_mean_absolute_percentage_error: 19.8334 - val_aux_output_root_mean_squared_error: 0.6151 - val_aux_output_mean_absolute_percentage_error: 25.2119\n",
      "\n",
      "val/train: 0.96\n",
      "Epoch 112/150\n",
      "363/363 [==============================] - 0s 755us/step - loss: 0.3132 - main_output_loss: 0.3035 - aux_output_loss: 0.4009 - main_output_root_mean_squared_error: 0.5505 - main_output_mean_absolute_percentage_error: 21.2307 - aux_output_root_mean_squared_error: 0.6330 - aux_output_mean_absolute_percentage_error: 26.2742 - val_loss: 0.2978 - val_main_output_loss: 0.2893 - val_aux_output_loss: 0.3741 - val_main_output_root_mean_squared_error: 0.5379 - val_main_output_mean_absolute_percentage_error: 19.7143 - val_aux_output_root_mean_squared_error: 0.6116 - val_aux_output_mean_absolute_percentage_error: 25.0147\n",
      "\n",
      "val/train: 0.94\n",
      "Epoch 113/150\n",
      "363/363 [==============================] - 0s 751us/step - loss: 0.3050 - main_output_loss: 0.2957 - aux_output_loss: 0.3887 - main_output_root_mean_squared_error: 0.5437 - main_output_mean_absolute_percentage_error: 21.1526 - aux_output_root_mean_squared_error: 0.6234 - aux_output_mean_absolute_percentage_error: 26.1793 - val_loss: 0.3017 - val_main_output_loss: 0.2934 - val_aux_output_loss: 0.3757 - val_main_output_root_mean_squared_error: 0.5417 - val_main_output_mean_absolute_percentage_error: 21.4610 - val_aux_output_root_mean_squared_error: 0.6129 - val_aux_output_mean_absolute_percentage_error: 26.6449\n",
      "\n",
      "val/train: 0.96\n",
      "Epoch 114/150\n",
      "363/363 [==============================] - 0s 742us/step - loss: 0.3184 - main_output_loss: 0.3087 - aux_output_loss: 0.4059 - main_output_root_mean_squared_error: 0.5556 - main_output_mean_absolute_percentage_error: 21.6696 - aux_output_root_mean_squared_error: 0.6370 - aux_output_mean_absolute_percentage_error: 26.3026 - val_loss: 0.2978 - val_main_output_loss: 0.2894 - val_aux_output_loss: 0.3733 - val_main_output_root_mean_squared_error: 0.5380 - val_main_output_mean_absolute_percentage_error: 19.8388 - val_aux_output_root_mean_squared_error: 0.6110 - val_aux_output_mean_absolute_percentage_error: 25.1180\n",
      "\n",
      "val/train: 0.94\n",
      "Epoch 115/150\n",
      "363/363 [==============================] - 0s 754us/step - loss: 0.3162 - main_output_loss: 0.3069 - aux_output_loss: 0.4000 - main_output_root_mean_squared_error: 0.5539 - main_output_mean_absolute_percentage_error: 21.6567 - aux_output_root_mean_squared_error: 0.6323 - aux_output_mean_absolute_percentage_error: 26.5892 - val_loss: 0.3019 - val_main_output_loss: 0.2938 - val_aux_output_loss: 0.3752 - val_main_output_root_mean_squared_error: 0.5420 - val_main_output_mean_absolute_percentage_error: 19.8066 - val_aux_output_root_mean_squared_error: 0.6126 - val_aux_output_mean_absolute_percentage_error: 25.0446\n",
      "\n",
      "val/train: 0.97\n",
      "Epoch 116/150\n",
      "363/363 [==============================] - 0s 746us/step - loss: 0.2952 - main_output_loss: 0.2852 - aux_output_loss: 0.3855 - main_output_root_mean_squared_error: 0.5338 - main_output_mean_absolute_percentage_error: 20.7869 - aux_output_root_mean_squared_error: 0.6208 - aux_output_mean_absolute_percentage_error: 26.0966 - val_loss: 0.2961 - val_main_output_loss: 0.2876 - val_aux_output_loss: 0.3720 - val_main_output_root_mean_squared_error: 0.5363 - val_main_output_mean_absolute_percentage_error: 20.0315 - val_aux_output_root_mean_squared_error: 0.6099 - val_aux_output_mean_absolute_percentage_error: 25.2429\n",
      "\n",
      "val/train: 0.94\n",
      "Epoch 117/150\n",
      "363/363 [==============================] - 0s 712us/step - loss: 0.3192 - main_output_loss: 0.3094 - aux_output_loss: 0.4074 - main_output_root_mean_squared_error: 0.5562 - main_output_mean_absolute_percentage_error: 21.7387 - aux_output_root_mean_squared_error: 0.6382 - aux_output_mean_absolute_percentage_error: 26.7529 - val_loss: 0.2978 - val_main_output_loss: 0.2899 - val_aux_output_loss: 0.3694 - val_main_output_root_mean_squared_error: 0.5384 - val_main_output_mean_absolute_percentage_error: 20.8855 - val_aux_output_root_mean_squared_error: 0.6078 - val_aux_output_mean_absolute_percentage_error: 25.8594\n"
     ]
    },
    {
     "name": "stdout",
     "output_type": "stream",
     "text": [
      "\n",
      "val/train: 0.95\n",
      "Epoch 118/150\n",
      "363/363 [==============================] - 0s 758us/step - loss: 0.3107 - main_output_loss: 0.3012 - aux_output_loss: 0.3958 - main_output_root_mean_squared_error: 0.5487 - main_output_mean_absolute_percentage_error: 21.3401 - aux_output_root_mean_squared_error: 0.6290 - aux_output_mean_absolute_percentage_error: 26.2282 - val_loss: 0.3008 - val_main_output_loss: 0.2924 - val_aux_output_loss: 0.3772 - val_main_output_root_mean_squared_error: 0.5407 - val_main_output_mean_absolute_percentage_error: 20.3394 - val_aux_output_root_mean_squared_error: 0.6142 - val_aux_output_mean_absolute_percentage_error: 25.4807\n",
      "\n",
      "val/train: 0.96\n",
      "Epoch 119/150\n",
      "363/363 [==============================] - 0s 741us/step - loss: 0.3162 - main_output_loss: 0.3070 - aux_output_loss: 0.3983 - main_output_root_mean_squared_error: 0.5540 - main_output_mean_absolute_percentage_error: 21.4382 - aux_output_root_mean_squared_error: 0.6309 - aux_output_mean_absolute_percentage_error: 26.2823 - val_loss: 0.2993 - val_main_output_loss: 0.2913 - val_aux_output_loss: 0.3720 - val_main_output_root_mean_squared_error: 0.5397 - val_main_output_mean_absolute_percentage_error: 20.0741 - val_aux_output_root_mean_squared_error: 0.6099 - val_aux_output_mean_absolute_percentage_error: 25.1092\n",
      "\n",
      "val/train: 0.95\n",
      "Epoch 120/150\n",
      "363/363 [==============================] - 0s 758us/step - loss: 0.3207 - main_output_loss: 0.3113 - aux_output_loss: 0.4060 - main_output_root_mean_squared_error: 0.5578 - main_output_mean_absolute_percentage_error: 21.8637 - aux_output_root_mean_squared_error: 0.6370 - aux_output_mean_absolute_percentage_error: 26.8803 - val_loss: 0.2979 - val_main_output_loss: 0.2898 - val_aux_output_loss: 0.3711 - val_main_output_root_mean_squared_error: 0.5383 - val_main_output_mean_absolute_percentage_error: 20.4893 - val_aux_output_root_mean_squared_error: 0.6092 - val_aux_output_mean_absolute_percentage_error: 25.7629\n",
      "\n",
      "val/train: 0.95\n",
      "Epoch 121/150\n",
      "363/363 [==============================] - 0s 753us/step - loss: 0.3283 - main_output_loss: 0.3200 - aux_output_loss: 0.4037 - main_output_root_mean_squared_error: 0.5654 - main_output_mean_absolute_percentage_error: 21.5670 - aux_output_root_mean_squared_error: 0.6352 - aux_output_mean_absolute_percentage_error: 26.3419 - val_loss: 0.3018 - val_main_output_loss: 0.2937 - val_aux_output_loss: 0.3749 - val_main_output_root_mean_squared_error: 0.5420 - val_main_output_mean_absolute_percentage_error: 19.2403 - val_aux_output_root_mean_squared_error: 0.6123 - val_aux_output_mean_absolute_percentage_error: 24.4216\n",
      "\n",
      "val/train: 0.97\n",
      "Epoch 122/150\n",
      "363/363 [==============================] - 0s 755us/step - loss: 0.3129 - main_output_loss: 0.3043 - aux_output_loss: 0.3905 - main_output_root_mean_squared_error: 0.5516 - main_output_mean_absolute_percentage_error: 21.6761 - aux_output_root_mean_squared_error: 0.6248 - aux_output_mean_absolute_percentage_error: 26.3487 - val_loss: 0.3135 - val_main_output_loss: 0.3061 - val_aux_output_loss: 0.3806 - val_main_output_root_mean_squared_error: 0.5532 - val_main_output_mean_absolute_percentage_error: 22.5398 - val_aux_output_root_mean_squared_error: 0.6169 - val_aux_output_mean_absolute_percentage_error: 27.4289\n",
      "\n",
      "val/train: 1.00\n",
      "Epoch 123/150\n",
      "363/363 [==============================] - 0s 707us/step - loss: 0.3103 - main_output_loss: 0.3014 - aux_output_loss: 0.3909 - main_output_root_mean_squared_error: 0.5489 - main_output_mean_absolute_percentage_error: 21.3848 - aux_output_root_mean_squared_error: 0.6252 - aux_output_mean_absolute_percentage_error: 26.3300 - val_loss: 0.2979 - val_main_output_loss: 0.2902 - val_aux_output_loss: 0.3673 - val_main_output_root_mean_squared_error: 0.5387 - val_main_output_mean_absolute_percentage_error: 20.3482 - val_aux_output_root_mean_squared_error: 0.6060 - val_aux_output_mean_absolute_percentage_error: 25.2886\n",
      "\n",
      "val/train: 0.95\n",
      "Epoch 124/150\n",
      "363/363 [==============================] - 0s 763us/step - loss: 0.3114 - main_output_loss: 0.3030 - aux_output_loss: 0.3865 - main_output_root_mean_squared_error: 0.5504 - main_output_mean_absolute_percentage_error: 21.2379 - aux_output_root_mean_squared_error: 0.6215 - aux_output_mean_absolute_percentage_error: 25.6410 - val_loss: 0.2972 - val_main_output_loss: 0.2892 - val_aux_output_loss: 0.3694 - val_main_output_root_mean_squared_error: 0.5378 - val_main_output_mean_absolute_percentage_error: 21.0284 - val_aux_output_root_mean_squared_error: 0.6078 - val_aux_output_mean_absolute_percentage_error: 25.9564\n",
      "\n",
      "val/train: 0.95\n",
      "Epoch 125/150\n",
      "363/363 [==============================] - 0s 711us/step - loss: 0.3203 - main_output_loss: 0.3113 - aux_output_loss: 0.4010 - main_output_root_mean_squared_error: 0.5577 - main_output_mean_absolute_percentage_error: 21.8969 - aux_output_root_mean_squared_error: 0.6331 - aux_output_mean_absolute_percentage_error: 26.5888 - val_loss: 0.3039 - val_main_output_loss: 0.2961 - val_aux_output_loss: 0.3739 - val_main_output_root_mean_squared_error: 0.5441 - val_main_output_mean_absolute_percentage_error: 21.3835 - val_aux_output_root_mean_squared_error: 0.6115 - val_aux_output_mean_absolute_percentage_error: 26.1217\n",
      "\n",
      "val/train: 0.97\n",
      "Epoch 126/150\n",
      "363/363 [==============================] - 0s 750us/step - loss: 0.3290 - main_output_loss: 0.3200 - aux_output_loss: 0.4101 - main_output_root_mean_squared_error: 0.5654 - main_output_mean_absolute_percentage_error: 21.5010 - aux_output_root_mean_squared_error: 0.6401 - aux_output_mean_absolute_percentage_error: 26.1158 - val_loss: 0.3011 - val_main_output_loss: 0.2936 - val_aux_output_loss: 0.3688 - val_main_output_root_mean_squared_error: 0.5419 - val_main_output_mean_absolute_percentage_error: 19.8620 - val_aux_output_root_mean_squared_error: 0.6073 - val_aux_output_mean_absolute_percentage_error: 24.5981\n",
      "\n",
      "val/train: 0.97\n"
     ]
    }
   ],
   "source": [
    "history = model.fit(\n",
    "    {'wide_input': X_train_A, 'deep_input': X_train_B},\n",
    "    {'main_output': y_train, 'aux_output': y_train},\n",
    "    epochs=150,\n",
    "    validation_data=(\n",
    "        {'wide_input': X_valid_A, 'deep_input': X_valid_B},\n",
    "        {'main_output': y_valid, 'aux_output': y_valid}\n",
    "    ),\n",
    "    callbacks=[checkpoint_cb, early_stopping_cb, PrintValTrainRatioCallback()]\n",
    ")"
   ]
  },
  {
   "cell_type": "code",
   "execution_count": 19,
   "metadata": {
    "scrolled": true
   },
   "outputs": [
    {
     "data": {
      "image/png": "[encoded data removed]",
      "text/plain": [
       "<Figure size 576x360 with 1 Axes>"
      ]
     },
     "metadata": {
      "needs_background": "light"
     },
     "output_type": "display_data"
    }
   ],
   "source": [
    "pd.DataFrame(history.history)[['loss', 'val_loss', 'main_output_loss', 'val_main_output_loss', 'aux_output_loss', 'val_aux_output_loss']].plot(figsize=(8,5))\n",
    "plt.grid(True)\n",
    "plt.show()"
   ]
  },
  {
   "cell_type": "code",
   "execution_count": 20,
   "metadata": {},
   "outputs": [
    {
     "data": {
      "image/png": "[encoded data removed]",
      "text/plain": [
       "<Figure size 576x360 with 1 Axes>"
      ]
     },
     "metadata": {
      "needs_background": "light"
     },
     "output_type": "display_data"
    }
   ],
   "source": [
    "pd.DataFrame(history.history)[['main_output_root_mean_squared_error', 'val_main_output_root_mean_squared_error', 'aux_output_root_mean_squared_error', 'val_aux_output_root_mean_squared_error']].plot(figsize=(8,5))\n",
    "plt.grid(True)\n",
    "plt.show()"
   ]
  },
  {
   "cell_type": "code",
   "execution_count": 21,
   "metadata": {},
   "outputs": [
    {
     "data": {
      "image/png": "[encoded data removed]",
      "text/plain": [
       "<Figure size 576x360 with 1 Axes>"
      ]
     },
     "metadata": {
      "needs_background": "light"
     },
     "output_type": "display_data"
    }
   ],
   "source": [
    "pd.DataFrame(history.history)[['main_output_mean_absolute_percentage_error', 'val_main_output_mean_absolute_percentage_error', 'aux_output_mean_absolute_percentage_error', 'val_aux_output_mean_absolute_percentage_error']].plot(figsize=(8,5))\n",
    "plt.grid(True)\n",
    "plt.show()"
   ]
  },
  {
   "cell_type": "markdown",
   "metadata": {},
   "source": [
    "## Evaluate the model"
   ]
  },
  {
   "cell_type": "code",
   "execution_count": 22,
   "metadata": {},
   "outputs": [
    {
     "name": "stdout",
     "output_type": "stream",
     "text": [
      "162/162 [==============================] - 0s 493us/step - loss: 0.3360 - main_output_loss: 0.3268 - aux_output_loss: 0.4188 - main_output_root_mean_squared_error: 0.5717 - main_output_mean_absolute_percentage_error: 21.3263 - aux_output_root_mean_squared_error: 0.6471 - aux_output_mean_absolute_percentage_error: 26.1992\n"
     ]
    }
   ],
   "source": [
    "mse_test = model.evaluate(\n",
    "    {'wide_input': X_test_A, 'deep_input': X_test_B},\n",
    "    {'main_output': y_test, 'aux_output': y_test}\n",
    ")"
   ]
  },
  {
   "cell_type": "markdown",
   "metadata": {},
   "source": [
    "## Manually saving the model"
   ]
  },
  {
   "cell_type": "code",
   "execution_count": 23,
   "metadata": {},
   "outputs": [],
   "source": [
    "model.save('chapter10_housing_model.h5')"
   ]
  },
  {
   "cell_type": "markdown",
   "metadata": {},
   "source": [
    "## Manually restoring a model"
   ]
  },
  {
   "cell_type": "code",
   "execution_count": 24,
   "metadata": {},
   "outputs": [],
   "source": [
    "model2 = keras.models.load_model('chapter10_housing_model.h5')"
   ]
  },
  {
   "cell_type": "code",
   "execution_count": 25,
   "metadata": {},
   "outputs": [
    {
     "name": "stdout",
     "output_type": "stream",
     "text": [
      "Model: \"model\"\n",
      "__________________________________________________________________________________________________\n",
      "Layer (type)                    Output Shape         Param #     Connected to                     \n",
      "==================================================================================================\n",
      "deep_input (InputLayer)         [(None, 6)]          0                                            \n",
      "__________________________________________________________________________________________________\n",
      "hidden_1 (Dense)                (None, 30)           210         deep_input[0][0]                 \n",
      "__________________________________________________________________________________________________\n",
      "wide_input (InputLayer)         [(None, 5)]          0                                            \n",
      "__________________________________________________________________________________________________\n",
      "hidden_2 (Dense)                (None, 30)           930         hidden_1[0][0]                   \n",
      "__________________________________________________________________________________________________\n",
      "wide_concat (Concatenate)       (None, 35)           0           wide_input[0][0]                 \n",
      "                                                                 hidden_2[0][0]                   \n",
      "__________________________________________________________________________________________________\n",
      "main_output (Dense)             (None, 1)            36          wide_concat[0][0]                \n",
      "__________________________________________________________________________________________________\n",
      "aux_output (Dense)              (None, 1)            31          hidden_2[0][0]                   \n",
      "==================================================================================================\n",
      "Total params: 1,207\n",
      "Trainable params: 1,207\n",
      "Non-trainable params: 0\n",
      "__________________________________________________________________________________________________\n"
     ]
    }
   ],
   "source": [
    "model2.summary()"
   ]
  },
  {
   "cell_type": "code",
   "execution_count": 26,
   "metadata": {},
   "outputs": [
    {
     "data": {
      "text/plain": [
       "[<tf.Variable 'hidden_1/kernel:0' shape=(6, 30) dtype=float32, numpy=\n",
       " array([[-1.46193773e-01, -5.40097356e-02, -8.32018256e-02,\n",
       "         -2.72700876e-01,  6.38498226e-03, -5.90458393e-01,\n",
       "          1.88336164e-01,  5.49447797e-02, -9.13036522e-03,\n",
       "          3.28707576e-01, -2.39122659e-02, -1.36405043e-02,\n",
       "          4.51832741e-01, -3.40214491e-01,  3.19571234e-02,\n",
       "          3.29012126e-01,  9.53570455e-02,  4.14885171e-02,\n",
       "         -1.53308615e-01, -1.30711440e-02, -3.00949067e-02,\n",
       "          6.97523475e-01, -4.37690824e-01, -1.03490271e-01,\n",
       "         -2.11297005e-01, -2.56371260e-01, -2.46034697e-01,\n",
       "         -1.30641177e-01,  2.41848931e-01,  2.03375980e-01],\n",
       "        [-3.52926970e-01,  2.19696879e-01,  3.91865857e-02,\n",
       "          2.14496017e-01, -1.73196122e-01,  1.54727668e-01,\n",
       "          9.92696211e-02,  3.45978677e-01,  8.18507820e-02,\n",
       "          1.60059184e-01,  2.72846743e-02,  5.65865375e-02,\n",
       "         -5.61293304e-01, -1.47594409e-02,  3.35525051e-02,\n",
       "         -3.22600424e-01, -5.15365675e-02,  3.18281576e-02,\n",
       "         -2.14246869e-01,  2.18683854e-01,  1.46505788e-01,\n",
       "         -1.57736436e-01,  2.87032962e-01, -2.51308382e-01,\n",
       "          1.01148337e-01,  2.46350598e-02,  2.62254566e-01,\n",
       "          1.42401412e-01,  1.07329503e-01, -2.37361565e-01],\n",
       "        [-2.48192670e-03, -3.15108523e-02,  8.45211074e-02,\n",
       "          1.85904250e-01,  4.38485853e-02, -7.98991509e-03,\n",
       "          1.73162520e-01,  2.76056260e-01,  3.96568794e-03,\n",
       "         -5.65454625e-02, -3.21592763e-03, -4.37251106e-03,\n",
       "         -1.98898807e-01,  1.93323139e-02,  1.66697875e-01,\n",
       "          1.14215180e-01,  3.51150259e-02,  2.12391689e-02,\n",
       "         -1.89095289e-01, -1.32051939e-02, -9.80857410e-04,\n",
       "         -6.45695105e-02,  3.71867806e-01,  1.24571852e-01,\n",
       "         -1.93911254e-01, -5.51948622e-02,  2.23731712e-01,\n",
       "         -1.03838339e-01,  2.31188303e-03,  2.27867961e-01],\n",
       "        [-1.59684545e-03,  3.31631243e-01, -4.58747506e-01,\n",
       "         -1.99860204e-02, -7.78939247e-01, -4.40129876e-01,\n",
       "          1.09493650e-01, -3.47598158e-02, -3.42311919e-01,\n",
       "          2.85877604e-02, -1.14015579e+00,  7.75356889e-02,\n",
       "          1.46430418e-01,  5.39124787e-01,  1.26300812e-01,\n",
       "         -4.28356528e-01, -1.38720191e+00, -7.97125936e-01,\n",
       "          2.23619223e-01, -6.34223342e-01,  1.72258481e-01,\n",
       "         -2.98630029e-01, -1.61282524e-01, -1.78432897e-01,\n",
       "         -2.93748528e-01,  8.54613781e-02,  1.27381027e-01,\n",
       "          1.34786397e-01, -6.49743736e-01,  2.10699245e-01],\n",
       "        [-1.09932385e-01, -2.26250470e-01, -3.94805789e-01,\n",
       "          4.20588970e-01,  1.34732500e-01,  3.24055016e-01,\n",
       "         -2.17488304e-01,  2.82624930e-01,  2.25775182e-01,\n",
       "         -1.14008458e-03, -8.33582520e-01, -5.88373005e-01,\n",
       "         -1.00817196e-01, -6.56230986e-01, -2.97849566e-01,\n",
       "         -3.40726197e-01, -2.99618423e-01, -7.46710002e-01,\n",
       "          5.69372833e-01,  1.53122887e-01,  1.20701635e+00,\n",
       "          3.49261165e-01, -2.68039852e-01, -1.56070381e-01,\n",
       "         -3.32536101e-01,  7.73782670e-01, -1.22001283e-02,\n",
       "         -1.42234191e-01, -3.54511440e-01,  1.28805384e-01],\n",
       "        [ 5.67532003e-01,  1.07138669e+00,  5.70831716e-01,\n",
       "         -1.62141234e-01, -1.47907212e-01,  2.05136985e-01,\n",
       "         -1.48590326e-01, -3.20489369e-02, -4.76626694e-01,\n",
       "         -2.67198831e-01, -7.59470224e-01, -4.39040065e-01,\n",
       "         -2.68648475e-01, -3.21270734e-01,  3.16324800e-01,\n",
       "          1.74015626e-01, -3.97606552e-01,  3.14213932e-01,\n",
       "          5.11634290e-01,  1.88139454e-01,  9.30559218e-01,\n",
       "          3.02003592e-01,  1.99584141e-01,  1.40976936e-01,\n",
       "          2.23033682e-01,  3.70939285e-01, -3.30134153e-01,\n",
       "         -5.61538935e-01, -3.27441990e-01, -3.53664130e-01]], dtype=float32)>,\n",
       " <tf.Variable 'hidden_1/bias:0' shape=(30,) dtype=float32, numpy=\n",
       " array([-0.45505422, -0.7426331 ,  0.16240124, -0.0329822 ,  0.18470907,\n",
       "         0.01274758,  0.14008921, -0.21089351, -0.16268678,  0.07196717,\n",
       "        -0.18165588, -0.06354142,  0.08393217,  0.19136803, -0.22094429,\n",
       "         0.18144244,  0.01169741, -0.13752848,  0.10140759,  0.03596002,\n",
       "         0.15336694,  0.03664441, -0.05705231,  0.32892653, -0.03760771,\n",
       "        -0.06557342,  0.36224064, -0.1359055 ,  0.05603639, -0.07460538],\n",
       "       dtype=float32)>,\n",
       " <tf.Variable 'hidden_2/kernel:0' shape=(30, 30) dtype=float32, numpy=\n",
       " array([[ 1.18948616e-01, -3.95673066e-01,  1.15983911e-01,\n",
       "         -1.57478392e-01, -2.83033431e-01,  1.13974951e-01,\n",
       "         -2.93619156e-01,  1.19838789e-01, -3.37667555e-01,\n",
       "         -1.42881379e-01,  1.55616432e-01,  1.10320449e-01,\n",
       "         -8.61182809e-02, -4.37962413e-01, -2.65794992e-01,\n",
       "         -3.12972404e-02,  3.25758725e-01,  8.08806717e-02,\n",
       "         -6.86568096e-02,  2.70871192e-01,  2.58869469e-01,\n",
       "          2.68370599e-01, -2.73708522e-01, -2.11034492e-01,\n",
       "          2.65202999e-01, -1.35472659e-02,  1.89881548e-01,\n",
       "          8.73821899e-02,  3.64502758e-01,  1.30038649e-01],\n",
       "        [ 1.41297087e-01, -5.48677087e-01, -1.61649972e-01,\n",
       "         -2.16326252e-01, -1.83121741e-01, -2.56949157e-01,\n",
       "         -1.48509413e-01,  6.23616725e-02, -6.94003761e-01,\n",
       "          2.64735162e-01, -5.76872408e-01,  1.18488662e-01,\n",
       "          9.83653069e-02, -6.14965916e-01, -2.06294134e-01,\n",
       "         -3.49589854e-01, -1.98155642e-02, -1.83509946e-01,\n",
       "          1.72875494e-01,  1.08550400e-01, -3.47323596e-01,\n",
       "          1.22252621e-01, -1.17442407e-01, -7.08134547e-02,\n",
       "          9.38465223e-02,  7.98034668e-02, -2.63658404e-01,\n",
       "          1.29123896e-01,  2.31309578e-01,  3.35209072e-01],\n",
       "        [-3.07500750e-01,  4.99070495e-01, -3.10138196e-01,\n",
       "          6.05753474e-02, -3.03635746e-01, -2.24970892e-01,\n",
       "          2.32045949e-01,  1.83918491e-01,  9.35729891e-02,\n",
       "         -2.57704377e-01,  1.82134822e-01,  8.13065246e-02,\n",
       "          3.07928562e-01,  1.23364039e-01, -3.05501342e-01,\n",
       "          7.80930445e-02, -9.97926202e-03,  4.05134529e-01,\n",
       "         -2.65120476e-01,  2.44790211e-01,  3.42941523e-01,\n",
       "          5.35517074e-02,  2.70833164e-01, -1.50029026e-02,\n",
       "          2.35402420e-01,  1.55482918e-01, -5.32536954e-02,\n",
       "          1.16319314e-01,  1.23625614e-01,  6.42739907e-02],\n",
       "        [ 2.81653494e-01,  2.31141597e-01, -5.00654206e-02,\n",
       "          9.95689165e-03, -3.24248075e-02, -3.83792609e-01,\n",
       "         -8.48047882e-02,  8.71838257e-03,  2.57495213e-02,\n",
       "         -1.02674402e-02,  2.08033636e-01, -1.23388551e-01,\n",
       "          2.88392812e-01,  5.00602759e-02,  1.90793470e-01,\n",
       "         -2.82128870e-01,  1.19405046e-01, -1.26556158e-01,\n",
       "         -3.53328995e-02,  7.64285251e-02, -7.74770528e-02,\n",
       "         -1.74498811e-01, -2.49618843e-01,  2.03180298e-01,\n",
       "         -4.48538475e-02, -2.99006939e-01, -2.11811513e-01,\n",
       "         -3.72722186e-02,  1.24977082e-01, -2.82533973e-01],\n",
       "        [ 1.11175470e-01,  2.54914045e-01, -2.96966266e-02,\n",
       "         -7.22588748e-02, -3.69293094e-02, -2.70914286e-01,\n",
       "          2.61921465e-01, -3.63270901e-02,  2.92487949e-01,\n",
       "          1.40361086e-01,  2.95009345e-01,  1.49489328e-01,\n",
       "          1.34755582e-01,  3.31951141e-01, -4.33035456e-02,\n",
       "          8.21004063e-02,  3.02328020e-01,  5.18670976e-02,\n",
       "         -2.39984151e-02,  1.87834755e-01,  1.26045182e-01,\n",
       "         -3.46163481e-01, -2.20694914e-01,  1.54132973e-02,\n",
       "          2.97060281e-01,  1.61102101e-01, -5.88187464e-02,\n",
       "          2.21879303e-01, -2.45413542e-01, -3.17176640e-01],\n",
       "        [-1.58761740e-01,  1.92293786e-02,  2.25456744e-01,\n",
       "          2.26537451e-01,  1.02804899e-02,  2.66517878e-01,\n",
       "          1.04232125e-01,  1.16782337e-01,  4.36297148e-01,\n",
       "          3.04224461e-01,  2.48027638e-01, -2.91805387e-01,\n",
       "          2.23011628e-01,  2.63593215e-02,  1.94260284e-01,\n",
       "         -2.12382704e-01,  3.12234819e-01,  1.01196922e-01,\n",
       "         -2.51157135e-01, -1.78228110e-01,  5.64892218e-02,\n",
       "          6.85477927e-02,  2.81198829e-01,  2.18051180e-01,\n",
       "          9.56412926e-02, -1.26650304e-01, -1.77553758e-01,\n",
       "          3.02102715e-02,  1.43292949e-01, -7.93017149e-02],\n",
       "        [-1.47658780e-01, -3.46273035e-01, -1.11086808e-01,\n",
       "         -9.01503488e-02, -3.07370871e-01,  2.06899911e-01,\n",
       "          1.14553973e-01, -1.31860554e-01,  3.42826918e-02,\n",
       "          1.24054305e-01, -2.17805684e-01,  2.74836242e-01,\n",
       "         -5.80749065e-02,  1.58347934e-02,  1.52241796e-01,\n",
       "          6.79231212e-02, -6.77733868e-02,  1.55605346e-01,\n",
       "         -1.72487721e-01,  1.43522015e-02, -1.98304847e-01,\n",
       "         -1.68638483e-01,  3.20710748e-01, -2.21174285e-01,\n",
       "         -3.65628749e-02, -2.15289399e-01,  2.09242791e-01,\n",
       "         -1.56197593e-01, -2.19493330e-01,  1.89494893e-01],\n",
       "        [-1.99549213e-01, -3.05773705e-01, -2.57835329e-01,\n",
       "         -1.77900165e-01,  4.50161397e-02, -2.07690299e-01,\n",
       "          1.01346076e-01, -2.54021704e-01,  1.59478560e-02,\n",
       "          6.65474981e-02, -3.32403272e-01, -4.50365758e-03,\n",
       "         -8.15809891e-02,  1.05393101e-02,  1.64297760e-01,\n",
       "         -2.55670398e-01, -3.55839074e-01, -3.07555586e-01,\n",
       "          2.35103983e-02,  3.10476154e-01, -2.11318210e-01,\n",
       "         -2.20456317e-01, -2.66257435e-01,  1.06614353e-02,\n",
       "         -4.05216850e-02, -2.63170242e-01,  9.15291309e-02,\n",
       "          1.01742633e-01, -2.43770033e-01, -2.25877166e-01],\n",
       "        [-6.66910857e-02,  7.51324072e-02,  8.86598080e-02,\n",
       "         -2.13431850e-01,  2.91252136e-02, -1.35122672e-01,\n",
       "         -1.54543594e-01, -1.12217460e-02,  4.60677624e-01,\n",
       "         -2.45140374e-01,  2.32329383e-01,  6.26739934e-02,\n",
       "          2.13672936e-01,  4.33390886e-02, -3.55968811e-02,\n",
       "          2.62543529e-01,  7.45805427e-02,  4.26712424e-01,\n",
       "         -3.06453109e-01, -1.32645443e-01, -9.08389874e-03,\n",
       "          6.09933026e-02, -2.36904681e-01,  9.93891880e-02,\n",
       "         -3.33145410e-02,  2.96492010e-01,  1.13665871e-01,\n",
       "         -2.54650321e-02, -3.13139409e-02,  2.47007489e-01],\n",
       "        [ 1.47381201e-01, -2.92981595e-01, -2.43527532e-01,\n",
       "          2.17758328e-01, -2.75639474e-01, -2.63033271e-01,\n",
       "          1.13820389e-01, -5.28980680e-02, -3.03983361e-01,\n",
       "          3.81914616e-01,  1.36547565e-01, -1.16570540e-01,\n",
       "          2.80499876e-01,  1.53151318e-01, -1.91904515e-01,\n",
       "         -1.98463425e-01, -1.15095213e-01, -8.58264640e-02,\n",
       "         -1.54205590e-01, -2.90693700e-01, -7.26078823e-02,\n",
       "          1.32163882e-01, -2.21431315e-01,  2.64659196e-01,\n",
       "          3.63319628e-02, -2.68629696e-02,  1.65246025e-01,\n",
       "          1.12477452e-01,  2.27965385e-01, -2.07214683e-01],\n",
       "        [ 8.88114721e-02,  7.21254408e-01, -1.18516959e-01,\n",
       "          3.93289179e-02, -9.74056423e-02, -2.36942917e-01,\n",
       "          4.38902497e-01,  1.32844552e-01,  4.61557209e-01,\n",
       "          4.59591337e-02,  3.55355829e-01, -2.89979696e-01,\n",
       "         -3.95307183e-01,  5.19768775e-01,  2.23141596e-01,\n",
       "          1.55390710e-01,  8.99775252e-02,  7.24080980e-01,\n",
       "         -8.50244090e-02,  2.57204920e-01,  4.03541595e-01,\n",
       "          3.60222980e-02,  2.23222771e-03, -1.15671493e-01,\n",
       "         -1.86812580e-02,  1.43660367e-01,  1.08416982e-01,\n",
       "          1.77968994e-01,  2.02755585e-01,  1.87684268e-01],\n",
       "        [-1.43651199e-02, -5.82779013e-02, -3.20954680e-01,\n",
       "          3.15964907e-01, -1.93706989e-01, -3.12613100e-01,\n",
       "         -1.99335992e-01,  2.21630349e-03, -2.41843611e-01,\n",
       "         -6.92202449e-02, -1.89846575e-01, -1.49183556e-01,\n",
       "          1.64312929e-01, -3.16557318e-01, -1.97685421e-01,\n",
       "          1.92787554e-02,  1.46970958e-01, -4.17091221e-01,\n",
       "          8.53694230e-02, -1.98763937e-01, -3.44720364e-01,\n",
       "         -1.05575724e-02, -1.59101859e-01,  1.01968400e-01,\n",
       "          1.48868844e-01, -5.68770021e-02, -4.00331207e-02,\n",
       "          1.52130770e-02,  2.22017914e-01,  1.00270502e-01],\n",
       "        [ 4.67061475e-02, -1.67712778e-01, -1.20346345e-01,\n",
       "         -2.99293578e-01, -9.97653455e-02,  1.28170922e-01,\n",
       "         -2.79483378e-01,  6.36234973e-03, -2.07645342e-01,\n",
       "         -2.53266305e-01,  2.02657774e-01, -3.32397103e-01,\n",
       "         -1.30348772e-01,  2.16202810e-01,  2.09254652e-01,\n",
       "          1.65355921e-01, -1.70449182e-01,  1.94515940e-02,\n",
       "          2.15512127e-01, -8.02243724e-02, -1.14723176e-01,\n",
       "         -1.02627769e-01,  3.40537503e-02, -2.37143919e-01,\n",
       "          6.12243190e-02,  2.00088263e-01,  2.67234027e-01,\n",
       "          4.87794131e-01, -2.70076901e-01,  2.55863875e-01],\n",
       "        [ 1.28440067e-01, -6.05002761e-01, -1.14974104e-01,\n",
       "          1.40940994e-01, -1.28079653e-02, -6.68448061e-02,\n",
       "          1.16928220e-01, -1.67767569e-01, -3.35097201e-02,\n",
       "          2.99565382e-02, -4.56080120e-03,  1.22567341e-01,\n",
       "         -4.70702797e-01, -4.80326295e-01, -4.35679585e-01,\n",
       "          2.51787215e-01,  2.33043075e-01, -3.78674120e-01,\n",
       "          1.26907796e-01, -9.97952968e-02, -3.09015304e-01,\n",
       "          5.93794771e-02, -3.20926219e-01,  4.51899730e-02,\n",
       "         -5.75617254e-02,  9.73471776e-02, -8.56665000e-02,\n",
       "          7.52785653e-02, -2.49278143e-01,  7.41542801e-02],\n",
       "        [-5.11891060e-02, -3.04082006e-01, -5.50055243e-02,\n",
       "          1.12629779e-01, -1.85193956e-01, -2.52957940e-01,\n",
       "         -3.51222843e-01,  6.42495304e-02, -1.68991134e-01,\n",
       "         -3.47610533e-01, -1.21388234e-01,  3.38963978e-02,\n",
       "         -1.17831767e-01,  1.00078061e-01, -3.71184021e-01,\n",
       "         -1.30776435e-01,  1.55641943e-01,  7.33573064e-02,\n",
       "          2.70896927e-02, -1.69795737e-01, -3.06106210e-01,\n",
       "          3.37132007e-01, -5.79724237e-02, -1.24681689e-01,\n",
       "         -2.84500886e-02,  2.89660305e-01, -1.68754071e-01,\n",
       "         -2.72423953e-01,  2.28381604e-01,  4.68972661e-02],\n",
       "        [-2.69537479e-01,  3.72562110e-01, -1.61291789e-02,\n",
       "         -4.39550541e-02, -5.85861206e-02,  8.73534083e-02,\n",
       "          1.17358573e-01,  9.38667506e-02,  1.65449858e-01,\n",
       "         -2.75434583e-01, -3.36966991e-01,  2.66789168e-01,\n",
       "         -9.50824469e-02,  1.28008872e-01, -2.80047625e-01,\n",
       "          9.08258185e-02, -2.33213484e-01,  9.30919424e-02,\n",
       "         -1.26729652e-01, -1.66218922e-01, -2.69744366e-01,\n",
       "          1.72642514e-01,  3.26079279e-01, -2.93353915e-01,\n",
       "         -3.78570199e-01, -2.54671812e-01, -3.79246958e-02,\n",
       "          2.60120690e-01, -7.78188109e-02, -3.00829224e-02],\n",
       "        [ 1.98017374e-01,  4.67895061e-01, -1.24918438e-01,\n",
       "          1.15715630e-01, -2.77694881e-01,  3.26633245e-01,\n",
       "          3.27741772e-01,  2.52902746e-01,  2.89298385e-01,\n",
       "          7.27205677e-03,  3.70908856e-01,  3.12273353e-02,\n",
       "         -2.03027248e-01,  4.47023153e-01,  1.98887661e-02,\n",
       "         -1.98886599e-02,  3.37304741e-01,  5.78958631e-01,\n",
       "         -2.90218592e-01, -7.93124363e-02,  4.62407529e-01,\n",
       "         -4.27309811e-01, -1.88348234e-01, -3.45514297e-01,\n",
       "          2.32033357e-01, -3.23241860e-01,  1.11648344e-01,\n",
       "         -1.98853821e-01, -8.72459188e-02, -1.42997960e-04],\n",
       "        [ 1.07248880e-01,  3.60674322e-01, -2.56973445e-01,\n",
       "         -6.59742363e-05, -1.01594418e-01, -3.13154399e-01,\n",
       "          1.93167347e-02,  9.09549147e-02,  4.18279558e-01,\n",
       "          1.34869292e-01,  2.55171061e-01,  8.23296141e-03,\n",
       "         -1.35610551e-01,  5.12458444e-01, -1.04908394e-02,\n",
       "          3.75419736e-01,  2.98130810e-01,  4.81513590e-01,\n",
       "          4.44454513e-02, -1.67012811e-02,  1.47395238e-01,\n",
       "          1.69991646e-02, -1.59795180e-01, -5.66442087e-02,\n",
       "         -2.17092335e-01,  9.37252641e-02,  5.38591109e-02,\n",
       "          3.93509001e-01,  4.08264436e-02,  1.73920199e-01],\n",
       "        [-1.61096692e-01, -2.40434900e-01, -1.83875725e-01,\n",
       "         -2.10795537e-01, -2.50437796e-01, -7.03730360e-02,\n",
       "          1.57463953e-01,  2.78863817e-01, -1.45953789e-01,\n",
       "          3.80499065e-02, -2.47227281e-01,  1.57145098e-01,\n",
       "          2.78006554e-01, -4.51826863e-02, -1.79164827e-01,\n",
       "         -1.21258264e-02, -3.88906181e-01, -2.97920704e-01,\n",
       "         -1.38274625e-01,  5.63810468e-02, -2.86802739e-01,\n",
       "         -3.05954844e-01, -2.72766024e-01, -3.06528449e-01,\n",
       "          1.97735265e-01,  2.24397153e-01, -1.05722696e-02,\n",
       "          3.83846648e-02, -1.77702785e-01,  6.43394468e-03],\n",
       "        [-1.44861192e-01,  1.36819169e-01,  6.31016344e-02,\n",
       "         -2.10563809e-01,  1.74786448e-02, -1.57331392e-01,\n",
       "          3.61464202e-01, -1.13775745e-01,  2.33743116e-01,\n",
       "          1.85166106e-01,  2.16807485e-01,  1.35729402e-01,\n",
       "          1.31704777e-01, -1.09253705e-01,  1.14889279e-01,\n",
       "         -1.29571676e-01,  3.19257975e-01,  7.45892748e-02,\n",
       "         -1.98990881e-01, -2.57944793e-01,  8.03419426e-02,\n",
       "          6.62772506e-02,  2.16019675e-01, -5.03555015e-02,\n",
       "         -2.25034609e-01, -2.43553191e-01,  3.60667147e-02,\n",
       "         -2.93189883e-01,  4.75585572e-02, -2.27623150e-01],\n",
       "        [-6.47396296e-02, -6.26708448e-01,  1.76308081e-01,\n",
       "         -1.53657598e-02, -1.81161404e-01,  2.19959721e-01,\n",
       "          4.49108258e-02,  1.28333911e-01, -3.91507179e-01,\n",
       "         -2.57357627e-01, -2.87157685e-01,  3.99475433e-02,\n",
       "          1.36697248e-01, -7.42291152e-01, -6.07559621e-01,\n",
       "         -6.18511811e-03,  1.28380030e-01, -7.01149702e-01,\n",
       "          1.45295545e-01, -1.42499581e-01,  1.50450662e-01,\n",
       "         -2.23737255e-01,  1.95336461e-01, -2.47420713e-01,\n",
       "          1.44166192e-02,  1.08040713e-01, -4.76448145e-03,\n",
       "         -3.86109293e-01,  1.74194351e-01, -1.98857442e-01],\n",
       "        [-2.62560427e-01,  3.66729945e-02,  3.35882694e-01,\n",
       "         -1.30117059e-01,  2.29207128e-01,  2.24923342e-01,\n",
       "          4.00025666e-01, -2.89717019e-01, -1.10271521e-01,\n",
       "         -1.24419369e-02,  3.61508846e-01, -3.37939471e-01,\n",
       "          1.50089577e-01,  2.98551284e-02,  1.17510572e-01,\n",
       "          2.18962565e-01,  1.08199067e-01, -5.86404428e-02,\n",
       "          6.45000786e-02,  1.67267352e-01,  8.06897953e-02,\n",
       "         -1.24933600e-01,  1.08822808e-01, -1.12072892e-01,\n",
       "          2.95148939e-01,  8.27270448e-02,  1.11008279e-01,\n",
       "          2.16568122e-03,  2.92819887e-01, -2.05547214e-01],\n",
       "        [-1.93577185e-01,  3.61163206e-02, -3.15473348e-01,\n",
       "          2.58160502e-01,  1.83333069e-01, -4.38155904e-02,\n",
       "          2.98856229e-01,  2.12817490e-01,  1.00037411e-01,\n",
       "          1.38446569e-01,  1.11252338e-01,  1.78101823e-01,\n",
       "          5.02187759e-02, -1.22165322e-01, -2.01606214e-01,\n",
       "         -2.74939835e-01,  1.08695820e-01,  1.00703724e-02,\n",
       "         -7.90138319e-02,  1.78990155e-01,  6.53309152e-02,\n",
       "         -1.64932042e-01, -2.27049619e-01,  1.12972952e-01,\n",
       "          2.46686593e-01, -1.53721109e-01,  1.88587740e-01,\n",
       "         -6.40555844e-02,  2.68605828e-01,  1.55083999e-01],\n",
       "        [-2.38145798e-01, -1.14356175e-01, -1.17641322e-01,\n",
       "          2.07231641e-02, -1.07119411e-01,  2.89266557e-01,\n",
       "         -1.59821752e-02,  2.91135252e-01, -1.17680272e-02,\n",
       "         -3.10350806e-01, -4.17444050e-01,  3.26858610e-01,\n",
       "          1.92039445e-01,  4.86564897e-02, -3.21554810e-01,\n",
       "          1.95506454e-01, -1.74282268e-01, -1.09932005e-01,\n",
       "          5.82544394e-02,  1.00473315e-01,  1.94515169e-01,\n",
       "          1.64180562e-01,  3.04056019e-01,  1.39558509e-01,\n",
       "         -1.07966930e-01, -2.08022505e-01, -2.51107395e-01,\n",
       "          7.44334161e-02, -1.46243468e-01, -3.10220778e-01],\n",
       "        [-3.12022239e-01,  2.02283844e-01,  1.49230152e-01,\n",
       "         -2.50304341e-02,  1.17821962e-01, -1.77372113e-01,\n",
       "          3.99062559e-02, -9.33175683e-02,  1.37824386e-01,\n",
       "          2.29114536e-02,  2.17553094e-01,  1.92753881e-01,\n",
       "          7.83220604e-02,  2.56145179e-01,  3.50515433e-02,\n",
       "         -3.02480906e-01, -2.35078022e-01,  3.48326176e-01,\n",
       "         -6.88488856e-02, -3.63618284e-02,  1.92553923e-01,\n",
       "          3.65330905e-01,  8.44059139e-02, -1.65104836e-01,\n",
       "         -1.59100085e-01, -1.80417523e-01, -1.91894263e-01,\n",
       "         -2.92179465e-01, -2.15591103e-01,  8.10969844e-02],\n",
       "        [ 4.21479978e-02, -9.45341140e-02,  8.19342881e-02,\n",
       "          1.32536769e-01,  2.94079483e-02, -1.57176986e-01,\n",
       "         -7.15238824e-02,  1.36172876e-01,  2.75596559e-01,\n",
       "          1.04136914e-01, -6.96770847e-02,  9.12249386e-02,\n",
       "          2.45642573e-01, -3.23743463e-01, -3.44943047e-01,\n",
       "         -2.13168964e-01, -2.61592537e-01, -4.32351589e-01,\n",
       "         -2.38322109e-01,  6.58229664e-02,  2.46083081e-01,\n",
       "         -3.65319729e-01,  5.87896369e-02, -2.95803070e-01,\n",
       "         -2.40635827e-01,  5.95489778e-02,  2.53984600e-01,\n",
       "          7.52675906e-03, -2.67903924e-01,  1.32475629e-01],\n",
       "        [-8.77415687e-02, -1.64846271e-01,  3.16954464e-01,\n",
       "         -2.05452397e-01, -2.46199250e-01,  1.35228261e-01,\n",
       "          2.40014151e-01, -9.77293029e-02, -1.73198089e-01,\n",
       "          4.26566787e-02, -4.84549664e-02, -1.56413361e-01,\n",
       "         -3.76845062e-01, -2.92467326e-01,  1.84083238e-01,\n",
       "         -3.40414196e-01,  2.79127538e-01, -5.36407949e-03,\n",
       "          7.20752925e-02, -1.92546144e-01, -1.67840794e-01,\n",
       "         -1.38975427e-01,  2.90964186e-01,  7.14078173e-02,\n",
       "         -1.86353937e-01, -3.07659626e-01, -1.15235351e-01,\n",
       "          1.85702801e-01, -3.09604049e-01,  8.34674388e-02],\n",
       "        [-1.55057326e-01,  2.19318613e-01, -2.55127162e-01,\n",
       "         -4.48510386e-02,  2.70298123e-03, -4.90257777e-02,\n",
       "         -1.21505536e-01,  2.52001226e-01, -3.33814472e-01,\n",
       "         -1.25029132e-01, -3.11429232e-01, -4.26270775e-02,\n",
       "         -2.75001347e-01, -2.33026266e-01,  1.47807181e-01,\n",
       "         -1.87297110e-02, -2.94442087e-01,  2.21659377e-01,\n",
       "          2.17477217e-01, -2.60183066e-01, -1.00177862e-01,\n",
       "         -2.00625554e-01, -1.91277161e-01, -1.28619105e-01,\n",
       "         -2.68255472e-01,  1.53535977e-01,  3.04569364e-01,\n",
       "         -2.73106173e-02,  1.79341376e-01,  1.39306799e-01],\n",
       "        [-5.92673160e-02,  2.44865149e-01, -7.72925019e-02,\n",
       "         -2.16213446e-02, -1.09830976e-01,  1.33713529e-01,\n",
       "          2.63219118e-01, -6.20873496e-02,  2.57340670e-01,\n",
       "         -1.58862561e-01,  1.15550667e-01, -2.66470402e-01,\n",
       "          8.54331702e-02,  1.01397634e-01, -2.47360170e-01,\n",
       "          1.38348728e-01, -1.67397052e-01,  4.10977364e-01,\n",
       "         -2.70790160e-01, -5.47512509e-02,  2.31652081e-01,\n",
       "         -1.99309349e-01, -2.02458307e-01,  6.24766387e-02,\n",
       "         -7.28855208e-02, -1.16899617e-01,  2.41752222e-01,\n",
       "         -1.38099581e-01,  3.29205096e-01,  6.38555437e-02],\n",
       "        [-1.22730725e-01,  2.84485012e-01, -1.03206672e-01,\n",
       "          1.87909547e-02, -2.54524708e-01, -1.40169725e-01,\n",
       "         -8.25708434e-02,  2.33040050e-01, -3.22651595e-01,\n",
       "          2.06435323e-01,  2.93612629e-01, -2.27097109e-01,\n",
       "          1.93016440e-01,  2.53889948e-01,  1.77697986e-01,\n",
       "          3.74061614e-01,  1.25268847e-01, -1.12921245e-01,\n",
       "         -2.60715663e-01, -2.35968456e-02,  2.30863735e-01,\n",
       "         -3.14482510e-01, -1.09175153e-01, -8.13659802e-02,\n",
       "          2.35370338e-01, -2.62594610e-01, -6.26479229e-03,\n",
       "          3.06138903e-01,  1.38221115e-01,  1.24565260e-02]], dtype=float32)>,\n",
       " <tf.Variable 'hidden_2/bias:0' shape=(30,) dtype=float32, numpy=\n",
       " array([-0.05073479, -0.3115706 ,  0.02065877,  0.04552165,  0.        ,\n",
       "         0.13073026,  0.29400396, -0.00558913, -0.10076464,  0.03974206,\n",
       "         0.09498224, -0.13309555, -0.08118983,  0.01946683, -0.15840194,\n",
       "         0.04020821,  0.42905656,  0.00499531, -0.02507965, -0.01356898,\n",
       "        -0.08629507, -0.22800328,  0.03459896,  0.05799019,  0.00189468,\n",
       "         0.07773092, -0.04317584,  0.19773003, -0.01904071, -0.11278905],\n",
       "       dtype=float32)>,\n",
       " <tf.Variable 'main_output/kernel:0' shape=(35, 1) dtype=float32, numpy=\n",
       " array([[ 0.4893859 ],\n",
       "        [ 0.05256125],\n",
       "        [ 0.05047327],\n",
       "        [-0.08208177],\n",
       "        [-0.11968756],\n",
       "        [ 0.14786403],\n",
       "        [ 1.450222  ],\n",
       "        [ 0.41609398],\n",
       "        [ 0.17171732],\n",
       "        [ 0.12371266],\n",
       "        [-0.5783231 ],\n",
       "        [ 0.50425607],\n",
       "        [-0.12247366],\n",
       "        [ 1.0191463 ],\n",
       "        [ 0.22696355],\n",
       "        [ 0.4279918 ],\n",
       "        [-0.04719218],\n",
       "        [-0.576966  ],\n",
       "        [ 0.6073035 ],\n",
       "        [ 0.7076866 ],\n",
       "        [-0.12987892],\n",
       "        [ 0.5021786 ],\n",
       "        [ 0.8805643 ],\n",
       "        [-0.16042998],\n",
       "        [ 0.08593786],\n",
       "        [ 0.8606499 ],\n",
       "        [-0.70946664],\n",
       "        [-0.25106144],\n",
       "        [ 0.3352942 ],\n",
       "        [ 0.29737747],\n",
       "        [ 0.31127486],\n",
       "        [-0.21217856],\n",
       "        [-0.04327193],\n",
       "        [-0.11551276],\n",
       "        [-0.20430589]], dtype=float32)>,\n",
       " <tf.Variable 'main_output/bias:0' shape=(1,) dtype=float32, numpy=array([0.82579494], dtype=float32)>,\n",
       " <tf.Variable 'aux_output/kernel:0' shape=(30, 1) dtype=float32, numpy=\n",
       " array([[-0.13698125],\n",
       "        [ 0.5018752 ],\n",
       "        [ 0.3308242 ],\n",
       "        [ 0.28297612],\n",
       "        [ 0.21084899],\n",
       "        [-0.2213343 ],\n",
       "        [ 0.38893968],\n",
       "        [-0.2731127 ],\n",
       "        [ 0.5988851 ],\n",
       "        [-0.10917695],\n",
       "        [ 0.81008375],\n",
       "        [-0.4686481 ],\n",
       "        [-0.2961341 ],\n",
       "        [ 1.286534  ],\n",
       "        [ 0.42742229],\n",
       "        [ 0.6073905 ],\n",
       "        [ 0.0998562 ],\n",
       "        [ 1.1016182 ],\n",
       "        [-0.23835346],\n",
       "        [-0.23068047],\n",
       "        [ 0.07150723],\n",
       "        [-0.33452174],\n",
       "        [ 0.28612688],\n",
       "        [ 0.11088169],\n",
       "        [ 0.2844273 ],\n",
       "        [ 0.20976634],\n",
       "        [-0.10473823],\n",
       "        [ 0.4942989 ],\n",
       "        [-0.23254682],\n",
       "        [-0.22926213]], dtype=float32)>,\n",
       " <tf.Variable 'aux_output/bias:0' shape=(1,) dtype=float32, numpy=array([0.5398832], dtype=float32)>]"
      ]
     },
     "execution_count": 26,
     "metadata": {},
     "output_type": "execute_result"
    }
   ],
   "source": [
    "model2.weights"
   ]
  },
  {
   "cell_type": "code",
   "execution_count": 27,
   "metadata": {},
   "outputs": [
    {
     "name": "stdout",
     "output_type": "stream",
     "text": [
      "162/162 [==============================] - 0s 561us/step - loss: 0.3360 - main_output_loss: 0.3268 - aux_output_loss: 0.4188 - main_output_main_output_root_mean_squared_error: 0.5717 - main_output_main_output_mean_absolute_percentage_error: 21.3263 - aux_output_aux_output_root_mean_squared_error: 0.6471 - aux_output_aux_output_mean_absolute_percentage_error: 26.1992\n"
     ]
    }
   ],
   "source": [
    "mse_test = model2.evaluate(\n",
    "    {'wide_input': X_test_A, 'deep_input': X_test_B},\n",
    "    {'main_output': y_test, 'aux_output': y_test}\n",
    ")"
   ]
  }
 ],
 "metadata": {
  "kernelspec": {
   "display_name": "Python 3",
   "language": "python",
   "name": "python3"
  },
  "language_info": {
   "codemirror_mode": {
    "name": "ipython",
    "version": 3
   },
   "file_extension": ".py",
   "mimetype": "text/x-python",
   "name": "python",
   "nbconvert_exporter": "python",
   "pygments_lexer": "ipython3",
   "version": "3.8.5"
  }
 },
 "nbformat": 4,
 "nbformat_minor": 4
}
